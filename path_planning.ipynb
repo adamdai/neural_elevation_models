{
 "cells": [
  {
   "cell_type": "code",
   "execution_count": null,
   "metadata": {},
   "outputs": [],
   "source": [
    "import numpy as np\n",
    "import plotly.graph_objects as go\n",
    "\n",
    "import torch\n",
    "import torch.nn as nn\n",
    "import torch.nn.functional as F\n",
    "\n",
    "# CUDA support \n",
    "if torch.cuda.is_available():\n",
    "    device = torch.device('cuda')\n",
    "else:\n",
    "    device = torch.device('cpu')\n",
    "\n",
    "from siren import Siren\n",
    "\n",
    "# autoreload\n",
    "%load_ext autoreload\n",
    "%autoreload 2"
   ]
  },
  {
   "cell_type": "code",
   "execution_count": null,
   "metadata": {},
   "outputs": [],
   "source": [
    "# Load the siren elevation model\n",
    "siren = Siren(in_features=2, out_features=1, hidden_features=256,\n",
    "                hidden_layers=3, outermost_linear=True).to(device)\n",
    "\n",
    "siren.load_state_dict(torch.load('models/mt_bruno_siren.pt'))\n",
    "siren.eval()\n",
    "pass"
   ]
  },
  {
   "cell_type": "code",
   "execution_count": null,
   "metadata": {},
   "outputs": [],
   "source": [
    "# Visualize it\n",
    "xs = torch.linspace(-1, 1, steps=100, device=device)\n",
    "ys = torch.linspace(-1, 1, steps=100, device=device)\n",
    "x, y = torch.meshgrid(xs, ys, indexing='xy')\n",
    "xy = torch.hstack((x.reshape(-1, 1), y.reshape(-1, 1)))\n",
    "\n",
    "with torch.no_grad():\n",
    "    pred, coords = siren(xy)\n",
    "\n",
    "# Plot the predictions\n",
    "fig = go.Figure(data=[go.Surface(z=pred.cpu().numpy().reshape(100, 100), x=x.cpu().numpy(), y=y.cpu().numpy())])\n",
    "fig.update_layout(width=1200, height=700, scene_aspectmode='data')\n",
    "fig.show()"
   ]
  },
  {
   "cell_type": "code",
   "execution_count": null,
   "metadata": {},
   "outputs": [],
   "source": [
    "from scipy.interpolate import CubicSpline\n",
    "\n",
    "# Given three points\n",
    "xy = np.array([[-1.0, -1.0],\n",
    "               [-0.2, 0.3],\n",
    "               [0.0, 0.0],\n",
    "               [0.5, 0.6],\n",
    "               [1.0, 1.0]])\n",
    "\n",
    "# Fit a cubic spline\n",
    "cs = CubicSpline(xy[:,0], xy[:,1])\n",
    "\n",
    "# Plotting the cubic spline\n",
    "x_plot = np.linspace(-1, 1, 100)\n",
    "y_plot = cs(x_plot)\n",
    "\n",
    "fig = go.Figure()\n",
    "fig.add_trace(go.Scatter(x=x_plot, y=y_plot))\n",
    "fig.add_trace(go.Scatter(x=xy[:,0], y=xy[:,1], mode='markers'))\n",
    "# axis equal\n",
    "fig.update_layout(width=500, height=500, scene_aspectmode='data')\n",
    "fig.show()"
   ]
  },
  {
   "cell_type": "code",
   "execution_count": null,
   "metadata": {},
   "outputs": [],
   "source": [
    "cs.c"
   ]
  },
  {
   "cell_type": "code",
   "execution_count": null,
   "metadata": {},
   "outputs": [],
   "source": [
    "siren_traj = Siren(in_features=1, out_features=2, hidden_features=256,\n",
    "                hidden_layers=3, outermost_linear=True).to(device)"
   ]
  },
  {
   "cell_type": "code",
   "execution_count": null,
   "metadata": {},
   "outputs": [],
   "source": [
    "# xy = np.array([[0.0, 0.0],\n",
    "#                [0.2, 0.3],\n",
    "#                [0.3, 0.5],\n",
    "#                [0.5, 0.6],\n",
    "#                [1.0, 1.0]])\n",
    "xy = np.array([[-1.0, -1.0],\n",
    "               [-0.2, 0.3],\n",
    "               [0.0, 0.0],\n",
    "               [0.5, 0.6],\n",
    "               [1.0, 1.0]])"
   ]
  },
  {
   "cell_type": "code",
   "execution_count": null,
   "metadata": {},
   "outputs": [],
   "source": [
    "# Loss function\n",
    "criterion = nn.MSELoss()\n",
    "\n",
    "# Optimizer\n",
    "optimizer = torch.optim.Adam(siren_traj.parameters(), lr=1e-5)\n",
    "\n",
    "# Convert the data to torch tensors\n",
    "t_tensor = torch.linspace(0, 1, len(xy)).to(device)[:,None]\n",
    "xy_tensor = torch.tensor(xy, dtype=torch.float32).to(device)\n",
    "\n",
    "# Train the network\n",
    "for step in range(5000):\n",
    "    # Forward pass\n",
    "    pred, coords = siren_traj(t_tensor)\n",
    "\n",
    "    # Compute loss\n",
    "    loss = criterion(pred, xy_tensor)\n",
    "\n",
    "    # Backward pass\n",
    "    optimizer.zero_grad()\n",
    "    loss.backward()\n",
    "    optimizer.step()\n",
    "\n",
    "    # Print loss every 500 steps\n",
    "    if step % 500 == 0:\n",
    "        print(f\"Step {step}, Loss {loss.item()}\")"
   ]
  },
  {
   "cell_type": "code",
   "execution_count": null,
   "metadata": {},
   "outputs": [],
   "source": [
    "t_tensor = torch.linspace(0, 1, 100).to(device)[:,None]\n",
    "pred, coords = siren_traj(t_tensor)\n",
    "\n",
    "fig = go.Figure()\n",
    "fig.add_trace(go.Scatter(x=pred[:,0].cpu().detach().numpy(), y=pred[:,1].cpu().detach().numpy()))\n",
    "fig.add_trace(go.Scatter(x=xy[:,0], y=xy[:,1], mode='markers'))\n",
    "# axis equal\n",
    "fig.update_layout(width=500, height=500, scene_aspectmode='data')\n",
    "fig.show()"
   ]
  },
  {
   "cell_type": "code",
   "execution_count": null,
   "metadata": {},
   "outputs": [],
   "source": []
  }
 ],
 "metadata": {
  "kernelspec": {
   "display_name": "nem",
   "language": "python",
   "name": "python3"
  },
  "language_info": {
   "codemirror_mode": {
    "name": "ipython",
    "version": 3
   },
   "file_extension": ".py",
   "mimetype": "text/x-python",
   "name": "python",
   "nbconvert_exporter": "python",
   "pygments_lexer": "ipython3",
   "version": "3.8.18"
  }
 },
 "nbformat": 4,
 "nbformat_minor": 2
}
