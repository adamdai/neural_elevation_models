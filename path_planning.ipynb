{
 "cells": [
  {
   "cell_type": "code",
   "execution_count": null,
   "metadata": {},
   "outputs": [],
   "source": [
    "import numpy as np\n",
    "import plotly.graph_objects as go\n",
    "\n",
    "import torch\n",
    "import torch.nn as nn\n",
    "import torch.nn.functional as F\n",
    "\n",
    "from siren import Siren\n",
    "from global_planner import GlobalPlanner\n",
    "\n",
    "device = torch.device(\"cuda\" if torch.cuda.is_available() else \"cpu\")\n",
    "\n",
    "# autoreload\n",
    "%load_ext autoreload\n",
    "%autoreload 2"
   ]
  },
  {
   "cell_type": "markdown",
   "metadata": {},
   "source": [
    "# Mt Bruno SIREN"
   ]
  },
  {
   "cell_type": "code",
   "execution_count": null,
   "metadata": {},
   "outputs": [],
   "source": [
    "# Load the siren elevation model\n",
    "siren = Siren(in_features=2, out_features=1, hidden_features=256,\n",
    "                hidden_layers=3, outermost_linear=True).to(device)\n",
    "\n",
    "siren.load_state_dict(torch.load('models/mt_bruno_siren.pt'))\n",
    "siren.eval()\n",
    "pass"
   ]
  },
  {
   "cell_type": "code",
   "execution_count": null,
   "metadata": {},
   "outputs": [],
   "source": [
    "# Visualize it\n",
    "xs = torch.linspace(-1, 1, steps=100, device=device)\n",
    "ys = torch.linspace(-1, 1, steps=100, device=device)\n",
    "x, y = torch.meshgrid(xs, ys, indexing='xy')\n",
    "xy = torch.hstack((x.reshape(-1, 1), y.reshape(-1, 1)))\n",
    "\n",
    "pred, coords = siren(xy)\n",
    "\n",
    "# Plot the predictions\n",
    "fig = go.Figure(data=[go.Surface(z=pred.detach().cpu().numpy().reshape(100, 100), x=x.cpu().numpy(), y=y.cpu().numpy())])\n",
    "fig.update_layout(width=1200, height=700, scene_aspectmode='data')\n",
    "fig.show()"
   ]
  },
  {
   "cell_type": "code",
   "execution_count": null,
   "metadata": {},
   "outputs": [],
   "source": [
    "# Get gradients\n",
    "def gradient(y, x, grad_outputs=None):\n",
    "    if grad_outputs is None:\n",
    "        grad_outputs = torch.ones_like(y)\n",
    "    grad = torch.autograd.grad(y, [x], grad_outputs=grad_outputs, create_graph=True)[0]\n",
    "    return grad\n",
    "\n",
    "z_xy_grad = gradient(pred, coords)\n",
    "\n",
    "x_grad = z_xy_grad[:, 0].detach().cpu().numpy().reshape(100, 100)\n",
    "y_grad = z_xy_grad[:, 1].detach().cpu().numpy().reshape(100, 100)"
   ]
  },
  {
   "cell_type": "code",
   "execution_count": null,
   "metadata": {},
   "outputs": [],
   "source": [
    "GRID_LEN = 100\n",
    "\n",
    "start_idx = (0, 0)                   # (-1, -1)\n",
    "end_idx = (GRID_LEN-1, GRID_LEN-1)   # (1, 1)\n",
    "# start_idx = (0, GRID_LEN-1)           # (-1, -1)\n",
    "# end_idx = (GRID_LEN-1, 0)             # (1, 1)\n",
    "\n",
    "grad_costmat = (np.abs(x_grad) + np.abs(y_grad))"
   ]
  },
  {
   "cell_type": "code",
   "execution_count": null,
   "metadata": {},
   "outputs": [],
   "source": [
    "# Run A* on the cost matrix\n",
    "gp = GlobalPlanner(grad_costmat)\n",
    "path = gp.plan(start_idx, end_idx)\n",
    "\n",
    "path_xs = xs[path[:,0]]\n",
    "path_ys = ys[path[:,1]]\n",
    "path_xy = torch.hstack((path_xs[:,None], path_ys[:,None]))\n",
    "path_zs, _ = siren(path_xy)"
   ]
  },
  {
   "cell_type": "code",
   "execution_count": null,
   "metadata": {},
   "outputs": [],
   "source": [
    "# Plot path on surface plot\n",
    "fig = go.Figure()\n",
    "fig.add_trace(go.Surface(z=pred.detach().cpu().numpy().reshape(100, 100), x=x.cpu().numpy(), y=y.cpu().numpy()))\n",
    "fig.add_trace(go.Scatter3d(x=path_xs.detach().cpu().numpy(), \n",
    "                           y=path_ys.detach().cpu().numpy(), \n",
    "                           z=path_zs.detach().cpu().numpy().flatten(), \n",
    "                           mode='markers', marker=dict(size=3, color='red')))\n",
    "fig.update_layout(width=1200, height=700, scene_aspectmode='data')\n",
    "fig.show()"
   ]
  },
  {
   "cell_type": "markdown",
   "metadata": {},
   "source": [
    "# Lunar DEM"
   ]
  },
  {
   "cell_type": "code",
   "execution_count": null,
   "metadata": {},
   "outputs": [],
   "source": [
    "dem_full = np.load('data/lunar_dem.npy')\n",
    "Z = dem_full[:1000, :1000]\n",
    "\n",
    "# Surface plot approximately to scale\n",
    "xs = torch.linspace(0, 118500, steps=Z.shape[0], device=device)\n",
    "ys = torch.linspace(0, 118400, steps=Z.shape[1], device=device)\n",
    "x, y = torch.meshgrid(xs, ys, indexing='xy')\n",
    "\n",
    "fig = go.Figure(data=[go.Surface(z=Z, x=x.cpu().numpy(), y=y.cpu().numpy())])\n",
    "fig.update_layout(width=1200, height=700, scene_aspectmode='data')\n",
    "fig.show()"
   ]
  },
  {
   "cell_type": "code",
   "execution_count": null,
   "metadata": {},
   "outputs": [],
   "source": [
    "# Compute gradients\n",
    "x_grad = np.gradient(Z, axis=0)\n",
    "y_grad = np.gradient(Z, axis=1)\n",
    "\n",
    "grad_costmat = (np.abs(x_grad) + np.abs(y_grad))"
   ]
  },
  {
   "cell_type": "code",
   "execution_count": null,
   "metadata": {},
   "outputs": [],
   "source": [
    "start_idx = (0, 0)                  \n",
    "end_idx = (999, 999)  \n",
    "\n",
    "gp = GlobalPlanner(grad_costmat)\n",
    "path = gp.plan(start_idx, end_idx)"
   ]
  },
  {
   "cell_type": "code",
   "execution_count": null,
   "metadata": {},
   "outputs": [],
   "source": [
    "path_xs = xs[path[:,0]]\n",
    "path_ys = ys[path[:,1]]\n",
    "path_zs = Z[path[:,1], path[:,0]]"
   ]
  },
  {
   "cell_type": "code",
   "execution_count": null,
   "metadata": {},
   "outputs": [],
   "source": [
    "# Plot path on surface plot\n",
    "fig = go.Figure()\n",
    "fig.add_trace(go.Surface(z=Z, x=x.cpu().numpy(), y=y.cpu().numpy()))\n",
    "fig.add_trace(go.Scatter3d(x=path_xs.detach().cpu().numpy(), \n",
    "                           y=path_ys.detach().cpu().numpy(), \n",
    "                           z=path_zs, \n",
    "                           mode='markers', marker=dict(size=3, color='red')))\n",
    "fig.update_layout(width=1200, height=700, scene_aspectmode='data')\n",
    "fig.show()"
   ]
  },
  {
   "cell_type": "code",
   "execution_count": null,
   "metadata": {},
   "outputs": [],
   "source": []
  }
 ],
 "metadata": {
  "kernelspec": {
   "display_name": "nem",
   "language": "python",
   "name": "python3"
  },
  "language_info": {
   "codemirror_mode": {
    "name": "ipython",
    "version": 3
   },
   "file_extension": ".py",
   "mimetype": "text/x-python",
   "name": "python",
   "nbconvert_exporter": "python",
   "pygments_lexer": "ipython3",
   "version": "3.8.18"
  }
 },
 "nbformat": 4,
 "nbformat_minor": 2
}
