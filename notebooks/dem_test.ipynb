{
 "cells": [
  {
   "cell_type": "code",
   "execution_count": null,
   "metadata": {},
   "outputs": [],
   "source": [
    "import numpy as np\n",
    "import cv2\n",
    "from tqdm import tqdm\n",
    "import matplotlib.pyplot as plt\n",
    "import plotly.graph_objects as go\n",
    "from PIL import Image\n",
    "\n",
    "import torch\n",
    "import torch.nn as nn\n",
    "import torch.nn.functional as F\n",
    "\n",
    "from nemo.siren import Siren\n",
    "from nemo.plotting import plot_3d_points, plot_surface, plot_path_3d\n",
    "\n",
    "device = torch.device(\"cuda\" if torch.cuda.is_available() else \"cpu\")\n",
    "\n",
    "# autoreload\n",
    "%load_ext autoreload\n",
    "%autoreload 2"
   ]
  },
  {
   "cell_type": "markdown",
   "metadata": {},
   "source": [
    "## AirSim Landscape Mountains"
   ]
  },
  {
   "cell_type": "code",
   "execution_count": null,
   "metadata": {},
   "outputs": [],
   "source": [
    "vertices = np.load('../data/landscape_mountains_full.npy')\n",
    "xmin, ymin, zmin = np.min(vertices, axis=0)\n",
    "xmax, ymax, zmax = np.max(vertices, axis=0)"
   ]
  },
  {
   "cell_type": "code",
   "execution_count": null,
   "metadata": {},
   "outputs": [],
   "source": [
    "# Convert png to numpy\n",
    "heightmap_path = '../data/landscape_mountains_heightmap.png'\n",
    "image = Image.open(heightmap_path)\n",
    "heightmap = np.array(image)"
   ]
  },
  {
   "cell_type": "code",
   "execution_count": null,
   "metadata": {},
   "outputs": [],
   "source": [
    "scale = (zmax - zmin) / (heightmap.max() - heightmap.min())\n",
    "Z = scale * heightmap"
   ]
  },
  {
   "cell_type": "code",
   "execution_count": null,
   "metadata": {},
   "outputs": [],
   "source": [
    "x = np.linspace(xmin, xmax, heightmap.shape[0])\n",
    "y = np.linspace(ymin, ymax, heightmap.shape[1])\n",
    "X, Y = np.meshgrid(x, y)"
   ]
  },
  {
   "cell_type": "code",
   "execution_count": null,
   "metadata": {},
   "outputs": [],
   "source": [
    "player_start = np.array([-374.47859375, -723.12984375])\n",
    "airsim_spiral_center = np.array([99, -449])\n",
    "unreal_spiral_center = airsim_spiral_center + player_start\n",
    "spiral_radius = 400"
   ]
  },
  {
   "cell_type": "code",
   "execution_count": null,
   "metadata": {},
   "outputs": [],
   "source": [
    "i = (x > unreal_spiral_center[0] - spiral_radius) & (x < unreal_spiral_center[0] + spiral_radius)\n",
    "j = (y > unreal_spiral_center[1] - spiral_radius) & (y < unreal_spiral_center[1] + spiral_radius)"
   ]
  },
  {
   "cell_type": "code",
   "execution_count": null,
   "metadata": {},
   "outputs": [],
   "source": [
    "X = X[np.ix_(i,j)] - player_start[0]\n",
    "Y = Y[np.ix_(i,j)] - player_start[1]\n",
    "Z = Z[np.ix_(i,j)]"
   ]
  },
  {
   "cell_type": "code",
   "execution_count": null,
   "metadata": {},
   "outputs": [],
   "source": [
    "# Downsample\n",
    "# heightmap = heightmap[::5, ::5]\n",
    "# X = X[::5, ::5]\n",
    "# Y = Y[::5, ::5]\n",
    "\n",
    "# Surface plot\n",
    "plot_surface(x=X, y=Y, z=Z)"
   ]
  },
  {
   "cell_type": "markdown",
   "metadata": {},
   "source": [
    "# Unreal Moon"
   ]
  },
  {
   "cell_type": "code",
   "execution_count": null,
   "metadata": {},
   "outputs": [],
   "source": [
    "heightmap_path = '../data/unreal_moon_heightmap.png'\n",
    "image = Image.open(heightmap_path)\n",
    "heightmap = np.array(image)"
   ]
  },
  {
   "cell_type": "code",
   "execution_count": null,
   "metadata": {},
   "outputs": [],
   "source": [
    "(np.array([5184.151855, -182487.484375, 1295.814209]) + np.array([110060.0, -148820.0, 25740.0])) / 200\n"
   ]
  },
  {
   "cell_type": "code",
   "execution_count": null,
   "metadata": {},
   "outputs": [],
   "source": [
    "unreal_player_start_m = np.array([52, -1825])\n",
    "center_idx = unreal_player_start_m + np.array([4064, 4064])"
   ]
  },
  {
   "cell_type": "code",
   "execution_count": null,
   "metadata": {},
   "outputs": [],
   "source": [
    "# 2D heatmap plot\n",
    "plt.imshow(heightmap, cmap='gray')\n",
    "\n",
    "# draw a point at center idx\n",
    "plt.scatter(center_idx[0], center_idx[1], color='red')\n",
    "\n",
    "plt.show()"
   ]
  },
  {
   "cell_type": "code",
   "execution_count": null,
   "metadata": {},
   "outputs": [],
   "source": [
    "unreal_player_start_m = np.array([52, -1825])\n",
    "center_idx = unreal_player_start_m + np.array([4064, 4064])\n",
    "print(f\"center_idx: {center_idx}\")\n",
    "\n",
    "PATCH_WIDTH_M = 1000\n",
    "patch_min = (center_idx[0]-PATCH_WIDTH_M//2, center_idx[1]-PATCH_WIDTH_M//2)\n",
    "patch_max = (center_idx[0]+PATCH_WIDTH_M//2, center_idx[1]+PATCH_WIDTH_M//2)\n",
    "print(f\"patch_min: {patch_min}\")\n",
    "print(f\"patch_max: {patch_max}\")\n",
    "patch = heightmap[patch_min[1]:patch_max[1], patch_min[0]:patch_max[0]]\n",
    "\n",
    "# Plot the full heightmap with a box around the patch\n",
    "plt.imshow(heightmap, cmap='gray')\n",
    "plt.plot([patch_min[0], patch_max[0], patch_max[0], patch_min[0], patch_min[0]],\n",
    "         [patch_min[1], patch_min[1], patch_max[1], patch_max[1], patch_min[1]], color='red')\n",
    "plt.show()"
   ]
  },
  {
   "cell_type": "code",
   "execution_count": null,
   "metadata": {},
   "outputs": [],
   "source": [
    "plt.imshow(patch, cmap='gray')"
   ]
  },
  {
   "cell_type": "code",
   "execution_count": null,
   "metadata": {},
   "outputs": [],
   "source": [
    "x = np.linspace(-PATCH_WIDTH_M/2, PATCH_WIDTH_M/2, PATCH_WIDTH_M)\n",
    "y = np.linspace(-PATCH_WIDTH_M/2, PATCH_WIDTH_M/2, PATCH_WIDTH_M)\n",
    "X, Y = np.meshgrid(x, y)\n",
    "\n",
    "# trajectory = np.load('../data/trajectory.npz')['trajectory']\n",
    "\n",
    "HEIGHT_SCALE = 257\n",
    "\n",
    "patch_adj = patch / HEIGHT_SCALE\n",
    "\n",
    "starting_z = patch_adj[PATCH_WIDTH_M//2, PATCH_WIDTH_M//2]\n",
    "# patch_adj = patch_adj - starting_z + trajectory[0,2]\n",
    "patch_adj = patch_adj - starting_z \n",
    "\n",
    "# trajectory[:,2] -= trajectory[0,2]\n",
    "\n",
    "# # rotate trajectory to align\n",
    "# trajectory[:,[0,1]] = trajectory[:,[1,0]]\n",
    "# trajectory[:,1] *= -1\n",
    "\n",
    "# rotate patch to align\n",
    "patch_adj = np.rot90(patch_adj)"
   ]
  },
  {
   "cell_type": "code",
   "execution_count": null,
   "metadata": {},
   "outputs": [],
   "source": [
    "# query heights along trajectory\n",
    "trajectory_heights = []\n",
    "img_traj = []\n",
    "for k in range(trajectory.shape[0]):\n",
    "    x, y = trajectory[k,:2]\n",
    "    i = int(-y) + PATCH_WIDTH_M//2\n",
    "    j = int(x) + PATCH_WIDTH_M//2\n",
    "    trajectory_heights.append(patch_adj[i, j])\n",
    "    img_traj.append((i, j))\n",
    "\n",
    "trajectory_heights = np.array(trajectory_heights)\n",
    "\n",
    "# Compute error\n",
    "error = trajectory_heights - trajectory[:,2]\n",
    "print(f\"Mean error: {np.mean(np.abs(error))}\")\n",
    "\n",
    "# Plot trajectory\n",
    "plt.imshow(patch_adj, cmap='gray')\n",
    "plt.plot([j for i,j in img_traj], [i for i,j in img_traj], color='red')\n",
    "plt.show()"
   ]
  },
  {
   "cell_type": "code",
   "execution_count": null,
   "metadata": {},
   "outputs": [],
   "source": [
    "fig = go.Figure()\n",
    "# plot_path_3d(trajectory[:,0], trajectory[:,1], trajectory[:,2], fig=fig)\n",
    "plot_surface(x=X, y=-Y, z=patch_adj, fig=fig)"
   ]
  },
  {
   "cell_type": "code",
   "execution_count": null,
   "metadata": {},
   "outputs": [],
   "source": [
    "# TODO: plot camera poses\n",
    "import json\n",
    "\n",
    "transforms_path = '../../nerfstudio/data/moon_spiral_2/transforms.json'\n",
    "with open(transforms_path, 'r') as f:\n",
    "    transforms = json.load(f)\n",
    "\n",
    "poses = []\n",
    "for frame in transforms['frames']:\n",
    "    T = np.array(frame['transform_matrix'])\n",
    "    R, t = T[:3, :3], 5.0 * T[:3, 3]\n",
    "    poses.append((R, t))\n",
    "\n",
    "poses = pose_traces(poses)\n",
    "\n",
    "# Create and show the plot with all the traces\n",
    "# fig = go.Figure(data=poses)\n",
    "fig.add_traces(poses)\n",
    "fig.update_layout(height=900, width=1600, scene=dict(aspectmode='data'))\n",
    "fig.show()"
   ]
  },
  {
   "cell_type": "code",
   "execution_count": null,
   "metadata": {},
   "outputs": [],
   "source": []
  },
  {
   "cell_type": "code",
   "execution_count": null,
   "metadata": {},
   "outputs": [],
   "source": [
    "fig.write_html('../data/moon_trajectory.html')"
   ]
  },
  {
   "cell_type": "code",
   "execution_count": null,
   "metadata": {},
   "outputs": [],
   "source": [
    "from nemo.util import generate_ply_from_dem\n",
    "\n",
    "dem_points = np.stack([X.flatten(), -Y.flatten(), patch_adj.flatten()], axis=1)\n",
    "colors = 128 * np.ones_like(dem_points)\n",
    "\n",
    "generate_ply_from_dem(dem_points, colors, '../data/sparse_pc.ply')"
   ]
  },
  {
   "cell_type": "markdown",
   "metadata": {},
   "source": [
    "# Lunar DEM"
   ]
  },
  {
   "cell_type": "code",
   "execution_count": null,
   "metadata": {},
   "outputs": [],
   "source": [
    "img_np = np.load('../data/lunar_dem.npy')"
   ]
  },
  {
   "cell_type": "code",
   "execution_count": null,
   "metadata": {},
   "outputs": [],
   "source": [
    "img_np.shape"
   ]
  },
  {
   "cell_type": "code",
   "execution_count": null,
   "metadata": {},
   "outputs": [],
   "source": [
    "img_np_ds = img_np[::100, ::100]\n",
    "# make figure biffer\n",
    "fig = plt.figure(figsize=(15, 30))\n",
    "plt.imshow(img_np_ds)\n",
    "plt.show()"
   ]
  },
  {
   "cell_type": "code",
   "execution_count": null,
   "metadata": {},
   "outputs": [],
   "source": [
    "# Look at 1000x1000 patch in the top left corner\n",
    "patch = img_np[:1000, :1000]\n",
    "Z = patch\n",
    "\n",
    "# Display the image\n",
    "plt.imshow(patch)\n",
    "plt.show()"
   ]
  },
  {
   "cell_type": "markdown",
   "metadata": {},
   "source": [
    "### Surface plot to scale"
   ]
  },
  {
   "cell_type": "code",
   "execution_count": null,
   "metadata": {},
   "outputs": [],
   "source": [
    "xs = torch.linspace(0, 118500, steps=Z.shape[0], device=device)\n",
    "ys = torch.linspace(0, 118400, steps=Z.shape[1], device=device)\n",
    "x, y = torch.meshgrid(xs, ys, indexing='xy')\n",
    "\n",
    "fig = go.Figure(data=[go.Surface(z=Z, x=x.cpu().numpy(), y=y.cpu().numpy())])\n",
    "fig.update_layout(width=1200, height=700, scene_aspectmode='data')\n",
    "fig.show()"
   ]
  },
  {
   "cell_type": "markdown",
   "metadata": {},
   "source": [
    "### Scale to -1 to 1"
   ]
  },
  {
   "cell_type": "code",
   "execution_count": null,
   "metadata": {},
   "outputs": [],
   "source": [
    "Z_normalized = 1 * (Z - np.min(Z)) / (np.max(Z) - np.min(Z))   # 0 to 1\n",
    "xs = torch.linspace(-1, 1, steps=Z.shape[0], device=device)\n",
    "ys = torch.linspace(-1, 1, steps=Z.shape[1], device=device)\n",
    "x, y = torch.meshgrid(xs, ys, indexing='xy')\n",
    "xy = torch.hstack((x.reshape(-1, 1), y.reshape(-1, 1)))"
   ]
  },
  {
   "cell_type": "code",
   "execution_count": null,
   "metadata": {},
   "outputs": [],
   "source": [
    "fig = go.Figure(data=[go.Surface(z=Z_normalized, x=x.cpu().numpy(), y=y.cpu().numpy())])\n",
    "fig.update_layout(width=1200, height=700, scene_aspectmode='data')\n",
    "fig.show()"
   ]
  },
  {
   "cell_type": "code",
   "execution_count": null,
   "metadata": {},
   "outputs": [],
   "source": [
    "siren = Siren(in_features=2, \n",
    "              out_features=1, \n",
    "              hidden_features=256,\n",
    "              hidden_layers=3, \n",
    "              outermost_linear=True,\n",
    "              first_omega_0=30.0,\n",
    "              hidden_omega_0=100.0).to(device)\n",
    "\n",
    "siren.load_state_dict(torch.load('../models/lunar_dem_siren.pth'))\n",
    "siren.eval()\n",
    "pass"
   ]
  },
  {
   "cell_type": "code",
   "execution_count": null,
   "metadata": {},
   "outputs": [],
   "source": [
    "with torch.no_grad():\n",
    "    pred, coords = siren(xy)"
   ]
  },
  {
   "cell_type": "code",
   "execution_count": null,
   "metadata": {},
   "outputs": [],
   "source": [
    "# Plot the predictions\n",
    "fig = go.Figure(data=[go.Surface(z=pred.cpu().numpy().reshape(Z.shape), x=x.cpu().numpy(), y=y.cpu().numpy())])\n",
    "fig.update_layout(width=1200, height=700, scene_aspectmode='data')\n",
    "fig.show()"
   ]
  },
  {
   "cell_type": "markdown",
   "metadata": {},
   "source": [
    "# SIREN"
   ]
  },
  {
   "cell_type": "markdown",
   "metadata": {},
   "source": [
    "### Mt Bruno elevation data"
   ]
  },
  {
   "cell_type": "code",
   "execution_count": null,
   "metadata": {},
   "outputs": [],
   "source": [
    "# import pandas as pd\n",
    "# z_data = pd.read_csv('https://raw.githubusercontent.com/plotly/datasets/master/api_docs/mt_bruno_elevation.csv')\n",
    "# z_data.values\n",
    "\n",
    "# np.save('../data/mt_bruno_elevation.npy', z_data.values)"
   ]
  },
  {
   "cell_type": "code",
   "execution_count": null,
   "metadata": {},
   "outputs": [],
   "source": [
    "z_vals = np.load('../data/mt_bruno_elevation.npy')\n",
    "\n",
    "# Guess the xy scale\n",
    "xy = 200 * np.mgrid[-12:13, -12:13]\n",
    "xvals = xy[0]\n",
    "yvals = xy[1]\n",
    "\n",
    "# Plot the data\n",
    "fig = go.Figure(data=[go.Surface(z=z_vals, x=xvals, y=yvals)])\n",
    "fig.update_layout(width=1200, height=700, scene_aspectmode='data')\n",
    "fig.show()"
   ]
  },
  {
   "cell_type": "code",
   "execution_count": null,
   "metadata": {},
   "outputs": [],
   "source": [
    "# Scale the XY data to -1 to 1\n",
    "xy_scaled = xy / 2400\n",
    "x_scaled = xy_scaled[0]\n",
    "y_scaled = xy_scaled[1]\n",
    "z_scaled = z_vals / np.max(z_vals)"
   ]
  },
  {
   "cell_type": "code",
   "execution_count": null,
   "metadata": {},
   "outputs": [],
   "source": [
    "# Plot the scaled data\n",
    "fig = go.Figure(data=[go.Surface(z=z_scaled, x=x_scaled, y=y_scaled)])\n",
    "fig.update_layout(width=1200, height=700, scene_aspectmode='data')\n",
    "fig.show()"
   ]
  },
  {
   "cell_type": "code",
   "execution_count": null,
   "metadata": {},
   "outputs": [],
   "source": [
    "# Fit a Siren network to the data\n",
    "\n",
    "siren = Siren(in_features=2, out_features=1, hidden_features=256,\n",
    "                hidden_layers=3, outermost_linear=True).to(device)"
   ]
  },
  {
   "cell_type": "code",
   "execution_count": null,
   "metadata": {},
   "outputs": [],
   "source": [
    "# Train the network\n",
    "\n",
    "# Loss function\n",
    "criterion = nn.MSELoss()\n",
    "\n",
    "# Optimizer\n",
    "optimizer = torch.optim.Adam(siren.parameters(), lr=1e-5)\n",
    "\n",
    "# Convert the data to torch tensors\n",
    "xy_tensor = torch.tensor(xy_scaled, dtype=torch.float32).to(device)\n",
    "xy_tensor = xy_tensor.reshape(2, -1).T\n",
    "z_tensor = torch.tensor(z_scaled, dtype=torch.float32).to(device)\n",
    "z_tensor = z_tensor.reshape(-1, 1)\n",
    "\n",
    "# Train the network\n",
    "for step in range(5000):\n",
    "    # Forward pass\n",
    "    # pred, coords = siren(xy_tensor)\n",
    "    pred = siren(xy_tensor)\n",
    "\n",
    "    # Compute loss\n",
    "    loss = criterion(pred, z_tensor)\n",
    "\n",
    "    # Backward pass\n",
    "    optimizer.zero_grad()\n",
    "    loss.backward()\n",
    "    optimizer.step()\n",
    "\n",
    "    # Print loss every 500 steps\n",
    "    if step % 500 == 0:\n",
    "        print(f\"Step {step}, Loss {loss.item()}\")"
   ]
  },
  {
   "cell_type": "code",
   "execution_count": null,
   "metadata": {},
   "outputs": [],
   "source": [
    "torch.save(siren.state_dict(), '../models/mt_bruno_siren.pt')"
   ]
  },
  {
   "cell_type": "code",
   "execution_count": null,
   "metadata": {},
   "outputs": [],
   "source": [
    "# Sample the Siren network to get the predicted elevation\n",
    "with torch.no_grad():\n",
    "    pred, coords = siren(xy_tensor)\n",
    "\n",
    "# Plot the predictions\n",
    "fig = go.Figure(data=[go.Surface(z=pred.cpu().numpy().reshape(25, 25), x=x_scaled, y=y_scaled)])\n",
    "fig.update_layout(width=1200, height=700, scene_aspectmode='data')\n",
    "fig.show()"
   ]
  },
  {
   "cell_type": "code",
   "execution_count": null,
   "metadata": {},
   "outputs": [],
   "source": [
    "# MSE loss\n",
    "criterion(pred, z_tensor)"
   ]
  },
  {
   "cell_type": "markdown",
   "metadata": {},
   "source": [
    "Increase the sampling resolution"
   ]
  },
  {
   "cell_type": "code",
   "execution_count": null,
   "metadata": {},
   "outputs": [],
   "source": [
    "xs = torch.linspace(-1, 1, steps=100, device=device)\n",
    "ys = torch.linspace(-1, 1, steps=100, device=device)\n",
    "x, y = torch.meshgrid(xs, ys, indexing='xy')\n",
    "xy = torch.hstack((x.reshape(-1, 1), y.reshape(-1, 1)))"
   ]
  },
  {
   "cell_type": "code",
   "execution_count": null,
   "metadata": {},
   "outputs": [],
   "source": [
    "with torch.no_grad():\n",
    "    pred, coords = siren(xy)\n",
    "\n",
    "# Plot the predictions\n",
    "fig = go.Figure(data=[go.Surface(z=pred.cpu().numpy().reshape(100, 100), x=x.cpu().numpy(), y=y.cpu().numpy())])\n",
    "fig.update_layout(width=1200, height=700, scene_aspectmode='data')\n",
    "fig.show()"
   ]
  },
  {
   "cell_type": "markdown",
   "metadata": {},
   "source": [
    "# Plan a path over the SIREN"
   ]
  },
  {
   "cell_type": "markdown",
   "metadata": {},
   "source": [
    "Compute spatial derivatives"
   ]
  },
  {
   "cell_type": "code",
   "execution_count": null,
   "metadata": {},
   "outputs": [],
   "source": [
    "siren = Siren(in_features=2, out_features=1, hidden_features=256,\n",
    "                hidden_layers=3, outermost_linear=True).to(device)\n",
    "\n",
    "siren.load_state_dict(torch.load('../models/mt_bruno_siren.pt'))\n",
    "siren.eval()"
   ]
  },
  {
   "cell_type": "code",
   "execution_count": null,
   "metadata": {},
   "outputs": [],
   "source": [
    "z_pred, coords = siren(xy)"
   ]
  },
  {
   "cell_type": "code",
   "execution_count": null,
   "metadata": {},
   "outputs": [],
   "source": [
    "def gradient(y, x, grad_outputs=None):\n",
    "    if grad_outputs is None:\n",
    "        grad_outputs = torch.ones_like(y)\n",
    "    grad = torch.autograd.grad(y, [x], grad_outputs=grad_outputs, create_graph=True)[0]\n",
    "    return grad"
   ]
  },
  {
   "cell_type": "code",
   "execution_count": null,
   "metadata": {},
   "outputs": [],
   "source": [
    "z_xy_grad = gradient(z_pred, coords)\n",
    "\n",
    "x_grad = z_xy_grad[:, 0].detach().cpu().numpy().reshape(100, 100)\n",
    "y_grad = z_xy_grad[:, 1].detach().cpu().numpy().reshape(100, 100)"
   ]
  },
  {
   "cell_type": "code",
   "execution_count": null,
   "metadata": {},
   "outputs": [],
   "source": [
    "# Visualize the gradients at 2D heatmaps\n",
    "\n",
    "from plotly.subplots import make_subplots\n",
    "\n",
    "fig = make_subplots(rows=1, cols=2, subplot_titles=('X Gradient', 'Y Gradient'))\n",
    "fig.add_trace(go.Heatmap(z=x_grad), row=1, col=1)\n",
    "fig.add_trace(go.Heatmap(z=y_grad), row=1, col=2)\n",
    "fig.update_layout(width=1400, height=700, scene_aspectmode='data')\n",
    "fig.show()"
   ]
  },
  {
   "cell_type": "markdown",
   "metadata": {},
   "source": [
    "## Plan a discrete path\n",
    "\n",
    "from $(-1, 1)$ to $(1, 1)$\n",
    "\n",
    "We want the path that minimizes distance (number of waypoints) and XY gradient values"
   ]
  },
  {
   "cell_type": "code",
   "execution_count": null,
   "metadata": {},
   "outputs": [],
   "source": [
    "GRID_LEN = 100\n",
    "\n",
    "# start_idx = (0, 0)                   # (-1, -1)\n",
    "# end_idx = (GRID_LEN-1, GRID_LEN-1)   # (1, 1)\n",
    "\n",
    "start_idx = (0, GRID_LEN-1)                   # (-1, -1)\n",
    "end_idx = (GRID_LEN-1, 0)   # (1, 1)\n",
    "\n",
    "grad_costmat = (np.abs(x_grad) + np.abs(y_grad))"
   ]
  },
  {
   "cell_type": "code",
   "execution_count": null,
   "metadata": {},
   "outputs": [],
   "source": [
    "# Run A* on the cost matrix\n",
    "from global_planner import GlobalPlanner\n",
    "\n",
    "gp = GlobalPlanner(grad_costmat)\n",
    "path = gp.plan(start_idx, end_idx)\n",
    "\n",
    "fig, ax = plt.subplots(figsize=(10,10))\n",
    "gp.plot(ax)\n",
    "plt.show()"
   ]
  },
  {
   "cell_type": "code",
   "execution_count": null,
   "metadata": {},
   "outputs": [],
   "source": [
    "grad_costmat"
   ]
  },
  {
   "cell_type": "code",
   "execution_count": null,
   "metadata": {},
   "outputs": [],
   "source": [
    "path_xs = xs[path[:,0]]\n",
    "path_ys = ys[path[:,1]]\n",
    "path_xy = torch.hstack((path_xs[:,None], path_ys[:,None]))\n",
    "path_zs, _ = siren(path_xy)"
   ]
  },
  {
   "cell_type": "code",
   "execution_count": null,
   "metadata": {},
   "outputs": [],
   "source": [
    "# Plot path on surface plot\n",
    "fig = go.Figure()\n",
    "fig.add_trace(go.Surface(z=pred.cpu().numpy().reshape(100, 100), x=x.cpu().numpy(), y=y.cpu().numpy()))\n",
    "fig.add_trace(go.Scatter3d(x=path_xs.detach().cpu().numpy(), \n",
    "                           y=path_ys.detach().cpu().numpy(), \n",
    "                           z=path_zs.detach().cpu().numpy().flatten(), \n",
    "                           mode='markers', marker=dict(size=3, color='red')))\n",
    "fig.update_layout(width=1200, height=700, scene_aspectmode='data')\n",
    "fig.show()"
   ]
  },
  {
   "cell_type": "code",
   "execution_count": null,
   "metadata": {},
   "outputs": [],
   "source": [
    "# save fig as html\n",
    "fig.write_html('path.html')"
   ]
  },
  {
   "cell_type": "markdown",
   "metadata": {},
   "source": [
    "# Point Cloud DEM\n",
    "\n",
    "Form k-D tree over 3D point cloud.\n",
    "\n",
    "For 2D point $(x,y)$, find $N$ points in $xy$ (or all points within some $xy$ radius).\n",
    "\n",
    "Fit a plane to these points using RANSAC to obtain slope\n",
    "\n"
   ]
  },
  {
   "cell_type": "code",
   "execution_count": null,
   "metadata": {},
   "outputs": [],
   "source": [
    "# Load COLMAP point cloud"
   ]
  },
  {
   "cell_type": "code",
   "execution_count": null,
   "metadata": {},
   "outputs": [],
   "source": [
    "tile_name = 'SLDEM2015_256_60S_0S_120_240'\n",
    "img_np = np.load(f'../data/{tile_name}.npy')"
   ]
  },
  {
   "cell_type": "code",
   "execution_count": null,
   "metadata": {},
   "outputs": [],
   "source": [
    "N = 250\n",
    "patch = img_np[:N, :N]\n",
    "z = patch\n",
    "\n",
    "# Scale x and y\n",
    "xs = np.linspace(0, 118.45*N, num=z.shape[0])\n",
    "ys = np.linspace(0, 118.45*N, num=z.shape[1])\n",
    "x, y = np.meshgrid(xs, ys, indexing='xy')\n",
    "\n",
    "pc_dem = np.vstack((x.flatten(), y.flatten(), z.flatten())).T\n",
    "\n",
    "# Plot the data\n",
    "fig = plot_3d_points(x=pc_dem[:,0], y=pc_dem[:,1], z=pc_dem[:,2], color=pc_dem[:,2], markersize=1)\n",
    "fig.show()"
   ]
  },
  {
   "cell_type": "code",
   "execution_count": null,
   "metadata": {},
   "outputs": [],
   "source": [
    "from scipy.spatial import kdtree\n",
    "\n",
    "pc_tree = kdtree(pc_dem)"
   ]
  },
  {
   "cell_type": "code",
   "execution_count": null,
   "metadata": {},
   "outputs": [],
   "source": [
    "query = np.array([0, 0])\n",
    "\n"
   ]
  },
  {
   "cell_type": "markdown",
   "metadata": {},
   "source": [
    "# Mesh DEM\n",
    "\n",
    "Triangulate 3D points using Delaunay.\n",
    "\n",
    "Move between triangles (triangles are nodes), shared faces are edges. Slope is slope of triangle.\n",
    "* Not dynamically feasible\n",
    "\n",
    "For 2D point $(x,y)$, find the triangle which intersects vertical line extending up from $(x,y)$. Slope is slope of this triangle\n"
   ]
  },
  {
   "cell_type": "code",
   "execution_count": null,
   "metadata": {},
   "outputs": [],
   "source": [
    "from scipy.spatial import Delaunay"
   ]
  },
  {
   "cell_type": "code",
   "execution_count": null,
   "metadata": {},
   "outputs": [],
   "source": [
    "mesh = Delaunay(pc_dem)"
   ]
  },
  {
   "cell_type": "code",
   "execution_count": null,
   "metadata": {},
   "outputs": [],
   "source": [
    "mesh.vertices"
   ]
  },
  {
   "cell_type": "code",
   "execution_count": null,
   "metadata": {},
   "outputs": [],
   "source": [
    "mesh"
   ]
  },
  {
   "cell_type": "markdown",
   "metadata": {},
   "source": [
    "# Implicit Surface DEM\n",
    "\n",
    "Surface represented with SDF\n",
    "\n",
    "Plan path in 3D, but with constraint loss to stay on the surface "
   ]
  },
  {
   "cell_type": "code",
   "execution_count": null,
   "metadata": {},
   "outputs": [],
   "source": []
  }
 ],
 "metadata": {
  "kernelspec": {
   "display_name": "nemo",
   "language": "python",
   "name": "python3"
  },
  "language_info": {
   "codemirror_mode": {
    "name": "ipython",
    "version": 3
   },
   "file_extension": ".py",
   "mimetype": "text/x-python",
   "name": "python",
   "nbconvert_exporter": "python",
   "pygments_lexer": "ipython3",
   "version": "3.8.19"
  }
 },
 "nbformat": 4,
 "nbformat_minor": 2
}
