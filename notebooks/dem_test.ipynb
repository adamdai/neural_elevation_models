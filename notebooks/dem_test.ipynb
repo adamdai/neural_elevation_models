{
 "cells": [
  {
   "cell_type": "code",
   "execution_count": 1,
   "metadata": {},
   "outputs": [],
   "source": [
    "import numpy as np\n",
    "import cv2\n",
    "from tqdm import tqdm\n",
    "import matplotlib.pyplot as plt\n",
    "import plotly.graph_objects as go\n",
    "\n",
    "import torch\n",
    "import torch.nn as nn\n",
    "import torch.nn.functional as F\n",
    "\n",
    "from nemo.siren import Siren\n",
    "\n",
    "device = torch.device(\"cuda\" if torch.cuda.is_available() else \"cpu\")\n",
    "\n",
    "# autoreload\n",
    "%load_ext autoreload\n",
    "%autoreload 2"
   ]
  },
  {
   "cell_type": "markdown",
   "metadata": {},
   "source": [
    "# Lunar DEM"
   ]
  },
  {
   "cell_type": "code",
   "execution_count": 2,
   "metadata": {},
   "outputs": [],
   "source": [
    "img_np = np.load('../data/lunar_dem.npy')"
   ]
  },
  {
   "cell_type": "code",
   "execution_count": null,
   "metadata": {},
   "outputs": [],
   "source": [
    "img_np.shape"
   ]
  },
  {
   "cell_type": "code",
   "execution_count": null,
   "metadata": {},
   "outputs": [],
   "source": [
    "img_np_ds = img_np[::100, ::100]\n",
    "plt.imshow(img_np_ds)\n",
    "plt.show()"
   ]
  },
  {
   "cell_type": "code",
   "execution_count": null,
   "metadata": {},
   "outputs": [],
   "source": [
    "# Look at 1000x1000 patch in the top left corner\n",
    "patch = img_np[:1000, :1000]\n",
    "Z = patch\n",
    "\n",
    "# Display the image\n",
    "plt.imshow(patch)\n",
    "plt.show()"
   ]
  },
  {
   "cell_type": "markdown",
   "metadata": {},
   "source": [
    "### Surface plot to scale"
   ]
  },
  {
   "cell_type": "code",
   "execution_count": null,
   "metadata": {},
   "outputs": [],
   "source": [
    "xs = torch.linspace(0, 118500, steps=Z.shape[0], device=device)\n",
    "ys = torch.linspace(0, 118400, steps=Z.shape[1], device=device)\n",
    "x, y = torch.meshgrid(xs, ys, indexing='xy')\n",
    "\n",
    "fig = go.Figure(data=[go.Surface(z=Z, x=x.cpu().numpy(), y=y.cpu().numpy())])\n",
    "fig.update_layout(width=1200, height=700, scene_aspectmode='data')\n",
    "fig.show()"
   ]
  },
  {
   "cell_type": "markdown",
   "metadata": {},
   "source": [
    "### Scale to -1 to 1"
   ]
  },
  {
   "cell_type": "code",
   "execution_count": null,
   "metadata": {},
   "outputs": [],
   "source": [
    "Z_normalized = 1 * (Z - np.min(Z)) / (np.max(Z) - np.min(Z))   # 0 to 1\n",
    "xs = torch.linspace(-1, 1, steps=Z.shape[0], device=device)\n",
    "ys = torch.linspace(-1, 1, steps=Z.shape[1], device=device)\n",
    "x, y = torch.meshgrid(xs, ys, indexing='xy')\n",
    "xy = torch.hstack((x.reshape(-1, 1), y.reshape(-1, 1)))"
   ]
  },
  {
   "cell_type": "code",
   "execution_count": null,
   "metadata": {},
   "outputs": [],
   "source": [
    "fig = go.Figure(data=[go.Surface(z=Z_normalized, x=x.cpu().numpy(), y=y.cpu().numpy())])\n",
    "fig.update_layout(width=1200, height=700, scene_aspectmode='data')\n",
    "fig.show()"
   ]
  },
  {
   "cell_type": "code",
   "execution_count": null,
   "metadata": {},
   "outputs": [],
   "source": [
    "siren = Siren(in_features=2, \n",
    "              out_features=1, \n",
    "              hidden_features=256,\n",
    "              hidden_layers=3, \n",
    "              outermost_linear=True,\n",
    "              first_omega_0=30.0,\n",
    "              hidden_omega_0=100.0).to(device)\n",
    "\n",
    "siren.load_state_dict(torch.load('../models/lunar_dem_siren.pth'))\n",
    "siren.eval()\n",
    "pass"
   ]
  },
  {
   "cell_type": "code",
   "execution_count": null,
   "metadata": {},
   "outputs": [],
   "source": [
    "with torch.no_grad():\n",
    "    pred, coords = siren(xy)"
   ]
  },
  {
   "cell_type": "code",
   "execution_count": null,
   "metadata": {},
   "outputs": [],
   "source": [
    "# Plot the predictions\n",
    "fig = go.Figure(data=[go.Surface(z=pred.cpu().numpy().reshape(Z.shape), x=x.cpu().numpy(), y=y.cpu().numpy())])\n",
    "fig.update_layout(width=1200, height=700, scene_aspectmode='data')\n",
    "fig.show()"
   ]
  },
  {
   "cell_type": "markdown",
   "metadata": {},
   "source": [
    "# SIREN"
   ]
  },
  {
   "cell_type": "markdown",
   "metadata": {},
   "source": [
    "### Mt Bruno elevation data"
   ]
  },
  {
   "cell_type": "code",
   "execution_count": null,
   "metadata": {},
   "outputs": [],
   "source": [
    "import pandas as pd\n",
    "\n",
    "#z_data = pd.read_csv('https://raw.githubusercontent.com/plotly/datasets/master/api_docs/mt_bruno_elevation.csv')\n",
    "z_vals = np.load('../data/mt_bruno_elevation.npy')\n",
    "\n",
    "# Guess the xy scale\n",
    "xy = 200 * np.mgrid[-12:13, -12:13]\n",
    "xvals = xy[0]\n",
    "yvals = xy[1]\n",
    "\n",
    "# Plot the data\n",
    "fig = go.Figure(data=[go.Surface(z=z_vals, x=xvals, y=yvals)])\n",
    "fig.update_layout(width=1200, height=700, scene_aspectmode='data')\n",
    "fig.show()"
   ]
  },
  {
   "cell_type": "code",
   "execution_count": null,
   "metadata": {},
   "outputs": [],
   "source": [
    "# Scale the XY data to -1 to 1\n",
    "xy_scaled = xy / 2400\n",
    "x_scaled = xy_scaled[0]\n",
    "y_scaled = xy_scaled[1]\n",
    "z_scaled = z_vals / np.max(z_vals)"
   ]
  },
  {
   "cell_type": "code",
   "execution_count": null,
   "metadata": {},
   "outputs": [],
   "source": [
    "# Plot the scaled data\n",
    "fig = go.Figure(data=[go.Surface(z=z_scaled, x=x_scaled, y=y_scaled)])\n",
    "fig.update_layout(width=1200, height=700, scene_aspectmode='data')\n",
    "fig.show()"
   ]
  },
  {
   "cell_type": "code",
   "execution_count": null,
   "metadata": {},
   "outputs": [],
   "source": [
    "# Fit a Siren network to the data\n",
    "\n",
    "siren = Siren(in_features=2, out_features=1, hidden_features=256,\n",
    "                hidden_layers=3, outermost_linear=True).to(device)"
   ]
  },
  {
   "cell_type": "code",
   "execution_count": null,
   "metadata": {},
   "outputs": [],
   "source": [
    "# Train the network\n",
    "\n",
    "# Loss function\n",
    "criterion = nn.MSELoss()\n",
    "\n",
    "# Optimizer\n",
    "optimizer = torch.optim.Adam(siren.parameters(), lr=1e-5)\n",
    "\n",
    "# Convert the data to torch tensors\n",
    "xy_tensor = torch.tensor(xy_scaled, dtype=torch.float32).to(device)\n",
    "xy_tensor = xy_tensor.reshape(2, -1).T\n",
    "z_tensor = torch.tensor(z_scaled, dtype=torch.float32).to(device)\n",
    "z_tensor = z_tensor.reshape(-1, 1)\n",
    "\n",
    "# Train the network\n",
    "for step in range(5000):\n",
    "    # Forward pass\n",
    "    pred, coords = siren(xy_tensor)\n",
    "\n",
    "    # Compute loss\n",
    "    loss = criterion(pred, z_tensor)\n",
    "\n",
    "    # Backward pass\n",
    "    optimizer.zero_grad()\n",
    "    loss.backward()\n",
    "    optimizer.step()\n",
    "\n",
    "    # Print loss every 500 steps\n",
    "    if step % 500 == 0:\n",
    "        print(f\"Step {step}, Loss {loss.item()}\")"
   ]
  },
  {
   "cell_type": "code",
   "execution_count": null,
   "metadata": {},
   "outputs": [],
   "source": [
    "torch.save(siren.state_dict(), '../models/mt_bruno_siren.pt')"
   ]
  },
  {
   "cell_type": "code",
   "execution_count": null,
   "metadata": {},
   "outputs": [],
   "source": [
    "# Sample the Siren network to get the predicted elevation\n",
    "with torch.no_grad():\n",
    "    pred, coords = siren(xy_tensor)\n",
    "\n",
    "# Plot the predictions\n",
    "fig = go.Figure(data=[go.Surface(z=pred.cpu().numpy().reshape(25, 25), x=x_scaled, y=y_scaled)])\n",
    "fig.update_layout(width=1200, height=700, scene_aspectmode='data')\n",
    "fig.show()"
   ]
  },
  {
   "cell_type": "code",
   "execution_count": null,
   "metadata": {},
   "outputs": [],
   "source": [
    "# MSE loss\n",
    "criterion(pred, z_tensor)"
   ]
  },
  {
   "cell_type": "markdown",
   "metadata": {},
   "source": [
    "Increase the sampling resolution"
   ]
  },
  {
   "cell_type": "code",
   "execution_count": null,
   "metadata": {},
   "outputs": [],
   "source": [
    "xs = torch.linspace(-1, 1, steps=100, device=device)\n",
    "ys = torch.linspace(-1, 1, steps=100, device=device)\n",
    "x, y = torch.meshgrid(xs, ys, indexing='xy')\n",
    "xy = torch.hstack((x.reshape(-1, 1), y.reshape(-1, 1)))"
   ]
  },
  {
   "cell_type": "code",
   "execution_count": null,
   "metadata": {},
   "outputs": [],
   "source": [
    "with torch.no_grad():\n",
    "    pred, coords = siren(xy)\n",
    "\n",
    "# Plot the predictions\n",
    "fig = go.Figure(data=[go.Surface(z=pred.cpu().numpy().reshape(100, 100), x=x.cpu().numpy(), y=y.cpu().numpy())])\n",
    "fig.update_layout(width=1200, height=700, scene_aspectmode='data')\n",
    "fig.show()"
   ]
  },
  {
   "cell_type": "markdown",
   "metadata": {},
   "source": [
    "# Plan a path over the SIREN"
   ]
  },
  {
   "cell_type": "markdown",
   "metadata": {},
   "source": [
    "Compute spatial derivatives"
   ]
  },
  {
   "cell_type": "code",
   "execution_count": null,
   "metadata": {},
   "outputs": [],
   "source": [
    "siren = Siren(in_features=2, out_features=1, hidden_features=256,\n",
    "                hidden_layers=3, outermost_linear=True).to(device)\n",
    "\n",
    "siren.load_state_dict(torch.load('../models/mt_bruno_siren.pt'))\n",
    "siren.eval()"
   ]
  },
  {
   "cell_type": "code",
   "execution_count": null,
   "metadata": {},
   "outputs": [],
   "source": [
    "z_pred, coords = siren(xy)"
   ]
  },
  {
   "cell_type": "code",
   "execution_count": null,
   "metadata": {},
   "outputs": [],
   "source": [
    "def gradient(y, x, grad_outputs=None):\n",
    "    if grad_outputs is None:\n",
    "        grad_outputs = torch.ones_like(y)\n",
    "    grad = torch.autograd.grad(y, [x], grad_outputs=grad_outputs, create_graph=True)[0]\n",
    "    return grad"
   ]
  },
  {
   "cell_type": "code",
   "execution_count": null,
   "metadata": {},
   "outputs": [],
   "source": [
    "z_xy_grad = gradient(z_pred, coords)\n",
    "\n",
    "x_grad = z_xy_grad[:, 0].detach().cpu().numpy().reshape(100, 100)\n",
    "y_grad = z_xy_grad[:, 1].detach().cpu().numpy().reshape(100, 100)"
   ]
  },
  {
   "cell_type": "code",
   "execution_count": null,
   "metadata": {},
   "outputs": [],
   "source": [
    "# Visualize the gradients at 2D heatmaps\n",
    "\n",
    "from plotly.subplots import make_subplots\n",
    "\n",
    "fig = make_subplots(rows=1, cols=2, subplot_titles=('X Gradient', 'Y Gradient'))\n",
    "fig.add_trace(go.Heatmap(z=x_grad), row=1, col=1)\n",
    "fig.add_trace(go.Heatmap(z=y_grad), row=1, col=2)\n",
    "fig.update_layout(width=1400, height=700, scene_aspectmode='data')\n",
    "fig.show()"
   ]
  },
  {
   "cell_type": "markdown",
   "metadata": {},
   "source": [
    "## Plan a discrete path\n",
    "\n",
    "from $(-1, 1)$ to $(1, 1)$\n",
    "\n",
    "We want the path that minimizes distance (number of waypoints) and XY gradient values"
   ]
  },
  {
   "cell_type": "code",
   "execution_count": null,
   "metadata": {},
   "outputs": [],
   "source": [
    "GRID_LEN = 100\n",
    "\n",
    "# start_idx = (0, 0)                   # (-1, -1)\n",
    "# end_idx = (GRID_LEN-1, GRID_LEN-1)   # (1, 1)\n",
    "\n",
    "start_idx = (0, GRID_LEN-1)                   # (-1, -1)\n",
    "end_idx = (GRID_LEN-1, 0)   # (1, 1)\n",
    "\n",
    "grad_costmat = (np.abs(x_grad) + np.abs(y_grad))"
   ]
  },
  {
   "cell_type": "code",
   "execution_count": null,
   "metadata": {},
   "outputs": [],
   "source": [
    "# Run A* on the cost matrix\n",
    "from global_planner import GlobalPlanner\n",
    "\n",
    "gp = GlobalPlanner(grad_costmat)\n",
    "path = gp.plan(start_idx, end_idx)\n",
    "\n",
    "fig, ax = plt.subplots(figsize=(10,10))\n",
    "gp.plot(ax)\n",
    "plt.show()"
   ]
  },
  {
   "cell_type": "code",
   "execution_count": null,
   "metadata": {},
   "outputs": [],
   "source": [
    "grad_costmat"
   ]
  },
  {
   "cell_type": "code",
   "execution_count": null,
   "metadata": {},
   "outputs": [],
   "source": [
    "path_xs = xs[path[:,0]]\n",
    "path_ys = ys[path[:,1]]\n",
    "path_xy = torch.hstack((path_xs[:,None], path_ys[:,None]))\n",
    "path_zs, _ = siren(path_xy)"
   ]
  },
  {
   "cell_type": "code",
   "execution_count": null,
   "metadata": {},
   "outputs": [],
   "source": [
    "# Plot path on surface plot\n",
    "fig = go.Figure()\n",
    "fig.add_trace(go.Surface(z=pred.cpu().numpy().reshape(100, 100), x=x.cpu().numpy(), y=y.cpu().numpy()))\n",
    "fig.add_trace(go.Scatter3d(x=path_xs.detach().cpu().numpy(), \n",
    "                           y=path_ys.detach().cpu().numpy(), \n",
    "                           z=path_zs.detach().cpu().numpy().flatten(), \n",
    "                           mode='markers', marker=dict(size=3, color='red')))\n",
    "fig.update_layout(width=1200, height=700, scene_aspectmode='data')\n",
    "fig.show()"
   ]
  },
  {
   "cell_type": "code",
   "execution_count": null,
   "metadata": {},
   "outputs": [],
   "source": [
    "# save fig as html\n",
    "fig.write_html('path.html')"
   ]
  },
  {
   "cell_type": "markdown",
   "metadata": {},
   "source": [
    "## Plan a continuous path\n",
    "\n",
    "Parameterize the path with splines"
   ]
  },
  {
   "cell_type": "code",
   "execution_count": null,
   "metadata": {},
   "outputs": [],
   "source": []
  },
  {
   "cell_type": "markdown",
   "metadata": {},
   "source": []
  }
 ],
 "metadata": {
  "interpreter": {
   "hash": "59137d61799be30032e5318ee06a7b358b38b5233e4480a935088bf46906560d"
  },
  "kernelspec": {
   "display_name": "Python 3.8.18 64-bit ('nem': conda)",
   "name": "python3"
  },
  "language_info": {
   "codemirror_mode": {
    "name": "ipython",
    "version": 3
   },
   "file_extension": ".py",
   "mimetype": "text/x-python",
   "name": "python",
   "nbconvert_exporter": "python",
   "pygments_lexer": "ipython3",
   "version": "3.8.18"
  }
 },
 "nbformat": 4,
 "nbformat_minor": 2
}
