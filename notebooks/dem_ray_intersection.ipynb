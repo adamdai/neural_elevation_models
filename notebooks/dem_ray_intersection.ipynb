{
 "cells": [
  {
   "cell_type": "code",
   "execution_count": 1,
   "metadata": {},
   "outputs": [],
   "source": [
    "import plotly.graph_objects as go\n",
    "import numpy as np\n",
    "import pandas as pd\n",
    "import matplotlib.pyplot as plt"
   ]
  },
  {
   "cell_type": "markdown",
   "metadata": {},
   "source": [
    "# Load example DEM"
   ]
  },
  {
   "cell_type": "code",
   "execution_count": null,
   "metadata": {},
   "outputs": [],
   "source": [
    "# Read data from a csv\n",
    "z_data = pd.read_csv('https://raw.githubusercontent.com/plotly/datasets/master/api_docs/mt_bruno_elevation.csv')\n",
    "z_vals = z_data.values\n",
    "\n",
    "plt.imshow(z_vals, cmap='viridis')\n",
    "plt.colorbar()\n",
    "plt.show()"
   ]
  },
  {
   "cell_type": "code",
   "execution_count": null,
   "metadata": {},
   "outputs": [],
   "source": [
    "dem_patch = z_vals[13:,:12]\n",
    "print(dem_patch.shape)\n",
    "plt.imshow(dem_patch, cmap='viridis')\n",
    "plt.show()"
   ]
  },
  {
   "cell_type": "code",
   "execution_count": null,
   "metadata": {},
   "outputs": [],
   "source": [
    "# Guess the xy scale\n",
    "xy = 100 * np.mgrid[-12:13, -12:13]\n",
    "xvals = xy[0]\n",
    "yvals = xy[1]\n",
    "\n",
    "# Plot the data\n",
    "fig = go.Figure(data=[go.Surface(z=z_vals, x=xvals, y=yvals, showscale=False)])\n",
    "fig.update_layout(width=1600, height=900, scene_aspectmode='data')\n",
    "fig.show()"
   ]
  },
  {
   "cell_type": "code",
   "execution_count": 5,
   "metadata": {},
   "outputs": [],
   "source": [
    "# def height_fn(x, y):\n",
    "#     return z_vals[12 + int(y)//100, 12 + int(x)//100]"
   ]
  },
  {
   "cell_type": "markdown",
   "metadata": {},
   "source": [
    "## Select a smaller patch to work with"
   ]
  },
  {
   "cell_type": "code",
   "execution_count": 14,
   "metadata": {},
   "outputs": [],
   "source": [
    "dem_patch = z_vals[13:,:12]\n",
    "\n",
    "xy = 100 * np.mgrid[0:12, 0:12]\n",
    "xvals = xy[0]\n",
    "yvals = xy[1]\n",
    "\n",
    "def height_fn(x, y):\n",
    "    return dem_patch[int(x)//100, int(y)//100]"
   ]
  },
  {
   "cell_type": "code",
   "execution_count": null,
   "metadata": {},
   "outputs": [],
   "source": [
    "# Pick a ray in 3D\n",
    "ray_origin = np.array([1000.0, 0.0, 500.0])\n",
    "ray_direction = np.array([-1.0, 1.0, -1.0])\n",
    "ray_direction /= np.linalg.norm(ray_direction)\n",
    "ray_length = 1000\n",
    "\n",
    "# Plot the ray\n",
    "fig = go.Figure(data=[go.Surface(z=dem_patch, x=xvals, y=yvals, showscale=False)])\n",
    "fig.update_layout(width=1600, height=900, scene_aspectmode='data')\n",
    "fig.add_trace(go.Scatter3d(x=[ray_origin[0], ray_origin[0] + ray_direction[0] * ray_length],\n",
    "                           y=[ray_origin[1], ray_origin[1] + ray_direction[1] * ray_length],\n",
    "                           z=[ray_origin[2], ray_origin[2] + ray_direction[2] * ray_length],\n",
    "                           mode='lines', line=dict(color='red', width=5)))\n",
    "fig.show()"
   ]
  },
  {
   "cell_type": "markdown",
   "metadata": {},
   "source": [
    "# Slope-based ray marching"
   ]
  },
  {
   "cell_type": "markdown",
   "metadata": {},
   "source": [
    "## Single iteration"
   ]
  },
  {
   "cell_type": "markdown",
   "metadata": {},
   "source": [
    "$\\theta$ is max slope angle. $\\phi$ is downtilt angle of ray.\n",
    "\n",
    "Law of sines:\n",
    "$$\\frac{h}{\\sin(\\phi+\\theta)}=\\frac{\\Delta t}{\\sin(90-\\theta)}$$\n",
    "$$\\Delta t = \\frac{h\\sin(90-\\theta)}{\\sin(\\phi+\\theta)}$$\n"
   ]
  },
  {
   "cell_type": "code",
   "execution_count": null,
   "metadata": {},
   "outputs": [],
   "source": [
    "# Slope-based ray marching\n",
    "theta = np.pi/4   # Max slope angle in radians\n",
    "ray_direction_2d = ray_direction[:2]\n",
    "phi = np.arctan2(-ray_direction[2], np.linalg.norm(ray_direction_2d))  # Downtilt angle of ray (0 is horizontal, pi/2 is straight down)\n",
    "\n",
    "ray_point = ray_origin.copy()\n",
    "\n",
    "xy = ray_point[:2]\n",
    "h = ray_point[2] - height_fn(*xy)  # height of ray above ground\n",
    "delta_t = h * np.sin(np.pi/2 - theta) / np.sin(phi + theta)  # delta along ray to next point\n",
    "\n",
    "next_ray_point = ray_point + delta_t * ray_direction\n",
    "\n",
    "# Visualize\n",
    "fig = go.Figure(data=[go.Surface(z=dem_patch, x=xvals, y=yvals, showscale=False)])\n",
    "fig.update_layout(width=1600, height=900, scene_aspectmode='data')\n",
    "fig.add_trace(go.Scatter3d(x=[ray_origin[0], ray_origin[0] + ray_direction[0] * ray_length],\n",
    "                           y=[ray_origin[1], ray_origin[1] + ray_direction[1] * ray_length],\n",
    "                           z=[ray_origin[2], ray_origin[2] + ray_direction[2] * ray_length],\n",
    "                           mode='lines', line=dict(color='red', width=5)))\n",
    "fig.add_trace(go.Scatter3d(x=[ray_point[0], ray_point[0]],\n",
    "                           y=[ray_point[1], ray_point[1]],\n",
    "                           z=[ray_point[2], height_fn(*xy)],\n",
    "                           mode='lines', line=dict(color='red', width=5, dash='dash')))\n",
    "fig.add_trace(go.Scatter3d(x=[ray_point[0], next_ray_point[0]],\n",
    "                            y=[ray_point[1], next_ray_point[1]],\n",
    "                            z=[height_fn(*xy), next_ray_point[2]],\n",
    "                            mode='lines', line=dict(color='red', width=5, dash='dash')))\n",
    "fig.show()"
   ]
  },
  {
   "cell_type": "markdown",
   "metadata": {},
   "source": [
    "## Multiple iterations"
   ]
  },
  {
   "cell_type": "code",
   "execution_count": null,
   "metadata": {},
   "outputs": [],
   "source": [
    "ray_origin = np.array([1000.0, 0.0, 500.0])\n",
    "ray_direction = np.array([-1.0, 1.0, -0.3])\n",
    "ray_direction /= np.linalg.norm(ray_direction)\n",
    "ray_length = 1500\n",
    "\n",
    "theta = np.pi/4   # Max slope angle in radians\n",
    "ray_direction_2d = ray_direction[:2]\n",
    "phi = np.arctan2(-ray_direction[2], np.linalg.norm(ray_direction_2d))  # Downtilt angle of ray (0 is horizontal, pi/2 is straight down)\n",
    "\n",
    "ray_point = ray_origin.copy()\n",
    "\n",
    "fig = go.Figure(data=[go.Surface(z=dem_patch, x=xvals, y=yvals, showscale=False)])\n",
    "fig.add_trace(go.Scatter3d(x=[ray_origin[0], ray_origin[0] + ray_direction[0] * ray_length],\n",
    "                           y=[ray_origin[1], ray_origin[1] + ray_direction[1] * ray_length],\n",
    "                           z=[ray_origin[2], ray_origin[2] + ray_direction[2] * ray_length],\n",
    "                           mode='lines', line=dict(color='red', width=5), showlegend=False))\n",
    "\n",
    "while(True):\n",
    "    xy = ray_point[:2]\n",
    "    h = ray_point[2] - height_fn(*xy)  # height of ray above ground\n",
    "\n",
    "    if h < 0 or np.linalg.norm(ray_point - ray_origin) > ray_length:\n",
    "        break\n",
    "\n",
    "    delta_t = h * np.sin(np.pi/2 - theta) / np.sin(phi + theta)  # delta along ray to next point\n",
    "\n",
    "    if delta_t < 1.0:\n",
    "        break\n",
    "\n",
    "    next_ray_point = ray_point + delta_t * ray_direction\n",
    "\n",
    "    fig.add_trace(go.Scatter3d(x=[ray_point[0], ray_point[0]],\n",
    "                           y=[ray_point[1], ray_point[1]],\n",
    "                           z=[ray_point[2], height_fn(*xy)],\n",
    "                           mode='lines', line=dict(color='red', width=5, dash='dash'), showlegend=False))\n",
    "    fig.add_trace(go.Scatter3d(x=[ray_point[0], next_ray_point[0]],\n",
    "                                y=[ray_point[1], next_ray_point[1]],\n",
    "                                z=[height_fn(*xy), next_ray_point[2]],\n",
    "                                mode='lines', line=dict(color='red', width=5, dash='dash'), showlegend=False))\n",
    "    \n",
    "    ray_point = next_ray_point\n",
    "\n",
    "ray_point\n",
    "\n",
    "fig.add_trace(go.Scatter3d(x=[ray_origin[0]], y=[ray_origin[1]], z=[ray_origin[2]], mode='markers', marker=dict(size=10, color='red')))\n",
    "fig.add_trace(go.Scatter3d(x=[ray_point[0]], y=[ray_point[1]], z=[ray_point[2]], mode='markers', marker=dict(size=10, color='green')))\n",
    "fig.update_layout(width=1600, height=900, scene_aspectmode='data')\n",
    "fig.show()"
   ]
  },
  {
   "cell_type": "code",
   "execution_count": null,
   "metadata": {},
   "outputs": [],
   "source": []
  }
 ],
 "metadata": {
  "kernelspec": {
   "display_name": "nemo",
   "language": "python",
   "name": "python3"
  },
  "language_info": {
   "codemirror_mode": {
    "name": "ipython",
    "version": 3
   },
   "file_extension": ".py",
   "mimetype": "text/x-python",
   "name": "python",
   "nbconvert_exporter": "python",
   "pygments_lexer": "ipython3",
   "version": "3.8.19"
  },
  "orig_nbformat": 4
 },
 "nbformat": 4,
 "nbformat_minor": 2
}
