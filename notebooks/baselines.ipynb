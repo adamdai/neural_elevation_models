{
 "cells": [
  {
   "cell_type": "code",
   "execution_count": null,
   "metadata": {},
   "outputs": [],
   "source": [
    "import numpy as np\n",
    "import plotly.graph_objects as go\n",
    "import plotly.express as px\n",
    "import json\n",
    "\n",
    "from nemo.util import parse_colmap_point_cloud, elevation_function\n",
    "from nemo.plotting import plot_surface, plot_path_3d, plot_3d_points\n",
    "\n",
    "%load_ext autoreload\n",
    "%autoreload 2"
   ]
  },
  {
   "cell_type": "markdown",
   "metadata": {},
   "source": [
    "## Planning based on COLMAP point cloud reconstruction"
   ]
  },
  {
   "cell_type": "markdown",
   "metadata": {},
   "source": [
    "Load COLMAP points"
   ]
  },
  {
   "cell_type": "code",
   "execution_count": null,
   "metadata": {},
   "outputs": [],
   "source": [
    "path = '../data/redrocks/colmap_points3D.txt'\n",
    "points, colors = parse_colmap_point_cloud(path)"
   ]
  },
  {
   "cell_type": "code",
   "execution_count": null,
   "metadata": {},
   "outputs": [],
   "source": [
    "# Extract the points within range xyz in [-5, 5]\n",
    "# points = points[(points[:,0] > -5) & (points[:,0] < 5)]\n",
    "# points = points[(points[:,1] > -5) & (points[:,1] < 5)]\n",
    "# points = points[(points[:,2] > -5) & (points[:,2] < 5)]\n",
    "\n",
    "fig = plot_3d_points(x=points[:,0], y=points[:,1], z=points[:,2], markersize=1)\n",
    "fig.show()"
   ]
  },
  {
   "cell_type": "code",
   "execution_count": null,
   "metadata": {},
   "outputs": [],
   "source": [
    "points.shape"
   ]
  },
  {
   "cell_type": "code",
   "execution_count": null,
   "metadata": {},
   "outputs": [],
   "source": [
    "# # For Red Rocks\n",
    "# manual_R = np.array([[-0.25241505,  0.96618594, -0.0526439],\n",
    "#                      [-0.69407693, -0.21869781, -0.68587789],\n",
    "#                      [-0.67419868, -0.13658698,  0.72580999]])\n",
    "# dataparser_T = np.array([[0.0, 1.0, 0.0, 0.02047962136566639],\n",
    "#                          [1.0, 0.0, 0.0, -0.17118817567825317],\n",
    "#                          [0.0, 0.0, -1.0, 0.10579380393028259]])\n",
    "# dataparser_scale = 0.21856701094642245\n",
    "\n",
    "# For AirSimMountains\n",
    "manual_R = np.eye(3)\n",
    "dataparser_transforms = json.load(open('../models/AirSimMountains/dataparser_transforms.json'))\n",
    "dataparser_T = np.array(dataparser_transforms['transform'])\n",
    "dataparser_scale = dataparser_transforms['scale']"
   ]
  },
  {
   "cell_type": "code",
   "execution_count": null,
   "metadata": {},
   "outputs": [],
   "source": [
    "points_tf = points @ manual_R.T\n",
    "points_tf = points_tf @ dataparser_T[:3,:3].T\n",
    "points_tf = points_tf + dataparser_T[:3,3]\n",
    "points_tf = points_tf * dataparser_scale\n",
    "\n",
    "# Swap x and z axes\n",
    "points_tf = points_tf @ np.array([[0, 0, 1], [0, 1, 0], [-1, 0, 0]])"
   ]
  },
  {
   "cell_type": "code",
   "execution_count": null,
   "metadata": {},
   "outputs": [],
   "source": [
    "fig = plot_3d_points(x=points_tf[:,0], y=points_tf[:,1], z=points_tf[:,2], color=points_tf[:,2], markersize=1)\n",
    "fig.show()"
   ]
  },
  {
   "cell_type": "markdown",
   "metadata": {},
   "source": [
    "Generate DEM"
   ]
  },
  {
   "cell_type": "code",
   "execution_count": null,
   "metadata": {},
   "outputs": [],
   "source": [
    "from scipy.spatial import KDTree\n",
    "\n",
    "kd_tree = KDTree(points_tf[:,:2])\n",
    "\n",
    "N_GRID = 100\n",
    "K = 3\n",
    "xmin, ymin, zmin = np.min(points_tf, axis=0)\n",
    "xmax, ymax, zmax = np.max(points_tf, axis=0)\n",
    "X, Y = np.meshgrid(np.linspace(xmin, xmax, N_GRID), np.linspace(ymin, ymax, N_GRID))\n",
    "\n",
    "# Sample kd-tree at grid points\n",
    "Z = np.zeros_like(X)\n",
    "for i, j in [(i, j) for i in range(N_GRID) for j in range(N_GRID)]:\n",
    "    # k=1 nearest neighbor\n",
    "    d, idx = kd_tree.query([X[i,j], Y[i,j]], k=K)\n",
    "    if K == 1:\n",
    "        Z[i,j] = points_tf[idx][2]\n",
    "    else:\n",
    "        for point in points_tf[idx]:\n",
    "            Z[i,j] += point[2]\n",
    "        Z[i,j] /= K"
   ]
  },
  {
   "cell_type": "code",
   "execution_count": null,
   "metadata": {},
   "outputs": [],
   "source": [
    "fig = plot_surface(X, Y, Z)\n",
    "fig.show()"
   ]
  },
  {
   "cell_type": "markdown",
   "metadata": {},
   "source": [
    "Generate mesh"
   ]
  },
  {
   "cell_type": "markdown",
   "metadata": {},
   "source": []
  }
 ],
 "metadata": {
  "kernelspec": {
   "display_name": "nemo",
   "language": "python",
   "name": "python3"
  },
  "language_info": {
   "codemirror_mode": {
    "name": "ipython",
    "version": 3
   },
   "file_extension": ".py",
   "mimetype": "text/x-python",
   "name": "python",
   "nbconvert_exporter": "python",
   "pygments_lexer": "ipython3",
   "version": "3.8.19"
  }
 },
 "nbformat": 4,
 "nbformat_minor": 2
}
