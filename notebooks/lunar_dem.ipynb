{
 "cells": [
  {
   "cell_type": "markdown",
   "metadata": {},
   "source": [
    "## Lunar DEMs\n",
    "\n",
    "Notebook for loading and visualizing Lunar DEMs"
   ]
  },
  {
   "cell_type": "code",
   "execution_count": null,
   "metadata": {},
   "outputs": [],
   "source": [
    "import numpy as np\n",
    "import matplotlib.pyplot as plt\n",
    "import plotly.graph_objects as go\n",
    "\n",
    "from PIL import Image\n",
    "Image.MAX_IMAGE_PIXELS = 1000000000 \n",
    "\n",
    "# autoreload\n",
    "%load_ext autoreload\n",
    "%autoreload 2"
   ]
  },
  {
   "cell_type": "markdown",
   "metadata": {},
   "source": [
    "## Loading from file\n",
    "\n",
    "Files are available to download from https://pgda.gsfc.nasa.gov/products/54"
   ]
  },
  {
   "cell_type": "markdown",
   "metadata": {},
   "source": [
    "The following code loads DEMs in `.JP2` file format and converts them into numpy array. "
   ]
  },
  {
   "cell_type": "code",
   "execution_count": null,
   "metadata": {},
   "outputs": [],
   "source": [
    "# Read img using PIL Image\n",
    "tile_name = 'SLDEM2015_256_60S_0S_120_240'\n",
    "img = Image.open(f'../data/{tile_name}.JP2')  # TODO: change path to file if necesary\n",
    "img.size"
   ]
  },
  {
   "cell_type": "code",
   "execution_count": null,
   "metadata": {},
   "outputs": [],
   "source": [
    "# Convert to numpy array (takes around 1m 30s)\n",
    "img_np = np.array(img)"
   ]
  },
  {
   "cell_type": "code",
   "execution_count": null,
   "metadata": {},
   "outputs": [],
   "source": [
    "# Save as .npy file for future use\n",
    "np.save(f'../data/{tile_name}.npy', img_np)"
   ]
  },
  {
   "cell_type": "markdown",
   "metadata": {},
   "source": [
    "Loading directly from `.npy` file (much faster)"
   ]
  },
  {
   "cell_type": "code",
   "execution_count": null,
   "metadata": {},
   "outputs": [],
   "source": [
    "img_np = np.load(f'../data/{tile_name}.npy')"
   ]
  },
  {
   "cell_type": "markdown",
   "metadata": {},
   "source": [
    "## 2D visualization"
   ]
  },
  {
   "cell_type": "markdown",
   "metadata": {},
   "source": [
    "Plot a downsampled version of the DEM"
   ]
  },
  {
   "cell_type": "code",
   "execution_count": null,
   "metadata": {},
   "outputs": [],
   "source": [
    "ds_factor = 10\n",
    "img_np_ds = img_np[::ds_factor, ::ds_factor]\n",
    "fig = plt.figure(figsize=(15, 30))\n",
    "plt.imshow(img_np_ds)\n",
    "plt.show()"
   ]
  },
  {
   "cell_type": "markdown",
   "metadata": {},
   "source": [
    "## 3D visualization"
   ]
  },
  {
   "cell_type": "code",
   "execution_count": null,
   "metadata": {},
   "outputs": [],
   "source": [
    "# Look at 1000x1000 patch in the top left corner\n",
    "patch = img_np[:1000, :1000]\n",
    "Z = patch\n",
    "\n",
    "# Display the image\n",
    "plt.imshow(patch)\n",
    "plt.show()"
   ]
  },
  {
   "cell_type": "markdown",
   "metadata": {},
   "source": [
    "For tile `SLDEM2015_256_60S_0S_120_240_JP2`:\n",
    "- 256 pixels per degree\n",
    "- Latitude: 60 deg S - 0 deg S\n",
    "- Longitude: 120 deg E - 240 deg E\n",
    "\n",
    "Radius of moon: 1737.4 km\n",
    "\n",
    "DEM height: \n",
    "- Meters: $(60/360) * 2\\pi * 1737.4 = 1819.4$ km\n",
    "- Pixels: 256 * 60 = 15360\n",
    "\n",
    "DEM width: \n",
    "- Meters: $(120/360) * 2\\pi * 1737.4 = 3638.8$ km\n",
    "- Pixels: 256 * 120 = 30720\n",
    "\n",
    "So we get 118450 meters per pixel. Elevation values are in meters\n",
    "\n",
    "Note that DEM is not a perfect rectangle in reality, due to curvature."
   ]
  },
  {
   "cell_type": "code",
   "execution_count": null,
   "metadata": {},
   "outputs": [],
   "source": [
    "# Surface plot to scale\n",
    "xs = np.linspace(0, 118450, num=Z.shape[0])\n",
    "ys = np.linspace(0, 118450, num=Z.shape[1])\n",
    "x, y = np.meshgrid(xs, ys, indexing='xy')\n",
    "\n",
    "fig = go.Figure(data=[go.Surface(z=Z, x=x, y=y, colorscale='Viridis')])\n",
    "fig.update_layout(width=1200, height=700, scene_aspectmode='data')\n",
    "fig.show()"
   ]
  }
 ],
 "metadata": {
  "interpreter": {
   "hash": "59137d61799be30032e5318ee06a7b358b38b5233e4480a935088bf46906560d"
  },
  "kernelspec": {
   "display_name": "Python 3.8.18 64-bit ('nem': conda)",
   "name": "python3"
  },
  "language_info": {
   "codemirror_mode": {
    "name": "ipython",
    "version": 3
   },
   "file_extension": ".py",
   "mimetype": "text/x-python",
   "name": "python",
   "nbconvert_exporter": "python",
   "pygments_lexer": "ipython3",
   "version": "3.8.18"
  }
 },
 "nbformat": 4,
 "nbformat_minor": 2
}
