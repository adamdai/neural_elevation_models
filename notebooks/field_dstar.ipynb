{
 "cells": [
  {
   "cell_type": "code",
   "execution_count": null,
   "metadata": {},
   "outputs": [],
   "source": [
    "import numpy as np\n",
    "import plotly.graph_objects as go\n",
    "import plotly.express as px\n",
    "\n",
    "%load_ext autoreload\n",
    "%autoreload 2"
   ]
  },
  {
   "cell_type": "markdown",
   "metadata": {},
   "source": [
    "Field D*\n",
    "\n",
    "* http://robots.stanford.edu/isrr-papers/draft/stentz.pdf\n",
    "* https://www.ri.cmu.edu/pub_files/pub4/ferguson_david_2006_3/ferguson_david_2006_3.pdf\n",
    "\n",
    "Cost grid is of shape $M \\times N$. Nodes are located at corners of the cost grid. Node grid is of shape $M+1 \\times N+1$.\n",
    "Both cost cells and nodes are represented as index tuples. $s$ is used for nodes."
   ]
  },
  {
   "cell_type": "code",
   "execution_count": null,
   "metadata": {},
   "outputs": [],
   "source": [
    "M = 100\n",
    "N = 100\n",
    "costmat = np.random.rand(M, N)\n",
    "\n",
    "fig = px.imshow(costmat)\n",
    "fig.update_layout(width=500, height=500)\n",
    "fig.show()"
   ]
  },
  {
   "cell_type": "code",
   "execution_count": null,
   "metadata": {},
   "outputs": [],
   "source": [
    "class DStarPlanner:\n",
    "    def __init__(self, cost_grid):\n",
    "        self.cost_grid = cost_grid\n",
    "        self.h, self.w = cost_grid.shape\n",
    "\n",
    "    def compute_cost(self, s, s_a, s_b):\n",
    "        \"\"\"Compute path cost of node s using the cost of its neighbors s_a and s_b.\n",
    "        \n",
    "        s_a and s_b are adjacent neighbors of s, so one of them is diagonal to s, and the other is cardinal to s.\n",
    "        \n",
    "        \"\"\"\n",
    "        if s_a[0] != s[0] and s_a[1] != s[1]:  # s_a is a diagonal neighbor of s\n",
    "            s_1 = s_b\n",
    "            s_2 = s_a\n",
    "        else:                                  # s_a is a cardinal neighbor of s                                  \n",
    "            s_1 = s_a\n",
    "            s_2 = s_b\n",
    "        # c is the cost of the cell with corners s, s_1, and s_2\n",
    "        c = (self.cost_grid[s[0], s[1]] + self.cost_grid[s_1[0], s_1[1]]) / 2"
   ]
  }
 ],
 "metadata": {
  "kernelspec": {
   "display_name": "nemo",
   "language": "python",
   "name": "python3"
  },
  "language_info": {
   "codemirror_mode": {
    "name": "ipython",
    "version": 3
   },
   "file_extension": ".py",
   "mimetype": "text/x-python",
   "name": "python",
   "nbconvert_exporter": "python",
   "pygments_lexer": "ipython3",
   "version": "3.8.18"
  }
 },
 "nbformat": 4,
 "nbformat_minor": 2
}
