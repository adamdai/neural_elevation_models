{
 "cells": [
  {
   "cell_type": "markdown",
   "metadata": {},
   "source": [
    "Test out 2D Gaussian Splatting stuff"
   ]
  },
  {
   "cell_type": "code",
   "execution_count": null,
   "metadata": {},
   "outputs": [],
   "source": [
    "import numpy as np\n",
    "import matplotlib.pyplot as plt\n",
    "import plotly.graph_objects as go\n",
    "\n",
    "# autoreload\n",
    "%load_ext autoreload\n",
    "%autoreload 2"
   ]
  },
  {
   "cell_type": "markdown",
   "metadata": {},
   "source": [
    "# Toy Example"
   ]
  },
  {
   "cell_type": "markdown",
   "metadata": {},
   "source": [
    "Fit a 2D Gaussian in 3D to 4 points"
   ]
  },
  {
   "cell_type": "code",
   "execution_count": null,
   "metadata": {},
   "outputs": [],
   "source": [
    "# Grid cell\n",
    "xy = np.array([[0, 0], [1, 0], [1, 1], [0, 1]])\n",
    "zs = np.array([0.3, 0.0, 0.2, 0.1])\n",
    "\n",
    "# Plot the points\n",
    "fig = go.Figure()\n",
    "fig.add_trace(go.Scatter3d(x=xy[:, 0], y=xy[:, 1], z=zs, mode='markers', marker=dict(size=5)))\n",
    "fig.update_layout(scene=dict(aspectmode='data'))\n",
    "fig.show()"
   ]
  },
  {
   "cell_type": "code",
   "execution_count": null,
   "metadata": {},
   "outputs": [],
   "source": [
    "# Centroid\n",
    "centroid_z = np.mean(zs)\n",
    "centroid_xy = np.mean(xy, axis=0)\n",
    "centroid = np.array([centroid_xy[0], centroid_xy[1], centroid_z])\n",
    "\n",
    "# Best fit plane\n",
    "A = np.c_[xy, np.ones(xy.shape[0])]\n",
    "n, _, _, _ = np.linalg.lstsq(A, zs, rcond=None)\n",
    "\n",
    "# Visualize the plane\n",
    "x = np.linspace(0, 1, 10)\n",
    "y = np.linspace(0, 1, 10)\n",
    "x, y = np.meshgrid(x, y)\n",
    "z = n[0]*x + n[1]*y + n[2]\n",
    "\n",
    "fig.add_trace(go.Surface(x=x, y=y, z=z))\n",
    "fig.show()"
   ]
  },
  {
   "cell_type": "code",
   "execution_count": null,
   "metadata": {},
   "outputs": [],
   "source": [
    "# Simple: just pick circle in plane with xy aligned vectors\n",
    "s_u "
   ]
  },
  {
   "cell_type": "markdown",
   "metadata": {},
   "source": [
    "# Lunar data test\n",
    "\n",
    "Data available here: https://svs.gsfc.nasa.gov/4720/\n",
    "* Only matching resolution between image and DEM is 9600 x 3240\n",
    "    * Corresponds to 1.14 km per pixel\n",
    "* Highest color resolution is 27360 x 13680\n",
    "    * Corresponds to 0.4 km per pixel\n",
    "* Highest DEM resolution is 23040 x 11520\n",
    "    * Corresponds to 0.47 km per pixel"
   ]
  },
  {
   "cell_type": "code",
   "execution_count": null,
   "metadata": {},
   "outputs": [],
   "source": [
    "import tifffile"
   ]
  },
  {
   "cell_type": "code",
   "execution_count": null,
   "metadata": {},
   "outputs": [],
   "source": [
    "img_path = '../data/lroc_color_poles_hw5x3.tif'  # 9600 x 3240\n",
    "img_data = tifffile.imread(img_path)\n",
    "H, W = img_data.shape[:2]\n",
    "\n",
    "dem_path = '../data/ldem_hw5x3.tif'  # 9600 x 3240\n",
    "dem_data = tifffile.imread(dem_path)"
   ]
  },
  {
   "cell_type": "code",
   "execution_count": null,
   "metadata": {},
   "outputs": [],
   "source": [
    "# Plot the patches side by side\n",
    "fig, ax = plt.subplots(1, 2, figsize=(10, 5))\n",
    "ax[0].imshow(img_data)\n",
    "ax[1].imshow(dem_data)\n",
    "plt.show()"
   ]
  },
  {
   "cell_type": "code",
   "execution_count": null,
   "metadata": {},
   "outputs": [],
   "source": [
    "patch_size = 100\n",
    "center = np.array([1000, 1000])\n",
    "img_patch = img_data[center[0]-patch_size//2:center[0]+patch_size//2, center[1]-patch_size//2:center[1]+patch_size//2]\n",
    "dem_patch = dem_data[center[0]-patch_size//2:center[0]+patch_size//2, center[1]-patch_size//2:center[1]+patch_size//2]"
   ]
  },
  {
   "cell_type": "code",
   "execution_count": null,
   "metadata": {},
   "outputs": [],
   "source": [
    "dem_patch"
   ]
  },
  {
   "cell_type": "code",
   "execution_count": null,
   "metadata": {},
   "outputs": [],
   "source": [
    "# Plot the patches side by side\n",
    "fig, ax = plt.subplots(1, 2, figsize=(10, 5))\n",
    "ax[0].imshow(img_patch)\n",
    "ax[1].imshow(dem_patch)\n",
    "plt.show()"
   ]
  },
  {
   "cell_type": "code",
   "execution_count": null,
   "metadata": {},
   "outputs": [],
   "source": []
  }
 ],
 "metadata": {
  "interpreter": {
   "hash": "59137d61799be30032e5318ee06a7b358b38b5233e4480a935088bf46906560d"
  },
  "kernelspec": {
   "display_name": "Python 3.8.18 64-bit ('nem': conda)",
   "name": "python3"
  },
  "language_info": {
   "codemirror_mode": {
    "name": "ipython",
    "version": 3
   },
   "file_extension": ".py",
   "mimetype": "text/x-python",
   "name": "python",
   "nbconvert_exporter": "python",
   "pygments_lexer": "ipython3",
   "version": "3.8.19"
  }
 },
 "nbformat": 4,
 "nbformat_minor": 2
}
