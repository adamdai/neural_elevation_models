{
 "cells": [
  {
   "cell_type": "code",
   "execution_count": 1,
   "metadata": {},
   "outputs": [
    {
     "name": "stdout",
     "output_type": "stream",
     "text": [
      "-0.0432174\n",
      "-0.0432174\n",
      "[[-0.117835, 0.00843824]]\n",
      "\n",
      "[[0.0356201, 0.0451637], \n",
      " [0.0451637, -0.0132355]]\n"
     ]
    }
   ],
   "source": [
    "import casadi as cs\n",
    "import l4casadi as l4c\n",
    "\n",
    "\n",
    "naive_mlp = l4c.naive.MultiLayerPerceptron(2, 128, 1, 2, 'Tanh')\n",
    "l4c_model = l4c.L4CasADi(naive_mlp, model_expects_batch_dim=True)\n",
    "\n",
    "x_sym = cs.MX.sym('x', 2, 1)\n",
    "y_sym = l4c_model(x_sym)\n",
    "f = cs.Function('y', [x_sym], [y_sym])\n",
    "df = cs.Function('dy', [x_sym], [cs.jacobian(y_sym, x_sym)])\n",
    "ddf = cs.Function('ddy', [x_sym], [cs.hessian(y_sym, x_sym)[0]])\n",
    "\n",
    "x = cs.DM([[0.], [2.]])\n",
    "print(l4c_model(x))\n",
    "print(f(x))\n",
    "print(df(x))\n",
    "print(ddf(x))"
   ]
  },
  {
   "cell_type": "code",
   "execution_count": null,
   "metadata": {},
   "outputs": [],
   "source": []
  }
 ],
 "metadata": {
  "kernelspec": {
   "display_name": "nerfstudio",
   "language": "python",
   "name": "python3"
  },
  "language_info": {
   "codemirror_mode": {
    "name": "ipython",
    "version": 3
   },
   "file_extension": ".py",
   "mimetype": "text/x-python",
   "name": "python",
   "nbconvert_exporter": "python",
   "pygments_lexer": "ipython3",
   "version": "3.8.19"
  }
 },
 "nbformat": 4,
 "nbformat_minor": 2
}
