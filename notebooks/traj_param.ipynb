{
 "cells": [
  {
   "cell_type": "markdown",
   "metadata": {},
   "source": [
    "Explore different trajectory parameterization options.\n",
    "\n",
    "Step 1 is how to parameterize a continuous 2D $(x(t),y(t))$ trajectory. \n",
    "We can use a polynomial, a spline, or a neural network.\n",
    "\n",
    "Step 2 is to use differential flatness to obtain the full state and control trajectories."
   ]
  },
  {
   "cell_type": "code",
   "execution_count": null,
   "metadata": {},
   "outputs": [],
   "source": [
    "import numpy as np\n",
    "import cv2\n",
    "import matplotlib.pyplot as plt\n",
    "import matplotlib.image as mpimg\n",
    "import plotly.graph_objects as go\n",
    "\n",
    "# autoreload\n",
    "%load_ext autoreload\n",
    "%autoreload 2"
   ]
  },
  {
   "cell_type": "markdown",
   "metadata": {},
   "source": [
    "# Step 1: Trajectory parameterization\n",
    "---"
   ]
  },
  {
   "cell_type": "markdown",
   "metadata": {},
   "source": [
    "## Polynomial"
   ]
  },
  {
   "cell_type": "code",
   "execution_count": null,
   "metadata": {},
   "outputs": [],
   "source": [
    "class PolyPath:\n",
    "    def __init__(self, d, n, start, end, free_coeffs=None):\n",
    "        \"\"\"\n",
    "        Constrain endpoints, zero velocity at endpoints.\n",
    "\n",
    "        d : int\n",
    "            Dimension of the path\n",
    "        n : int\n",
    "            Degree of the polynomial\n",
    "        free_coeffs : np.ndarray (n+1-4, d)\n",
    "            Free coefficients. The first 4 coefficients are constrained\n",
    "            \n",
    "        \"\"\"\n",
    "        self.d = d\n",
    "        self.n = n\n",
    "        self.exponents = np.arange(n+1)\n",
    "        \n",
    "        # Compute full coefficients\n",
    "        self.coeffs = np.zeros((n+1, d))\n",
    "        self.coeffs[3:] = free_coeffs\n",
    "        self.coeffs[3] = 2 * (start - end) - free_coeffs.T @ np.arange(2, n-1)\n",
    "        self.coeffs[2] = (end - start) - self.coeffs[3] - free_coeffs.T @ np.arange(1, n-2)\n",
    "        self.coeffs[1] = 0\n",
    "        self.coeffs[0] = start\n",
    "        \n",
    "\n",
    "    def eval(self, t):\n",
    "        N = len(t)\n",
    "        T = t[:, None] ** self.exponents\n",
    "        return T @ self.coeffs"
   ]
  },
  {
   "cell_type": "code",
   "execution_count": null,
   "metadata": {},
   "outputs": [],
   "source": [
    "np.arange(2,5)"
   ]
  },
  {
   "cell_type": "code",
   "execution_count": null,
   "metadata": {},
   "outputs": [],
   "source": [
    "np.ones((2,10)) @ np.ones(10)"
   ]
  },
  {
   "cell_type": "code",
   "execution_count": null,
   "metadata": {},
   "outputs": [],
   "source": [
    "d = 2 # dim\n",
    "n = 10 # degree\n",
    "free_coeffs = np.random.randn(n+1-4, d)\n",
    "start = np.array([0,0])\n",
    "end = np.array([1,1])\n",
    "path = PolyPath(d, n, start, end, free_coeffs)\n",
    "\n",
    "t = np.linspace(0, 1, 100)\n",
    "X = path.eval(t)\n",
    "plt.plot(X[:, 0], X[:, 1])"
   ]
  },
  {
   "cell_type": "code",
   "execution_count": null,
   "metadata": {},
   "outputs": [],
   "source": [
    "# 1-D\n",
    "x_0 = 0.0\n",
    "x_f = 1.0\n",
    "\n",
    "x_list = []\n",
    "a_5 = 1.0\n",
    "a_4s = np.linspace(-10.0, 10.0, 10)\n",
    "\n",
    "for a_4 in a_4s:\n",
    "    a_3 = 2*((x_0 - x_f) - a_4)\n",
    "    a_2 = (x_f - x_0) - a_3 - a_4\n",
    "    a_1 = 0\n",
    "    a_0 = x_0\n",
    "\n",
    "    t = np.linspace(0.0, 1.0, 100)\n",
    "    x = a_4*t**4 + a_3*t**3 + a_2*t**2 + a_1*t + a_0\n",
    "    x_list.append(x)"
   ]
  },
  {
   "cell_type": "code",
   "execution_count": null,
   "metadata": {},
   "outputs": [],
   "source": [
    "for x in x_list:\n",
    "    plt.plot(t, x)"
   ]
  },
  {
   "cell_type": "markdown",
   "metadata": {},
   "source": [
    "## B-spline"
   ]
  },
  {
   "cell_type": "code",
   "execution_count": null,
   "metadata": {},
   "outputs": [],
   "source": [
    "import scipy.interpolate as spi"
   ]
  },
  {
   "cell_type": "code",
   "execution_count": null,
   "metadata": {},
   "outputs": [],
   "source": [
    "start_point = np.array([0, 0])\n",
    "end_point = np.array([1, 1])\n",
    "\n",
    "control_points = np.array([\n",
    "    [0.1, 0.1],\n",
    "    [0.2, 0.5],\n",
    "    [0.7, 0.6]\n",
    "])"
   ]
  },
  {
   "cell_type": "code",
   "execution_count": null,
   "metadata": {},
   "outputs": [],
   "source": [
    "points = np.vstack([start_point, control_points, end_point])\n",
    "x = points[:, 0]\n",
    "y = points[:, 1]\n",
    "\n",
    "# Fit the B-spline\n",
    "tck, u = spi.splprep([x, y], s=0)\n",
    "\n",
    "# Evaluate the spline\n",
    "unew = np.linspace(0, 1.0, 1000)\n",
    "out = spi.splev(unew, tck)\n",
    "\n",
    "# Plot the results\n",
    "plt.figure()\n",
    "plt.plot(x, y, 'ro', label='Control Points')\n",
    "plt.plot(out[0], out[1], 'b-', label='B-spline Curve')\n",
    "plt.legend()\n",
    "plt.xlabel('X')\n",
    "plt.ylabel('Y')\n",
    "plt.title('B-spline fitting with start and end points')\n",
    "plt.show()"
   ]
  },
  {
   "cell_type": "markdown",
   "metadata": {},
   "source": [
    "# Step 2: Differential Flatness\n",
    "---"
   ]
  },
  {
   "cell_type": "markdown",
   "metadata": {},
   "source": [
    "## Standard Dubin's car"
   ]
  },
  {
   "cell_type": "code",
   "execution_count": null,
   "metadata": {},
   "outputs": [],
   "source": []
  }
 ],
 "metadata": {
  "interpreter": {
   "hash": "59137d61799be30032e5318ee06a7b358b38b5233e4480a935088bf46906560d"
  },
  "kernelspec": {
   "display_name": "Python 3.8.18 64-bit ('nem': conda)",
   "name": "python3"
  },
  "language_info": {
   "codemirror_mode": {
    "name": "ipython",
    "version": 3
   },
   "file_extension": ".py",
   "mimetype": "text/x-python",
   "name": "python",
   "nbconvert_exporter": "python",
   "pygments_lexer": "ipython3",
   "version": "3.8.19"
  },
  "orig_nbformat": 4
 },
 "nbformat": 4,
 "nbformat_minor": 2
}
