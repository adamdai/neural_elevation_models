{
 "cells": [
  {
   "cell_type": "markdown",
   "metadata": {},
   "source": [
    "Explore different trajectory parameterization options.\n",
    "\n",
    "Step 1 is how to parameterize a continuous 2D $(x(t),y(t))$ trajectory. \n",
    "We can use a polynomial, a spline, or a neural network.\n",
    "\n",
    "Step 2 is to use differential flatness to obtain the full state and control trajectories."
   ]
  },
  {
   "cell_type": "code",
   "execution_count": null,
   "metadata": {},
   "outputs": [],
   "source": [
    "import numpy as np\n",
    "import matplotlib.pyplot as plt\n",
    "import plotly.graph_objects as go\n",
    "\n",
    "import torch\n",
    "\n",
    "device = torch.device(\"cuda\" if torch.cuda.is_available() else \"cpu\")\n",
    "\n",
    "# autoreload\n",
    "%load_ext autoreload\n",
    "%autoreload 2"
   ]
  },
  {
   "cell_type": "markdown",
   "metadata": {},
   "source": [
    "# Step 1: Trajectory parameterization\n",
    "---"
   ]
  },
  {
   "cell_type": "markdown",
   "metadata": {},
   "source": [
    "## Polynomial"
   ]
  },
  {
   "cell_type": "code",
   "execution_count": null,
   "metadata": {},
   "outputs": [],
   "source": [
    "class PolyPath:\n",
    "    def __init__(self, d, n, start, end, free_coeffs=None):\n",
    "        \"\"\"\n",
    "        Constrain endpoints, zero velocity at endpoints.\n",
    "\n",
    "        d : int\n",
    "            Dimension of the path\n",
    "        n : int\n",
    "            Degree of the polynomial\n",
    "        free_coeffs : np.ndarray (n+1-4, d)\n",
    "            Free coefficients. The first 4 coefficients are constrained\n",
    "            \n",
    "        \"\"\"\n",
    "        self.d = d\n",
    "        self.n = n\n",
    "        self.exponents = torch.arange(n+1, device=device).float()\n",
    "        \n",
    "        # Compute full coefficients\n",
    "        self.coeffs = torch.zeros((n+1, d), device=device)\n",
    "        self.coeffs[4:] = free_coeffs\n",
    "        self.coeffs[3] = 2 * (start - end) - free_coeffs.T @ torch.arange(2, n-1, device=device).float()\n",
    "        self.coeffs[2] = (end - start) - self.coeffs[3] - free_coeffs.T @ torch.ones(n-3, device=device)\n",
    "        self.coeffs[1] = 0.0\n",
    "        self.coeffs[0] = start\n",
    "        \n",
    "\n",
    "    def eval(self, t):\n",
    "        N = len(t)\n",
    "        T = t[:, None] ** self.exponents\n",
    "        return T @ self.coeffs"
   ]
  },
  {
   "cell_type": "code",
   "execution_count": null,
   "metadata": {},
   "outputs": [],
   "source": [
    "d = 2 # dim\n",
    "n = 8 # degree\n",
    "\n",
    "for i in range(100):\n",
    "    free_coeffs = np.random.rand(n+1-4, d)\n",
    "    start = np.array([0,0])\n",
    "    end = np.array([1,1])\n",
    "    path = PolyPath(d, n, start, end, free_coeffs)\n",
    "\n",
    "    t = np.linspace(0, 1, 100)\n",
    "    X = path.eval(t)\n",
    "    plt.plot(X[:, 0], X[:, 1])"
   ]
  },
  {
   "cell_type": "code",
   "execution_count": null,
   "metadata": {},
   "outputs": [],
   "source": [
    "# Optimize a poly path\n",
    "d = 2\n",
    "n = 10\n",
    "start = torch.tensor([0.0, 0.0], device=device)\n",
    "end = torch.tensor([1.0 ,1.0], device=device)\n",
    "\n",
    "free_coeffs = torch.rand(n+1-4, d, device=device, requires_grad=True)\n",
    "path = PolyPath(d, n, start, end, free_coeffs)\n",
    "\n",
    "# Optimize to avoid circle at (0.5, 0.5)\n",
    "\n",
    "def loss(X):\n",
    "    # distance loss\n",
    "    return torch.diff(X, dim=0).norm(dim=1).sum()\n",
    "\n",
    "def loss_1(X):\n",
    "    return torch.sum(1.0 / (1e-7 + torch.norm(X - torch.tensor([0.25, 0.25], device=device), dim=1)))\n",
    "\n",
    "def loss_2(X):\n",
    "    return torch.sum(1.0 / (1e-7 + torch.norm(X - torch.tensor([0.75, 0.75], device=device), dim=1)))\n",
    "\n",
    "optimizer = torch.optim.Adam([free_coeffs], lr=1e-2)\n",
    "for i in range(1000):\n",
    "    optimizer.zero_grad()\n",
    "    path = PolyPath(d, n, start, end, free_coeffs)\n",
    "    X = path.eval(t)\n",
    "    l = loss(X) + 1e-2*loss_1(X) + 1e-2*loss_2(X)\n",
    "    l.backward()\n",
    "    optimizer.step()\n",
    "    if i % 100 == 0:\n",
    "        print(l.item())"
   ]
  },
  {
   "cell_type": "code",
   "execution_count": null,
   "metadata": {},
   "outputs": [],
   "source": [
    "# free_coeffs = torch.rand(n+1-4, d, device=device, requires_grad=True)\n",
    "path = PolyPath(d, n, start, end, free_coeffs)\n",
    "t = torch.linspace(0, 1, 100, device=device)\n",
    "X = path.eval(t)\n",
    "plt.plot(X[:, 0].detach().cpu().numpy(), X[:, 1].detach().cpu().numpy())"
   ]
  },
  {
   "cell_type": "markdown",
   "metadata": {},
   "source": [
    "## B-spline"
   ]
  },
  {
   "cell_type": "code",
   "execution_count": null,
   "metadata": {},
   "outputs": [],
   "source": [
    "import scipy.interpolate as spi"
   ]
  },
  {
   "cell_type": "code",
   "execution_count": null,
   "metadata": {},
   "outputs": [],
   "source": [
    "start_point = np.array([0, 0])\n",
    "end_point = np.array([1, 1])\n",
    "\n",
    "control_points = np.array([\n",
    "    [0.1, 0.1],\n",
    "    [0.2, 0.5],\n",
    "    [0.7, 0.6]\n",
    "])"
   ]
  },
  {
   "cell_type": "code",
   "execution_count": null,
   "metadata": {},
   "outputs": [],
   "source": [
    "points = np.vstack([start_point, control_points, end_point])\n",
    "x = points[:, 0]\n",
    "y = points[:, 1]\n",
    "\n",
    "# Fit the B-spline\n",
    "tck, u = spi.splprep([x, y], s=0)\n",
    "\n",
    "# Evaluate the spline\n",
    "unew = np.linspace(0, 1.0, 1000)\n",
    "out = spi.splev(unew, tck)\n",
    "\n",
    "# Plot the results\n",
    "plt.figure()\n",
    "plt.plot(x, y, 'ro', label='Control Points')\n",
    "plt.plot(out[0], out[1], 'b-', label='B-spline Curve')\n",
    "plt.legend()\n",
    "plt.xlabel('X')\n",
    "plt.ylabel('Y')\n",
    "plt.title('B-spline fitting with start and end points')\n",
    "plt.show()"
   ]
  },
  {
   "cell_type": "markdown",
   "metadata": {},
   "source": [
    "# Step 2: Differential Flatness\n",
    "---"
   ]
  },
  {
   "cell_type": "markdown",
   "metadata": {},
   "source": [
    "## Standard Dubin's car"
   ]
  },
  {
   "cell_type": "code",
   "execution_count": null,
   "metadata": {},
   "outputs": [],
   "source": []
  }
 ],
 "metadata": {
  "interpreter": {
   "hash": "59137d61799be30032e5318ee06a7b358b38b5233e4480a935088bf46906560d"
  },
  "kernelspec": {
   "display_name": "Python 3.8.18 64-bit ('nem': conda)",
   "name": "python3"
  },
  "language_info": {
   "codemirror_mode": {
    "name": "ipython",
    "version": 3
   },
   "file_extension": ".py",
   "mimetype": "text/x-python",
   "name": "python",
   "nbconvert_exporter": "python",
   "pygments_lexer": "ipython3",
   "version": "3.8.19"
  },
  "orig_nbformat": 4
 },
 "nbformat": 4,
 "nbformat_minor": 2
}
