{
 "cells": [
  {
   "cell_type": "code",
   "execution_count": 1,
   "metadata": {},
   "outputs": [],
   "source": [
    "import numpy as np\n",
    "import cv2\n",
    "import matplotlib.pyplot as plt\n",
    "import matplotlib.image as mpimg\n",
    "import plotly.graph_objects as go\n",
    "\n",
    "# autoreload\n",
    "%load_ext autoreload\n",
    "%autoreload 2"
   ]
  },
  {
   "cell_type": "code",
   "execution_count": null,
   "metadata": {},
   "outputs": [],
   "source": [
    "import numpy as np\n",
    "phi = np.linspace(0, 2.*np.pi, 40)\n",
    "r = 0.5 + np.cos(phi)         # polar coords\n",
    "x, y = r * np.cos(phi), r * np.sin(phi)    # convert to cartesian"
   ]
  },
  {
   "cell_type": "code",
   "execution_count": null,
   "metadata": {},
   "outputs": [],
   "source": [
    "# Let's define a spline which starts at (0.0) and ends at (1,1)\n"
   ]
  },
  {
   "cell_type": "code",
   "execution_count": null,
   "metadata": {},
   "outputs": [],
   "source": [
    "# Dubin's differential flatness trajectory generation\n",
    "\n",
    "start_pos = np.array([0, 0])\n",
    "start_v = np.array([0, 0])\n",
    "start_theta = 0.0\n",
    "start_omega = 0.0\n",
    "\n",
    "end_pos = np.array([1, 1])\n",
    "end_v = np.array([0, 0])\n",
    "end_theta = 0.0\n",
    "end_omega = 0.0\n",
    "\n"
   ]
  }
 ],
 "metadata": {
  "interpreter": {
   "hash": "59137d61799be30032e5318ee06a7b358b38b5233e4480a935088bf46906560d"
  },
  "kernelspec": {
   "display_name": "Python 3.8.18 64-bit ('nem': conda)",
   "name": "python3"
  },
  "language_info": {
   "codemirror_mode": {
    "name": "ipython",
    "version": 3
   },
   "file_extension": ".py",
   "mimetype": "text/x-python",
   "name": "python",
   "nbconvert_exporter": "python",
   "pygments_lexer": "ipython3",
   "version": "3.8.18"
  },
  "orig_nbformat": 4
 },
 "nbformat": 4,
 "nbformat_minor": 2
}
