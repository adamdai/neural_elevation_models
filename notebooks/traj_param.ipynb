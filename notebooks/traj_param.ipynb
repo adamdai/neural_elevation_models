{
 "cells": [
  {
   "cell_type": "markdown",
   "metadata": {},
   "source": [
    "Explore different trajectory parameterization options.\n",
    "\n",
    "Step 1 is how to parameterize a continuous 2D $(x(t),y(t))$ trajectory. \n",
    "We can use a polynomial, a spline, or a neural network.\n",
    "\n",
    "Step 2 is to use differential flatness to obtain the full state and control trajectories."
   ]
  },
  {
   "cell_type": "code",
   "execution_count": null,
   "metadata": {},
   "outputs": [],
   "source": [
    "import numpy as np\n",
    "import matplotlib.pyplot as plt\n",
    "import plotly.graph_objects as go\n",
    "\n",
    "import torch\n",
    "\n",
    "device = torch.device(\"cuda\" if torch.cuda.is_available() else \"cpu\")\n",
    "\n",
    "# autoreload\n",
    "%load_ext autoreload\n",
    "%autoreload 2"
   ]
  },
  {
   "cell_type": "markdown",
   "metadata": {},
   "source": [
    "# Step 1: Trajectory parameterization\n",
    "---"
   ]
  },
  {
   "cell_type": "code",
   "execution_count": null,
   "metadata": {},
   "outputs": [],
   "source": [
    "# 12 points in an S shape between (0,0) and (10, 10)\n",
    "waypoints = np.array([\n",
    "    [0, 0],\n",
    "    [1, 2],\n",
    "    [2, 4],\n",
    "    [3, 6],\n",
    "    [4, 7],\n",
    "    [5, 7],\n",
    "    [6, 7],\n",
    "    [7, 6],\n",
    "    [8, 4],\n",
    "    [9, 2],\n",
    "    [10, 1],\n",
    "    [10, 0]\n",
    "])\n",
    "initial_heading = 0.0"
   ]
  },
  {
   "cell_type": "markdown",
   "metadata": {},
   "source": [
    "## Polynomial"
   ]
  },
  {
   "cell_type": "code",
   "execution_count": null,
   "metadata": {},
   "outputs": [],
   "source": [
    "from nemo.path import cubic_spline_coefficients\n",
    "\n",
    "def cubic_spline_coefficients(waypoints, initial_heading):\n",
    "    n = len(waypoints) - 1  # Number of splines\n",
    "\n",
    "    h = np.diff(waypoints[:, 0])\n",
    "    b = np.diff(waypoints[:, 1]) / h\n",
    "\n",
    "    A = np.zeros((n+1, n+1))\n",
    "    B = np.zeros(n+1)\n",
    "\n",
    "    # Initial heading condition\n",
    "    initial_slope = np.tan(initial_heading)\n",
    "    A[0, 0] = 2 * h[0]\n",
    "    A[0, 1] = h[0]\n",
    "    B[0] = 3 * (b[0] - initial_slope)\n",
    "\n",
    "    # Continuity conditions\n",
    "    for i in range(1, n):\n",
    "        A[i, i-1] = h[i-1]\n",
    "        A[i, i] = 2 * (h[i-1] + h[i])\n",
    "        A[i, i+1] = h[i]\n",
    "        B[i] = 3 * (b[i] - b[i-1])\n",
    "\n",
    "    # Not-a-knot end condition at the last point\n",
    "    A[n, n-1] = h[-1]\n",
    "    A[n, n] = 2 * h[-1]\n",
    "    B[n] = 0  # Natural spline end condition\n",
    "\n",
    "    # Solve for c\n",
    "    c = np.linalg.solve(A, B)\n",
    "\n",
    "    a = waypoints[:-1, 1]\n",
    "    b = b - h * (2*c[:-1] + c[1:]) / 3\n",
    "    d = (c[1:] - c[:-1]) / (3*h)\n",
    "    c = c[:-1]\n",
    "\n",
    "    coefficients = np.vstack((a, b, c, d)).T\n",
    "    return coefficients\n",
    "\n",
    "def plot_cubic_splines(waypoints, coefficients):\n",
    "    x_vals = []\n",
    "    y_vals = []\n",
    "\n",
    "    for i in range(len(coefficients)):\n",
    "        a, b, c, d = coefficients[i]\n",
    "        x0 = waypoints[i, 0]\n",
    "        x1 = waypoints[i + 1, 0]\n",
    "\n",
    "        x = np.linspace(x0, x1, 100)\n",
    "        y = a + b * (x - x0) + c * (x - x0)**2 + d * (x - x0)**3\n",
    "\n",
    "        x_vals.extend(x)\n",
    "        y_vals.extend(y)\n",
    "\n",
    "    plt.plot(x_vals, y_vals, label='Cubic Spline')\n",
    "    plt.scatter(waypoints[:, 0], waypoints[:, 1], color='red', zorder=5, label='Waypoints')\n",
    "    plt.title('Cubic Spline Interpolation')\n",
    "    plt.xlabel('X')\n",
    "    plt.ylabel('Y')\n",
    "    plt.legend()\n",
    "    plt.grid(True)\n",
    "    plt.show()\n",
    "\n",
    "# Example usage\n",
    "waypoints = np.array([\n",
    "    [0, 0],\n",
    "    [1, 2],\n",
    "    [2, 0],\n",
    "    [3, 2],\n",
    "    [3, 3],\n",
    "    [3, 5]\n",
    "])\n",
    "initial_heading = np.radians(-45)  # Initial heading angle in degrees\n",
    "\n",
    "coefficients = cubic_spline_coefficients(waypoints, initial_heading)\n",
    "plot_cubic_splines(waypoints, coefficients)\n"
   ]
  },
  {
   "cell_type": "code",
   "execution_count": null,
   "metadata": {},
   "outputs": [],
   "source": [
    "coefficients"
   ]
  },
  {
   "cell_type": "markdown",
   "metadata": {},
   "source": [
    "## Polynomial"
   ]
  },
  {
   "cell_type": "code",
   "execution_count": null,
   "metadata": {},
   "outputs": [],
   "source": [
    "class PolyPath:\n",
    "    def __init__(self, d, n, start, end, free_coeffs=None):\n",
    "        \"\"\"\n",
    "        Constrain endpoints, zero velocity at endpoints.\n",
    "\n",
    "        d : int\n",
    "            Dimension of the path\n",
    "        n : int\n",
    "            Degree of the polynomial\n",
    "        free_coeffs : np.ndarray (n+1-4, d)\n",
    "            Free coefficients. The first 4 coefficients are constrained\n",
    "            \n",
    "        \"\"\"\n",
    "        self.d = d\n",
    "        self.n = n\n",
    "        self.exponents = torch.arange(n+1, device=device).float()\n",
    "        \n",
    "        # Compute full coefficients\n",
    "        self.coeffs = np.zeros((n+1, d))\n",
    "        self.coeffs[4:] = free_coeffs\n",
    "        self.coeffs[3] = 2 * (start - end) - free_coeffs.T @ np.arange(2, n-1)\n",
    "        self.coeffs[2] = (end - start) - self.coeffs[3] - free_coeffs.T @ np.ones(n-3)\n",
    "        self.coeffs[1] = 0\n",
    "        self.coeffs[0] = start\n",
    "        \n",
    "\n",
    "    def eval(self, t):\n",
    "        N = len(t)\n",
    "        T = t[:, None] ** self.exponents\n",
    "        return T @ self.coeffs"
   ]
  },
  {
   "cell_type": "code",
   "execution_count": null,
   "metadata": {},
   "outputs": [],
   "source": [
    "np.arange(2,5)"
   ]
  },
  {
   "cell_type": "code",
   "execution_count": null,
   "metadata": {},
   "outputs": [],
   "source": [
    "np.ones((2,10)) @ np.ones(10)"
   ]
  },
  {
   "cell_type": "code",
   "execution_count": null,
   "metadata": {},
   "outputs": [],
   "source": [
    "# generate series of 1, 0.1, 0.01, 0.001, ..\n",
    "10.0**np.arange(-4, 0)"
   ]
  },
  {
   "cell_type": "code",
   "execution_count": null,
   "metadata": {},
   "outputs": [],
   "source": [
    "d = 2 # dim\n",
    "n = 7 # degree\n",
    "\n",
    "for i in range(100):\n",
    "\n",
    "    free_coeffs = np.array([[ -1.96,  -1.96],\n",
    "                            [ 3.22,  3.22],\n",
    "                            [ -2.8,  -2.8],\n",
    "                            [1.0, 1.0]])\n",
    "\n",
    "    # free_coeffs = (np.random.rand(n+1-4, d) - 0.5)\n",
    "    # free_coeffs = (2.0**np.arange(-(n-3), 0) * free_coeffs.T).T\n",
    "    # free_coeffs[-1] = 1.0\n",
    "    start = np.array([-1, -1])\n",
    "    end = np.array([1, 1])\n",
    "    path = PolyPath(d, n, start, end, 1e5 * free_coeffs)\n",
    "\n",
    "    t = np.linspace(0, 1, 100)\n",
    "    X = path.eval(t)\n",
    "    \n",
    "    #plt.plot(X[:, 0], X[:, 1])\n",
    "    plt.plot(t, X[:, 0])"
   ]
  },
  {
   "cell_type": "code",
   "execution_count": null,
   "metadata": {},
   "outputs": [],
   "source": [
    "free_coeffs"
   ]
  },
  {
   "cell_type": "code",
   "execution_count": null,
   "metadata": {},
   "outputs": [],
   "source": [
    "# Optimize a poly path\n",
    "d = 2\n",
    "n = 10\n",
    "start = torch.tensor([0.0, 0.0], device=device)\n",
    "end = torch.tensor([1.0 ,1.0], device=device)\n",
    "\n",
    "free_coeffs = torch.rand(n+1-4, d, device=device, requires_grad=True)\n",
    "path = PolyPath(d, n, start, end, free_coeffs)\n",
    "\n",
    "# Optimize to avoid circle at (0.5, 0.5)\n",
    "\n",
    "def loss(X):\n",
    "    # distance loss\n",
    "    return torch.diff(X, dim=0).norm(dim=1).sum()\n",
    "\n",
    "def loss_1(X):\n",
    "    return torch.sum(1.0 / (1e-7 + torch.norm(X - torch.tensor([0.25, 0.25], device=device), dim=1)))\n",
    "\n",
    "def loss_2(X):\n",
    "    return torch.sum(1.0 / (1e-7 + torch.norm(X - torch.tensor([0.75, 0.75], device=device), dim=1)))\n",
    "\n",
    "optimizer = torch.optim.Adam([free_coeffs], lr=1e-2)\n",
    "for i in range(1000):\n",
    "    optimizer.zero_grad()\n",
    "    path = PolyPath(d, n, start, end, free_coeffs)\n",
    "    X = path.eval(t)\n",
    "    l = loss(X) + 1e-2*loss_1(X) + 1e-2*loss_2(X)\n",
    "    l.backward()\n",
    "    optimizer.step()\n",
    "    if i % 100 == 0:\n",
    "        print(l.item())"
   ]
  },
  {
   "cell_type": "code",
   "execution_count": null,
   "metadata": {},
   "outputs": [],
   "source": [
    "# free_coeffs = torch.rand(n+1-4, d, device=device, requires_grad=True)\n",
    "path = PolyPath(d, n, start, end, free_coeffs)\n",
    "t = torch.linspace(0, 1, 100, device=device)\n",
    "X = path.eval(t)\n",
    "plt.plot(X[:, 0].detach().cpu().numpy(), X[:, 1].detach().cpu().numpy())"
   ]
  },
  {
   "cell_type": "markdown",
   "metadata": {},
   "source": [
    "## B-spline"
   ]
  },
  {
   "cell_type": "code",
   "execution_count": null,
   "metadata": {},
   "outputs": [],
   "source": [
    "import scipy.interpolate as spi"
   ]
  },
  {
   "cell_type": "code",
   "execution_count": null,
   "metadata": {},
   "outputs": [],
   "source": [
    "start_point = np.array([0, 0])\n",
    "end_point = np.array([1, 1])\n",
    "\n",
    "control_points = np.array([\n",
    "    [0.1, 0.1],\n",
    "    [0.2, 0.5],\n",
    "    [0.7, 0.6]\n",
    "])"
   ]
  },
  {
   "cell_type": "code",
   "execution_count": null,
   "metadata": {},
   "outputs": [],
   "source": [
    "points = np.vstack([start_point, control_points, end_point])\n",
    "x = points[:, 0]\n",
    "y = points[:, 1]\n",
    "\n",
    "# Fit the B-spline\n",
    "tck, u = spi.splprep([x, y], s=0)\n",
    "\n",
    "# Evaluate the spline\n",
    "unew = np.linspace(0, 1.0, 1000)\n",
    "out = spi.splev(unew, tck)\n",
    "\n",
    "# Plot the results\n",
    "plt.figure()\n",
    "plt.plot(x, y, 'ro', label='Control Points')\n",
    "plt.plot(out[0], out[1], 'b-', label='B-spline Curve')\n",
    "plt.legend()\n",
    "plt.xlabel('X')\n",
    "plt.ylabel('Y')\n",
    "plt.title('B-spline fitting with start and end points')\n",
    "plt.show()"
   ]
  },
  {
   "cell_type": "markdown",
   "metadata": {},
   "source": [
    "# Step 2: Differential Flatness\n",
    "---"
   ]
  },
  {
   "cell_type": "markdown",
   "metadata": {},
   "source": [
    "## Standard Dubin's car"
   ]
  },
  {
   "cell_type": "code",
   "execution_count": null,
   "metadata": {},
   "outputs": [],
   "source": []
  }
 ],
 "metadata": {
  "kernelspec": {
   "display_name": "nemo",
   "language": "python",
   "name": "python3"
  },
  "language_info": {
   "codemirror_mode": {
    "name": "ipython",
    "version": 3
   },
   "file_extension": ".py",
   "mimetype": "text/x-python",
   "name": "python",
   "nbconvert_exporter": "python",
   "pygments_lexer": "ipython3",
   "version": "3.8.19"
  },
  "orig_nbformat": 4
 },
 "nbformat": 4,
 "nbformat_minor": 2
}
