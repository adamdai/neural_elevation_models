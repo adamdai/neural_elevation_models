{
 "cells": [
  {
   "cell_type": "code",
   "execution_count": null,
   "metadata": {},
   "outputs": [],
   "source": [
    "import numpy as np\n",
    "import plotly.graph_objects as go\n",
    "import plotly.express as px\n",
    "\n",
    "import torch\n",
    "import torch.nn as nn\n",
    "import torch.nn.functional as F\n",
    "\n",
    "from torchvision.ops import MLP\n",
    "\n",
    "from nemo.siren import Siren\n",
    "from nemo.global_planner import GlobalPlanner\n",
    "\n",
    "device = torch.device(\"cuda\" if torch.cuda.is_available() else \"cpu\")\n",
    "\n",
    "# autoreload\n",
    "%load_ext autoreload\n",
    "%autoreload 2"
   ]
  },
  {
   "cell_type": "markdown",
   "metadata": {},
   "source": [
    "# Mt Bruno SIREN"
   ]
  },
  {
   "cell_type": "code",
   "execution_count": null,
   "metadata": {},
   "outputs": [],
   "source": [
    "# Load the siren elevation model\n",
    "siren = Siren(in_features=2, out_features=1, hidden_features=256,\n",
    "                hidden_layers=3, outermost_linear=True).to(device)\n",
    "\n",
    "siren.load_state_dict(torch.load('../models/mt_bruno_siren.pt'))\n",
    "siren.eval()\n",
    "pass"
   ]
  },
  {
   "cell_type": "code",
   "execution_count": null,
   "metadata": {},
   "outputs": [],
   "source": [
    "# Visualize it\n",
    "xs = torch.linspace(-1, 1, steps=100, device=device)\n",
    "ys = torch.linspace(-1, 1, steps=100, device=device)\n",
    "x, y = torch.meshgrid(xs, ys, indexing='xy')\n",
    "xy = torch.hstack((x.reshape(-1, 1), y.reshape(-1, 1)))\n",
    "\n",
    "with torch.no_grad():\n",
    "    #pred, coords = siren(xy)\n",
    "    pred = siren(xy)\n",
    "pred_np = pred.detach().cpu().numpy().reshape(100, 100)\n",
    "x_np = x.cpu().numpy()\n",
    "y_np = y.cpu().numpy()\n",
    "\n",
    "# Plot the predictions\n",
    "fig = go.Figure(data=[go.Surface(z=pred_np, x=x_np, y=y_np)])\n",
    "fig.update_layout(width=1200, height=700, scene_aspectmode='data')\n",
    "fig.show()"
   ]
  },
  {
   "cell_type": "code",
   "execution_count": null,
   "metadata": {},
   "outputs": [],
   "source": [
    "# 2D plot\n",
    "fig = px.imshow(pred.detach().cpu().numpy().reshape(100, 100), x=xs.cpu().numpy(), y=ys.cpu().numpy())\n",
    "fig.update_layout(width=500, height=500)\n",
    "fig.show()"
   ]
  },
  {
   "cell_type": "markdown",
   "metadata": {},
   "source": [
    "### Continuous A*\n",
    "\n",
    "Given a continuous 2D scalar cost function $C$, learn the 2D cost-to-go function $G$ and backwards flow field $F$ such that $G$ is the solution to the Eikonal equation and $F$ is the gradient of $G$. The Eikonal equation is a first-order nonlinear PDE that can be solved using the Fast Marching Method. The gradient of the cost-to-go function is the optimal control for a continuous A* planner.\n",
    "\n",
    "In the context of dynamic programming and HJB, the value function $V = \\min_{u} \\{ \\int C(x(t),u(t))dt \\}$ where $x(t)$ obeys some dynamics $\\dot{x} = f(x,u)$ and $x(0) = x_0$. The optimal control $u^*$ is the minimizer of the integral. The value function is the solution to the HJB equation $\\nabla V + \\min_u \\{ C(x,u) + \\nabla V \\cdot f(x,u) \\} = 0$. The backwards flow field $F$ is the gradient of $G$.  "
   ]
  },
  {
   "cell_type": "code",
   "execution_count": null,
   "metadata": {},
   "outputs": [],
   "source": []
  },
  {
   "cell_type": "markdown",
   "metadata": {},
   "source": [
    "### Continuous path planning"
   ]
  },
  {
   "cell_type": "markdown",
   "metadata": {},
   "source": [
    "#### Optimal control formulation\n",
    "\n",
    "minimize $\\sum_{t=0}^{T-1} C(t,x_t,u_t)$\n",
    "\n",
    "subject to: \\\n",
    " $x_{t+1} = f(t,x_t,u_t)$ \\\n",
    " $x_0 = x_{\\text{start}}$ \\\n",
    " $x_T = x_{\\text{goal}}$ \\\n",
    " $u_t \\in U$   (control constraints)\n",
    "\n",
    "where $x_t$ is the state at time $t$, $u_t$ is the control at time $t$, $C(t,x_t,u_t)$ is the cost at time $t$, and $f(t,x_t,u_t)$ is the dynamics.\n",
    "\n",
    "We'll consider "
   ]
  },
  {
   "cell_type": "markdown",
   "metadata": {},
   "source": [
    "#### Neural ODE\n",
    "\n",
    "* Is there a way of converting some of these losses into constraints?\n",
    "    * Specifically the goal reaching loss\n",
    "* Try enforcing max norm on dynamics"
   ]
  },
  {
   "cell_type": "code",
   "execution_count": null,
   "metadata": {},
   "outputs": [],
   "source": [
    "x_0 = torch.tensor([-1.0, -1.0], device=device)\n",
    "x_f = torch.tensor([1.0, 1.0], device=device)\n",
    "T = torch.linspace(0, 1, 100, device=device)[:,None]\n",
    "\n",
    "mse = nn.MSELoss()"
   ]
  },
  {
   "cell_type": "code",
   "execution_count": null,
   "metadata": {},
   "outputs": [],
   "source": [
    "dyn = MLP(in_channels=1, hidden_channels=[256, 256, 256, 2]).to(device)"
   ]
  },
  {
   "cell_type": "code",
   "execution_count": null,
   "metadata": {},
   "outputs": [],
   "source": [
    "optimizer = torch.optim.Adam(dyn.parameters(), lr=1e-3)"
   ]
  },
  {
   "cell_type": "code",
   "execution_count": null,
   "metadata": {},
   "outputs": [],
   "source": [
    "for i in range(1000):\n",
    "    dx = dyn(T)\n",
    "    path = torch.cumsum(dx, dim=0) + x_0\n",
    "    goal_loss = 1e2 * mse(path[-1], x_f)\n",
    "    dist_loss = 1e-3 * torch.norm(dx, dim=1).nanmean()\n",
    "    \n",
    "    # heights = siren(path)\n",
    "    # cost_loss = heights.mean()\n",
    "    heights, grad = siren.forward_with_grad(path)\n",
    "    # cost_loss = torch.exp(10 * torch.abs(torch.sum(dx * grad, axis=1)) - 1).mean()\n",
    "    cost_loss = 100 * torch.abs(torch.sum(dx * grad, axis=1)).mean()\n",
    "\n",
    "    loss = goal_loss + cost_loss \n",
    "    \n",
    "    optimizer.zero_grad()\n",
    "    loss.backward()\n",
    "    optimizer.step()\n",
    "    \n",
    "    if i % 100 == 0:\n",
    "        print(f'Loss: {loss.item()}')"
   ]
  },
  {
   "cell_type": "code",
   "execution_count": null,
   "metadata": {},
   "outputs": [],
   "source": [
    "with torch.no_grad():\n",
    "    dx = dyn(T)\n",
    "path = torch.cumsum(dx, dim=0) + x_0\n",
    "heights, grad = siren.forward_with_grad(path)\n",
    "path_z = heights.detach().cpu().numpy().flatten()\n",
    "costs = torch.abs(torch.sum(dx * grad, axis=1)).detach().cpu().numpy()"
   ]
  },
  {
   "cell_type": "code",
   "execution_count": null,
   "metadata": {},
   "outputs": [],
   "source": [
    "fig = go.Figure()\n",
    "fig.add_trace(go.Surface(z=pred_np, x=x_np, y=y_np, colorscale='Viridis'))\n",
    "fig.add_trace(go.Scatter3d(x=path[:,0].detach().cpu().numpy(), \n",
    "                           y=path[:,1].detach().cpu().numpy(), \n",
    "                           z=path_z, mode='lines', line=dict(color=costs, width=10), \n",
    "                           hovertext=costs))\n",
    "fig.update_layout(width=1600, height=900, scene_aspectmode='data')\n",
    "fig.show()"
   ]
  },
  {
   "cell_type": "code",
   "execution_count": null,
   "metadata": {},
   "outputs": [],
   "source": [
    "# save html\n",
    "fig.write_html(\"path.html\")"
   ]
  },
  {
   "cell_type": "markdown",
   "metadata": {},
   "source": [
    "### Discrete path planning"
   ]
  },
  {
   "cell_type": "code",
   "execution_count": null,
   "metadata": {},
   "outputs": [],
   "source": [
    "pred, z_xy_grad = siren.forward_with_grad(xy)\n",
    "\n",
    "x_grad = z_xy_grad[:, 0].detach().cpu().numpy().reshape(100, 100)\n",
    "y_grad = z_xy_grad[:, 1].detach().cpu().numpy().reshape(100, 100)"
   ]
  },
  {
   "cell_type": "code",
   "execution_count": null,
   "metadata": {},
   "outputs": [],
   "source": [
    "GRID_LEN = 100\n",
    "\n",
    "start_idx = (0, 0)                   # (-1, -1)\n",
    "end_idx = (GRID_LEN-1, GRID_LEN-1)   # (1, 1)\n",
    "# start_idx = (0, GRID_LEN-1)           # (-1, -1)\n",
    "# end_idx = (GRID_LEN-1, 0)             # (1, 1)\n",
    "\n",
    "grad_costmat = (np.abs(x_grad) + np.abs(y_grad))\n",
    "\n",
    "# Visualize the cost matrix\n",
    "fig = px.imshow(grad_costmat, x=xs.cpu().numpy(), y=ys.cpu().numpy(), origin='lower')\n",
    "fig.update_layout(width=500, height=500)\n",
    "fig.show()"
   ]
  },
  {
   "cell_type": "code",
   "execution_count": null,
   "metadata": {},
   "outputs": [],
   "source": [
    "# Run A* on the cost matrix\n",
    "gp = GlobalPlanner(grad_costmat)\n",
    "path = gp.plan(start_idx, end_idx)\n",
    "\n",
    "path_xs = xs[path[:,0]]\n",
    "path_ys = ys[path[:,1]]\n",
    "path_xy = torch.hstack((path_xs[:,None], path_ys[:,None]))\n",
    "path_zs, _ = siren(path_xy)"
   ]
  },
  {
   "cell_type": "code",
   "execution_count": null,
   "metadata": {},
   "outputs": [],
   "source": [
    "# Plot path on surface plot\n",
    "fig = go.Figure()\n",
    "fig.add_trace(go.Surface(z=pred.detach().cpu().numpy().reshape(100, 100), x=x.cpu().numpy(), y=y.cpu().numpy()))\n",
    "fig.add_trace(go.Scatter3d(x=path_xs.detach().cpu().numpy(), \n",
    "                           y=path_ys.detach().cpu().numpy(), \n",
    "                           z=path_zs.detach().cpu().numpy().flatten(), \n",
    "                           mode='markers', marker=dict(size=3, color='red')))\n",
    "fig.update_layout(width=1200, height=700, scene_aspectmode='data')\n",
    "fig.show()"
   ]
  },
  {
   "cell_type": "markdown",
   "metadata": {},
   "source": [
    "# Lunar DEM"
   ]
  },
  {
   "cell_type": "code",
   "execution_count": null,
   "metadata": {},
   "outputs": [],
   "source": [
    "dem_full = np.load('../data/lunar_dem.npy')\n",
    "Z = dem_full[:1000, :1000]\n",
    "\n",
    "# Surface plot approximately to scale\n",
    "xs = torch.linspace(0, 118500, steps=Z.shape[0], device=device)\n",
    "ys = torch.linspace(0, 118400, steps=Z.shape[1], device=device)\n",
    "x, y = torch.meshgrid(xs, ys, indexing='xy')\n",
    "\n",
    "fig = go.Figure(data=[go.Surface(z=Z, x=x.cpu().numpy(), y=y.cpu().numpy())])\n",
    "fig.update_layout(width=1200, height=700, scene_aspectmode='data')\n",
    "fig.show()"
   ]
  },
  {
   "cell_type": "code",
   "execution_count": null,
   "metadata": {},
   "outputs": [],
   "source": [
    "# Compute gradients\n",
    "x_grad = np.gradient(Z, axis=0)\n",
    "y_grad = np.gradient(Z, axis=1)\n",
    "\n",
    "grad_costmat = (np.abs(x_grad) + np.abs(y_grad))"
   ]
  },
  {
   "cell_type": "code",
   "execution_count": null,
   "metadata": {},
   "outputs": [],
   "source": [
    "start_idx = (0, 0)                  \n",
    "end_idx = (999, 999)  \n",
    "\n",
    "gp = GlobalPlanner(grad_costmat)\n",
    "path = gp.plan(start_idx, end_idx)"
   ]
  },
  {
   "cell_type": "code",
   "execution_count": null,
   "metadata": {},
   "outputs": [],
   "source": [
    "path_xs = xs[path[:,0]]\n",
    "path_ys = ys[path[:,1]]\n",
    "path_zs = Z[path[:,1], path[:,0]]"
   ]
  },
  {
   "cell_type": "code",
   "execution_count": null,
   "metadata": {},
   "outputs": [],
   "source": [
    "# Plot path on surface plot\n",
    "fig = go.Figure()\n",
    "fig.add_trace(go.Surface(z=Z, x=x.cpu().numpy(), y=y.cpu().numpy()))\n",
    "fig.add_trace(go.Scatter3d(x=path_xs.detach().cpu().numpy(), \n",
    "                           y=path_ys.detach().cpu().numpy(), \n",
    "                           z=path_zs, \n",
    "                           mode='markers', marker=dict(size=3, color='red')))\n",
    "fig.update_layout(width=1200, height=700, scene_aspectmode='data')\n",
    "fig.show()"
   ]
  },
  {
   "cell_type": "code",
   "execution_count": null,
   "metadata": {},
   "outputs": [],
   "source": []
  }
 ],
 "metadata": {
  "kernelspec": {
   "display_name": "nem",
   "language": "python",
   "name": "python3"
  },
  "language_info": {
   "codemirror_mode": {
    "name": "ipython",
    "version": 3
   },
   "file_extension": ".py",
   "mimetype": "text/x-python",
   "name": "python",
   "nbconvert_exporter": "python",
   "pygments_lexer": "ipython3",
   "version": "3.8.18"
  }
 },
 "nbformat": 4,
 "nbformat_minor": 2
}
