{
 "cells": [
  {
   "cell_type": "code",
   "execution_count": null,
   "metadata": {},
   "outputs": [],
   "source": [
    "import torch\n",
    "import tinycudann as tcnn\n",
    "import numpy as np\n",
    "import plotly.graph_objects as go\n",
    "\n",
    "from nerfstudio.field_components.spatial_distortions import SceneContraction\n",
    "\n",
    "device = torch.device(\"cuda:0\" if torch.cuda.is_available() else \"cpu\")\n",
    "\n",
    "%load_ext autoreload\n",
    "%autoreload 2"
   ]
  },
  {
   "cell_type": "code",
   "execution_count": null,
   "metadata": {},
   "outputs": [],
   "source": [
    "encoding = tcnn.Encoding(\n",
    "    n_input_dims=2,\n",
    "    encoding_config={\n",
    "        \"otype\": \"HashGrid\",\n",
    "        \"n_levels\": 16,\n",
    "        \"n_features_per_level\": 8,\n",
    "        \"log2_hashmap_size\": 19,\n",
    "        \"base_resolution\": 16,\n",
    "        \"per_level_scale\": 1.2599210739135742,\n",
    "    },\n",
    ")"
   ]
  },
  {
   "cell_type": "code",
   "execution_count": null,
   "metadata": {},
   "outputs": [],
   "source": [
    "tot_out_dims_2d = 128\n",
    "\n",
    "heightcap_net = tcnn.Network(\n",
    "    n_input_dims=tot_out_dims_2d,\n",
    "    n_output_dims=1,\n",
    "    network_config={\n",
    "        \"otype\": \"CutlassMLP\",\n",
    "        \"activation\": \"Sine\",\n",
    "        \"output_activation\": \"None\",\n",
    "        \"n_neurons\": 256,\n",
    "        \"n_hidden_layers\": 1,\n",
    "    },\n",
    ")"
   ]
  },
  {
   "cell_type": "code",
   "execution_count": null,
   "metadata": {},
   "outputs": [],
   "source": [
    "heightcap_net.load_state_dict(torch.load('../models/red_rocks_height_net.pth'))\n",
    "heightcap_net.to(device)\n",
    "pass"
   ]
  },
  {
   "cell_type": "code",
   "execution_count": null,
   "metadata": {},
   "outputs": [],
   "source": [
    "encoding.load_state_dict(torch.load('../models/red_rocks_encs.pth'))\n",
    "encoding.to(device)\n",
    "pass"
   ]
  },
  {
   "cell_type": "code",
   "execution_count": null,
   "metadata": {},
   "outputs": [],
   "source": [
    "N = 512\n",
    "bound = 0.75\n",
    "XY_grid = torch.meshgrid(\n",
    "    torch.linspace(-bound, bound, N, device=device),\n",
    "    torch.linspace(-bound, bound, N, device=device),\n",
    "    indexing='xy'\n",
    ")\n",
    "XY_grid = torch.stack(XY_grid, dim=-1)\n",
    "positions = XY_grid.reshape(-1, 2)\n",
    "xy = positions.detach().cpu().numpy()\n",
    "x = xy[:,0] \n",
    "y = xy[:,1] "
   ]
  },
  {
   "cell_type": "code",
   "execution_count": null,
   "metadata": {},
   "outputs": [],
   "source": [
    "spatial_distortion = SceneContraction()"
   ]
  },
  {
   "cell_type": "code",
   "execution_count": null,
   "metadata": {},
   "outputs": [],
   "source": [
    "positions = torch.cat([positions, torch.zeros_like(positions[..., :1])], dim=-1)\n",
    "positions = spatial_distortion(positions)\n",
    "positions = (positions + 2.0) / 4.0"
   ]
  },
  {
   "cell_type": "code",
   "execution_count": null,
   "metadata": {},
   "outputs": [],
   "source": [
    "pos_encd = encoding(positions[:, :2])\n",
    "heights = heightcap_net(pos_encd)"
   ]
  },
  {
   "cell_type": "code",
   "execution_count": null,
   "metadata": {},
   "outputs": [],
   "source": [
    "heights"
   ]
  },
  {
   "cell_type": "code",
   "execution_count": null,
   "metadata": {},
   "outputs": [],
   "source": [
    "z = heights.detach().cpu().numpy()\n",
    "\n",
    "fig = go.Figure(data=[go.Surface(x=x.reshape(N, N), y=y.reshape(N, N), z=z.reshape(N, N))])\n",
    "fig.update_layout(title='Elevation Model', width=1500, height=800)\n",
    "fig.update_layout(scene_aspectmode='data')\n",
    "fig.show()"
   ]
  },
  {
   "cell_type": "code",
   "execution_count": null,
   "metadata": {},
   "outputs": [],
   "source": [
    "# save html\n",
    "fig.write_html(\"red_rocks_MLP_sine.html\")"
   ]
  },
  {
   "cell_type": "code",
   "execution_count": null,
   "metadata": {},
   "outputs": [],
   "source": []
  }
 ],
 "metadata": {
  "kernelspec": {
   "display_name": "nerfstudio",
   "language": "python",
   "name": "python3"
  },
  "language_info": {
   "codemirror_mode": {
    "name": "ipython",
    "version": 3
   },
   "file_extension": ".py",
   "mimetype": "text/x-python",
   "name": "python",
   "nbconvert_exporter": "python",
   "pygments_lexer": "ipython3",
   "version": "3.8.18"
  }
 },
 "nbformat": 4,
 "nbformat_minor": 2
}
