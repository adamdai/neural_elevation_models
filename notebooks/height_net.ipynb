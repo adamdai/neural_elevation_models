{
 "cells": [
  {
   "cell_type": "code",
   "execution_count": null,
   "metadata": {},
   "outputs": [],
   "source": [
    "import torch\n",
    "import numpy as np\n",
    "import plotly.graph_objects as go\n",
    "import plotly.express as px\n",
    "\n",
    "from nemo.global_planner import AStarGradPlanner\n",
    "from nemo.nemo import Nemo\n",
    "from nemo.util import wrap_angle_torch, path_metrics\n",
    "from nemo.plotting import plot_surface, plot_path_3d\n",
    "from nemo.planning import path_optimization\n",
    "\n",
    "device = torch.device(\"cuda:0\" if torch.cuda.is_available() else \"cpu\")\n",
    "\n",
    "%load_ext autoreload\n",
    "%autoreload 2"
   ]
  },
  {
   "cell_type": "markdown",
   "metadata": {},
   "source": [
    "## Load the heightnet"
   ]
  },
  {
   "cell_type": "code",
   "execution_count": null,
   "metadata": {},
   "outputs": [],
   "source": [
    "nemo = Nemo()\n",
    "#nemo.load_weights('../models/redrocks_encs_relu.pth', '../models/redrocks_heightnet_relu.pth')\n",
    "nemo.load_weights('../models/kt22_encs.pth', '../models/kt22_heightnet.pth')"
   ]
  },
  {
   "cell_type": "code",
   "execution_count": null,
   "metadata": {},
   "outputs": [],
   "source": [
    "N = 64\n",
    "# xmin, xmax, ymin, ymax\n",
    "#bounds = (-0.3, 0.8, -0.45, 0.5) # red rocks\n",
    "bounds = (-1, 1, -1, 1) # kt22\n",
    "xs = torch.linspace(bounds[0], bounds[1], N, device=device)\n",
    "ys = torch.linspace(bounds[2], bounds[3], N, device=device)\n",
    "XY_grid = torch.meshgrid(xs, ys, indexing='xy')\n",
    "XY_grid = torch.stack(XY_grid, dim=-1)\n",
    "positions = XY_grid.reshape(-1, 2)\n",
    "\n",
    "heights = nemo.get_heights(positions)"
   ]
  },
  {
   "cell_type": "code",
   "execution_count": null,
   "metadata": {},
   "outputs": [],
   "source": [
    "z_grid = heights.reshape(N, N).detach().cpu().numpy()\n",
    "x_grid = XY_grid[:,:,0].detach().cpu().numpy()\n",
    "y_grid = XY_grid[:,:,1].detach().cpu().numpy()\n",
    "\n",
    "fig = plot_surface(x_grid, y_grid, z_grid, no_axes=True, showscale=False)\n",
    "fig.update_layout(width=1600, height=900)\n",
    "fig.show()"
   ]
  },
  {
   "cell_type": "code",
   "execution_count": null,
   "metadata": {},
   "outputs": [],
   "source": [
    "z_grid = heights.reshape(N, N).detach().cpu().numpy()\n",
    "x_grid = XY_grid[:,:,0].detach().cpu().numpy()\n",
    "y_grid = XY_grid[:,:,1].detach().cpu().numpy()\n",
    "\n",
    "fig = plot_surface(x_grid, y_grid, z_grid, no_axes=True, showscale=False)\n",
    "fig.update_layout(width=1600, height=1000)\n",
    "fig.show()"
   ]
  },
  {
   "cell_type": "code",
   "execution_count": null,
   "metadata": {},
   "outputs": [],
   "source": [
    "x_eye = 1.5\n",
    "y_eye = -1\n",
    "z_eye = 1\n",
    "\n",
    "fig.update_layout(\n",
    "         title='Animation Test',\n",
    "         width=1600,\n",
    "         height=900,\n",
    "         scene_camera_eye=dict(x=x_eye, y=y_eye, z=z_eye),\n",
    "         updatemenus=[dict(type='buttons',\n",
    "                  showactive=False,\n",
    "                  y=1,\n",
    "                  x=0.8,\n",
    "                  xanchor='left',\n",
    "                  yanchor='bottom',\n",
    "                  pad=dict(t=45, r=10),\n",
    "                  buttons=[dict(label='Play',\n",
    "                                 method='animate',\n",
    "                                 args=[None, dict(frame=dict(duration=5, redraw=True), \n",
    "                                                             transition=dict(duration=0),\n",
    "                                                             fromcurrent=True,\n",
    "                                                             mode='immediate'\n",
    "                                                            )]\n",
    "                                            )\n",
    "                                      ]\n",
    "                              )\n",
    "                        ]\n",
    ")\n",
    "\n",
    "\n",
    "def rotate_z(x, y, z, theta):\n",
    "    w = x+1j*y\n",
    "    return np.real(np.exp(1j*theta)*w), np.imag(np.exp(1j*theta)*w), z\n",
    "\n",
    "frames=[]\n",
    "for t in np.arange(0, 6.26, 0.025):\n",
    "    xe, ye, ze = rotate_z(x_eye, y_eye, z_eye, t)\n",
    "    frames.append(go.Frame(layout=dict(scene_camera_eye=dict(x=xe, y=ye, z=ze))))\n",
    "fig.frames=frames\n",
    "\n",
    "fig.show()"
   ]
  },
  {
   "cell_type": "markdown",
   "metadata": {},
   "source": [
    "## A*"
   ]
  },
  {
   "cell_type": "code",
   "execution_count": null,
   "metadata": {},
   "outputs": [],
   "source": [
    "# Initialize the planner with scaled heightmap\n",
    "heights = 1e4 * (z_grid + 1.0).reshape(N, N)\n",
    "gp = AStarGradPlanner(heights, bounds)\n",
    "\n",
    "# Start and end positions for path\n",
    "start = (0.7, 0.7)\n",
    "end = (-0.7, -0.7)\n",
    "# start = (0.32, -0.21)\n",
    "# end = (-0.02, -0.07)\n",
    "\n",
    "# Compute path\n",
    "path_xy = gp.spatial_plan(start, end)\n",
    "path_xy_torch = torch.tensor(path_xy, device=device)\n",
    "# Get heights along path\n",
    "path_zs = nemo.get_heights(path_xy_torch)  \n",
    "\n",
    "# Save path as torch tensor\n",
    "astar_path = torch.cat((path_xy_torch, path_zs), dim=1)"
   ]
  },
  {
   "cell_type": "code",
   "execution_count": null,
   "metadata": {},
   "outputs": [],
   "source": [
    "fig = plot_surface(x_grid, y_grid, z_grid, no_axes=True)\n",
    "fig = plot_path_3d(fig=fig, x=path_xy[:,0], y=path_xy[:,1], z=path_zs.detach().cpu().numpy().flatten())\n",
    "fig.show()"
   ]
  },
  {
   "cell_type": "code",
   "execution_count": null,
   "metadata": {},
   "outputs": [],
   "source": [
    "path_metrics(astar_path)"
   ]
  },
  {
   "cell_type": "markdown",
   "metadata": {},
   "source": [
    "## Path optimization"
   ]
  },
  {
   "cell_type": "code",
   "execution_count": null,
   "metadata": {},
   "outputs": [],
   "source": [
    "path_3d = path_optimization(nemo, path_xy_torch, iterations=500, lr=1e-3)"
   ]
  },
  {
   "cell_type": "code",
   "execution_count": null,
   "metadata": {},
   "outputs": [],
   "source": [
    "fig = plot_surface(x_grid, y_grid, z_grid, no_axes=True)\n",
    "fig = plot_path_3d(fig=fig, x=path_3d[:,0].detach().cpu().numpy(), \n",
    "                        y=path_3d[:,1].detach().cpu().numpy(), \n",
    "                        z=path_3d[:,2].detach().cpu().numpy(),\n",
    "                        markers=False)\n",
    "fig.show()"
   ]
  },
  {
   "cell_type": "code",
   "execution_count": null,
   "metadata": {},
   "outputs": [],
   "source": [
    "path_metrics(path_3d)"
   ]
  },
  {
   "cell_type": "markdown",
   "metadata": {},
   "source": [
    "### Dubin's with $\\theta$ optimization"
   ]
  },
  {
   "cell_type": "code",
   "execution_count": null,
   "metadata": {},
   "outputs": [],
   "source": [
    "# Compute initial headings\n",
    "thetas = torch.atan2(path_xy_torch[1:,1] - path_xy_torch[:-1,1], path_xy_torch[1:,0] - path_xy_torch[:-1,0])  \n",
    "# Duplicate last heading\n",
    "thetas = torch.cat((thetas, thetas[-1].unsqueeze(0)), dim=0)\n",
    "\n",
    "path = torch.cat((path_xy_torch, thetas.unsqueeze(1)), dim=1)  # (x, y, theta)\n",
    "# Fixed variables are initial and final states, free variables are intermediate states\n",
    "path_start = path[0].clone().detach()\n",
    "path_end = path[-1].clone().detach()\n",
    "path_opt = path[1:-1].clone().detach().requires_grad_(True)"
   ]
  },
  {
   "cell_type": "code",
   "execution_count": null,
   "metadata": {},
   "outputs": [],
   "source": [
    "# Dubin's based cost\n",
    "def cost(path, dt=1.0):\n",
    "    thetas = path[:,2]  \n",
    "    omegas = wrap_angle_torch(thetas.diff()) / dt  \n",
    "    # Path Vs\n",
    "    path_dxy = torch.diff(path[:,:2], dim=0)\n",
    "    Vs = torch.norm(path_dxy, dim=1) / dt\n",
    "    controls_cost = 0.1 * (torch.abs(Vs)).nanmean() + (torch.abs(omegas)).nanmean()\n",
    "    # Slope cost\n",
    "    path_zs = 10 * nemo.get_heights(path)\n",
    "    path_zs -= path_zs.min()\n",
    "    path_zs = path_zs**2\n",
    "    slope_cost = 1 * (torch.abs(path_zs.diff(dim=0))).nanmean()\n",
    "    print(f\"controls_cost: {controls_cost}, slope_cost: {slope_cost}\")\n",
    "    return controls_cost + slope_cost"
   ]
  },
  {
   "cell_type": "code",
   "execution_count": null,
   "metadata": {},
   "outputs": [],
   "source": [
    "path_zs = 10 * nemo.get_heights(path)\n",
    "path_zs -= path_zs.min()\n",
    "path_zs = path_zs**2\n",
    "print(path_zs.min(), path_zs.max())\n",
    "costs = torch.abs(path_zs.diff(dim=0))\n",
    "print(costs.min(), costs.max())"
   ]
  },
  {
   "cell_type": "code",
   "execution_count": null,
   "metadata": {},
   "outputs": [],
   "source": [
    "# Optimize path\n",
    "opt = torch.optim.Adam([path_opt], lr=1e-3)\n",
    "\n",
    "for it in range(500):\n",
    "    opt.zero_grad()\n",
    "    path = torch.cat((path_start[None], path_opt, path_end[None]), dim=0)\n",
    "    c = cost(path)\n",
    "    c.backward()\n",
    "    opt.step()\n",
    "    if it % 50 == 0:\n",
    "        print(f'it: {it},  Cost: {c.item()}')\n",
    "\n",
    "print(f'Finished optimization - final cost: {c.item()}')"
   ]
  },
  {
   "cell_type": "code",
   "execution_count": null,
   "metadata": {},
   "outputs": [],
   "source": [
    "path_zs = nemo.get_heights(path[:,:2])\n",
    "path_3d = torch.cat((path[:,:2], path_zs), dim=1)"
   ]
  },
  {
   "cell_type": "code",
   "execution_count": null,
   "metadata": {},
   "outputs": [],
   "source": [
    "fig = go.Figure()\n",
    "fig = plot_surface(fig, x_grid, y_grid, z_grid, no_axes=True)\n",
    "fig = plot_path_3d(fig, x=path_3d[:,0].detach().cpu().numpy(), \n",
    "                        y=path_3d[:,1].detach().cpu().numpy(), \n",
    "                        z=path_3d[:,2].detach().cpu().numpy())\n",
    "fig.show()"
   ]
  },
  {
   "cell_type": "markdown",
   "metadata": {},
   "source": [
    "### Double integrator dynamics"
   ]
  },
  {
   "cell_type": "code",
   "execution_count": null,
   "metadata": {},
   "outputs": [],
   "source": [
    "dt = 0.1\n",
    "path_vs = torch.diff(path, dim=0) / dt\n",
    "path_as = torch.diff(path_vs, dim=0) / dt\n",
    "controls_cost = 2 * (torch.norm(path_as, dim=1)**2).mean()"
   ]
  },
  {
   "cell_type": "code",
   "execution_count": null,
   "metadata": {},
   "outputs": [],
   "source": [
    "def resample_path(path, rate=10):\n",
    "    \"\"\"Resample path at higher resolution using double integrator dynamics\"\"\"\n",
    "    path_vs = torch.diff(path, dim=0) / dt\n",
    "    path_as = torch.diff(path_vs, dim=0) / dt\n",
    "    path_resampled = [path[0]]\n",
    "    for i in range(len(path)-1):\n",
    "        for j in range(rate):\n",
    "            t = j / rate\n",
    "            path_resampled.append(path[i] + path_vs[i]*t + 0.5*path_as[i]*t**2)\n",
    "    print(path[-1])\n",
    "    path_resampled.append(path[-1])\n",
    "    return torch.stack(path_resampled)"
   ]
  },
  {
   "cell_type": "code",
   "execution_count": null,
   "metadata": {},
   "outputs": [],
   "source": [
    "resampled_path = resample_path(path, rate=10)\n",
    "resampled_path"
   ]
  },
  {
   "cell_type": "code",
   "execution_count": null,
   "metadata": {},
   "outputs": [],
   "source": [
    "# Double integrator dynamics\n",
    "def di_cost(path, dt=0.1):\n",
    "    path_vs = torch.diff(path, dim=0) / dt\n",
    "    path_as = torch.diff(path_vs, dim=0) / dt\n",
    "    path_dxy = torch.diff(path, dim=0)\n",
    "    Vs = torch.norm(path_dxy, dim=1) / dt\n",
    "    return torch.mean(Vs**2)"
   ]
  },
  {
   "cell_type": "code",
   "execution_count": null,
   "metadata": {},
   "outputs": [],
   "source": [
    "opt = torch.optim.Adam([path_opt], lr=1e-3)\n",
    "\n",
    "for it in range(500):\n",
    "    opt.zero_grad()\n",
    "    path = torch.cat((path_start[None], path_opt, path_end[None]), dim=0)\n",
    "    c = dubins_cost(path)\n",
    "    c.backward()\n",
    "    opt.step()\n",
    "    if it % 50 == 0:\n",
    "        print(f'it: {it},  Cost: {c.item()}')"
   ]
  },
  {
   "cell_type": "code",
   "execution_count": null,
   "metadata": {},
   "outputs": [],
   "source": []
  }
 ],
 "metadata": {
  "kernelspec": {
   "display_name": "nerfstudio",
   "language": "python",
   "name": "python3"
  },
  "language_info": {
   "codemirror_mode": {
    "name": "ipython",
    "version": 3
   },
   "file_extension": ".py",
   "mimetype": "text/x-python",
   "name": "python",
   "nbconvert_exporter": "python",
   "pygments_lexer": "ipython3",
   "version": "3.8.19"
  }
 },
 "nbformat": 4,
 "nbformat_minor": 2
}
