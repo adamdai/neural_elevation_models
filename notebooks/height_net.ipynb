{
 "cells": [
  {
   "cell_type": "code",
   "execution_count": null,
   "metadata": {},
   "outputs": [],
   "source": [
    "import torch\n",
    "import numpy as np\n",
    "import plotly.graph_objects as go\n",
    "import plotly.express as px\n",
    "import json\n",
    "\n",
    "from nemo.global_planner import AStarGradPlanner\n",
    "from nemo.nemo import Nemo\n",
    "from nemo.util import wrap_angle_torch, path_metrics, grid_2d, airsim_to_nemo, nemo_to_airsim\n",
    "from nemo.plotting import plot_surface, plot_path_3d\n",
    "from nemo.planning import path_optimization\n",
    "\n",
    "device = torch.device(\"cuda:0\" if torch.cuda.is_available() else \"cpu\")\n",
    "\n",
    "%load_ext autoreload\n",
    "%autoreload 2"
   ]
  },
  {
   "cell_type": "markdown",
   "metadata": {},
   "source": [
    "## Parameters"
   ]
  },
  {
   "cell_type": "code",
   "execution_count": null,
   "metadata": {},
   "outputs": [],
   "source": [
    "SCENE_NAME = 'UnrealMoon'  # 'KT22', 'RedRocks', 'UnrealMoon', 'AirSimMountains'\n",
    "\n",
    "N_GRID = 64  # Grid resolution for A*\n",
    "N_PLOT = 256  # Grid resolution for plotting\n",
    "HEIGHT_SCALE = 1e2  # Height scaling factor for A*\n",
    "\n",
    "AIRSIM = True if SCENE_NAME == 'AirSimMountains' or 'UnrealMoon' else False\n",
    "\n",
    "if AIRSIM:\n",
    "    # Get nerf dataparser transform\n",
    "    params = {}\n",
    "    dataparser_transforms = json.load(open(f'../models/{SCENE_NAME}/dataparser_transforms.json'))\n",
    "    params['dataparser_transform'] = np.array(dataparser_transforms['transform'])\n",
    "    params['dataparser_scale'] = dataparser_transforms['scale']\n",
    "\n",
    "    # Specify start and end in AirSim coordinates\n",
    "    if SCENE_NAME == 'AirSimMountains':\n",
    "        airsim_start = np.array([[177., -247., -33.]])  \n",
    "        airsim_end = airsim_start + np.array([[-192., -328., -68.]])  \n",
    "        params['spiral_center'] = np.array([99., -449., -57.])\n",
    "    elif SCENE_NAME == 'UnrealMoon':\n",
    "        airsim_start = np.array([[0.0, 0.0, 0.0]])  \n",
    "        airsim_end = airsim_start + np.array([[1050.0, 324.0, -20.0]]) \n",
    "        params['spiral_center'] = np.array([524.38, 168.34, 0.0])  \n",
    "\n",
    "    scene_start = airsim_to_nemo(airsim_start, params).squeeze()[:2]\n",
    "    scene_end = airsim_to_nemo(airsim_end, params).squeeze()[:2]\n",
    "else:\n",
    "    # Specify start and end in scene coordinates\n",
    "    scene_start = (0.7, 0.7)\n",
    "    scene_end = (-0.7, -0.7)\n",
    "\n",
    "\n",
    "print(f\"Running Nemo planning for {SCENE_NAME}\")\n",
    "print(f\"Start: {scene_start}, End: {scene_end}\\n\")"
   ]
  },
  {
   "cell_type": "markdown",
   "metadata": {},
   "source": [
    "## Load Nemo model"
   ]
  },
  {
   "cell_type": "code",
   "execution_count": null,
   "metadata": {},
   "outputs": [],
   "source": [
    "print(\"Loading Nemo model\\n\")\n",
    "\n",
    "# Load the Nemo model (automatically sends to device)\n",
    "nemo = Nemo(f'../models/{SCENE_NAME}/encs.pth', f'../models/{SCENE_NAME}/mlp.pth')\n",
    "\n",
    "# Manual cropping\n",
    "if SCENE_NAME == 'KT22':\n",
    "    BOUNDS = (-0.75, 0.75, -0.75, 0.75) \n",
    "elif SCENE_NAME == 'RedRocks':\n",
    "    BOUNDS = (-0.4, 0.8, -0.6, 0.6)\n",
    "elif SCENE_NAME == 'AirSimMountains':\n",
    "    BOUNDS = (-0.75, 0.45, -0.6, 0.6)\n",
    "elif SCENE_NAME == 'UnrealMoon':\n",
    "    BOUNDS = (-1., 1., -1., 1.)"
   ]
  },
  {
   "cell_type": "code",
   "execution_count": null,
   "metadata": {},
   "outputs": [],
   "source": [
    "# Resample heights at higher resolution for plotting\n",
    "positions, XY_grid = grid_2d(N_PLOT, BOUNDS)\n",
    "heights = nemo.get_heights(positions)\n",
    "z_grid = heights.reshape(N_PLOT, N_PLOT).detach().cpu().numpy()\n",
    "x_grid = XY_grid[:,:,0].detach().cpu().numpy()\n",
    "y_grid = XY_grid[:,:,1].detach().cpu().numpy()\n",
    "\n",
    "# Plot height field and paths\n",
    "fig = plot_surface(x_grid, y_grid, z_grid, no_axes=False, showscale=True)\n",
    "# Plot start and end\n",
    "fig.add_trace(go.Scatter3d(x=[0], y=[0], z=[-0.5], mode='markers', marker=dict(size=10, color='red')))\n",
    "fig.add_trace(go.Scatter3d(x=[scene_start[0]], y=[scene_start[1]], z=[-0.4], mode='markers', marker=dict(size=10, color='blue')))\n",
    "fig.add_trace(go.Scatter3d(x=[scene_end[0]], y=[scene_end[1]], z=[-0.4], mode='markers', marker=dict(size=10, color='blue')))\n",
    "fig.show()"
   ]
  },
  {
   "cell_type": "markdown",
   "metadata": {},
   "source": [
    "## A* Initialization"
   ]
  },
  {
   "cell_type": "code",
   "execution_count": null,
   "metadata": {},
   "outputs": [],
   "source": [
    "print(\"Running A* initialization\\n\")\n",
    "\n",
    "# Form a grid of positions\n",
    "positions, XY_grid = grid_2d(N_GRID, BOUNDS)\n",
    "# Query heights\n",
    "heights = nemo.get_heights(positions)\n",
    "z_grid = heights.reshape(N_GRID, N_GRID).detach().cpu().numpy()\n",
    "\n",
    "# Initialize the planner with scaled heightmap (add 1.0 to heights to make them all positive)\n",
    "scaled_heights = HEIGHT_SCALE * (z_grid + 1.0).reshape(N_GRID, N_GRID)\n",
    "astar = AStarGradPlanner(scaled_heights, BOUNDS)\n",
    "\n",
    "# Compute path\n",
    "astar_path_xy = astar.spatial_plan(tuple(scene_start), tuple(scene_end))\n",
    "astar_path_xy_torch = torch.tensor(astar_path_xy, device=device)\n",
    "# Get heights along path\n",
    "astar_path_zs = nemo.get_heights(astar_path_xy_torch)  \n",
    "\n",
    "# Save path as torch tensor\n",
    "astar_path = torch.cat((astar_path_xy_torch, astar_path_zs), dim=1)"
   ]
  },
  {
   "cell_type": "markdown",
   "metadata": {},
   "source": [
    "## Path optimization"
   ]
  },
  {
   "cell_type": "code",
   "execution_count": null,
   "metadata": {},
   "outputs": [],
   "source": [
    "opt_path = path_optimization(nemo, astar_path_xy_torch, iterations=500, lr=1e-3)"
   ]
  },
  {
   "cell_type": "code",
   "execution_count": null,
   "metadata": {},
   "outputs": [],
   "source": [
    "fig = plot_surface(x_grid, y_grid, z_grid, no_axes=False)\n",
    "fig = plot_path_3d(fig=fig, x=opt_path[:,0].detach().cpu().numpy(), \n",
    "                        y=opt_path[:,1].detach().cpu().numpy(), \n",
    "                        z=opt_path[:,2].detach().cpu().numpy()+1e-3,\n",
    "                        markers=False, color='orange', linewidth=10)\n",
    "fig.show()"
   ]
  },
  {
   "cell_type": "code",
   "execution_count": null,
   "metadata": {},
   "outputs": [],
   "source": [
    "# Convert Nemo coordinates to AirSim coordinates (local)\n",
    "airsim_path_3d = nemo_to_airsim(opt_path.detach().cpu().numpy(), params)"
   ]
  },
  {
   "cell_type": "code",
   "execution_count": null,
   "metadata": {},
   "outputs": [],
   "source": [
    "opt_path"
   ]
  },
  {
   "cell_type": "code",
   "execution_count": null,
   "metadata": {},
   "outputs": [],
   "source": [
    "from nemo.dynamics import diff_flatness\n",
    "\n",
    "u = diff_flatness(opt_path[:,:2], nemo, dt=1.0)"
   ]
  },
  {
   "cell_type": "code",
   "execution_count": null,
   "metadata": {},
   "outputs": [],
   "source": [
    "fig = plot_path_3d(x=airsim_path_3d[:,0], y=airsim_path_3d[:,1], z=airsim_path_3d[:,2], hovertext=np.arange(len(airsim_path_3d)), color='orange')\n",
    "fig.update_layout(width=1600, height=900, scene=dict(aspectmode='data'))\n",
    "fig.show()"
   ]
  },
  {
   "cell_type": "code",
   "execution_count": null,
   "metadata": {},
   "outputs": [],
   "source": [
    "manual_path = np.load('../results/airsim_paths/moon_manual_1.npz')['states']"
   ]
  },
  {
   "cell_type": "code",
   "execution_count": null,
   "metadata": {},
   "outputs": [],
   "source": [
    "fig = plot_path_3d(x=airsim_path_3d[:,0], y=airsim_path_3d[:,1], z=airsim_path_3d[:,2], hovertext=np.arange(len(airsim_path_3d)), color='orange')\n",
    "fig = plot_path_3d(fig=fig, x=manual_path[:,0], y=manual_path[:,1], z=manual_path[:,2], hovertext=np.arange(len(manual_path)), color='blue')\n",
    "fig.update_layout(width=1600, height=900, scene=dict(aspectmode='data'))\n",
    "fig.show()"
   ]
  },
  {
   "cell_type": "code",
   "execution_count": null,
   "metadata": {},
   "outputs": [],
   "source": [
    "np.save('../results/airsim_paths/path.npy', airsim_path_3d)"
   ]
  },
  {
   "cell_type": "markdown",
   "metadata": {},
   "source": [
    "### Dubin's with $\\theta$ optimization"
   ]
  },
  {
   "cell_type": "code",
   "execution_count": null,
   "metadata": {},
   "outputs": [],
   "source": [
    "# Compute initial headings\n",
    "thetas = torch.atan2(path_xy_torch[1:,1] - path_xy_torch[:-1,1], path_xy_torch[1:,0] - path_xy_torch[:-1,0])  \n",
    "# Duplicate last heading\n",
    "thetas = torch.cat((thetas, thetas[-1].unsqueeze(0)), dim=0)\n",
    "\n",
    "path = torch.cat((path_xy_torch, thetas.unsqueeze(1)), dim=1)  # (x, y, theta)\n",
    "# Fixed variables are initial and final states, free variables are intermediate states\n",
    "path_start = path[0].clone().detach()\n",
    "path_end = path[-1].clone().detach()\n",
    "path_opt = path[1:-1].clone().detach().requires_grad_(True)"
   ]
  },
  {
   "cell_type": "code",
   "execution_count": null,
   "metadata": {},
   "outputs": [],
   "source": [
    "# Dubin's based cost\n",
    "def cost(path, dt=1.0):\n",
    "    thetas = path[:,2]  \n",
    "    omegas = wrap_angle_torch(thetas.diff()) / dt  \n",
    "    # Path Vs\n",
    "    path_dxy = torch.diff(path[:,:2], dim=0)\n",
    "    Vs = torch.norm(path_dxy, dim=1) / dt\n",
    "    controls_cost = 0.1 * (torch.abs(Vs)).nanmean() + (torch.abs(omegas)).nanmean()\n",
    "    # Slope cost\n",
    "    path_zs = 10 * nemo.get_heights(path)\n",
    "    path_zs -= path_zs.min()\n",
    "    path_zs = path_zs**2\n",
    "    slope_cost = 1 * (torch.abs(path_zs.diff(dim=0))).nanmean()\n",
    "    print(f\"controls_cost: {controls_cost}, slope_cost: {slope_cost}\")\n",
    "    return controls_cost + slope_cost"
   ]
  },
  {
   "cell_type": "code",
   "execution_count": null,
   "metadata": {},
   "outputs": [],
   "source": [
    "path_zs = 10 * nemo.get_heights(path)\n",
    "path_zs -= path_zs.min()\n",
    "path_zs = path_zs**2\n",
    "print(path_zs.min(), path_zs.max())\n",
    "costs = torch.abs(path_zs.diff(dim=0))\n",
    "print(costs.min(), costs.max())"
   ]
  },
  {
   "cell_type": "code",
   "execution_count": null,
   "metadata": {},
   "outputs": [],
   "source": [
    "# Optimize path\n",
    "opt = torch.optim.Adam([path_opt], lr=1e-3)\n",
    "\n",
    "for it in range(500):\n",
    "    opt.zero_grad()\n",
    "    path = torch.cat((path_start[None], path_opt, path_end[None]), dim=0)\n",
    "    c = cost(path)\n",
    "    c.backward()\n",
    "    opt.step()\n",
    "    if it % 50 == 0:\n",
    "        print(f'it: {it},  Cost: {c.item()}')\n",
    "\n",
    "print(f'Finished optimization - final cost: {c.item()}')"
   ]
  },
  {
   "cell_type": "code",
   "execution_count": null,
   "metadata": {},
   "outputs": [],
   "source": [
    "path_zs = nemo.get_heights(path[:,:2])\n",
    "path_3d = torch.cat((path[:,:2], path_zs), dim=1)"
   ]
  },
  {
   "cell_type": "code",
   "execution_count": null,
   "metadata": {},
   "outputs": [],
   "source": [
    "fig = go.Figure()\n",
    "fig = plot_surface(fig, x_grid, y_grid, z_grid, no_axes=True)\n",
    "fig = plot_path_3d(fig, x=path_3d[:,0].detach().cpu().numpy(), \n",
    "                        y=path_3d[:,1].detach().cpu().numpy(), \n",
    "                        z=path_3d[:,2].detach().cpu().numpy())\n",
    "fig.show()"
   ]
  },
  {
   "cell_type": "markdown",
   "metadata": {},
   "source": [
    "### Double integrator dynamics"
   ]
  },
  {
   "cell_type": "code",
   "execution_count": null,
   "metadata": {},
   "outputs": [],
   "source": [
    "dt = 0.1\n",
    "path_vs = torch.diff(path, dim=0) / dt\n",
    "path_as = torch.diff(path_vs, dim=0) / dt\n",
    "controls_cost = 2 * (torch.norm(path_as, dim=1)**2).mean()"
   ]
  },
  {
   "cell_type": "code",
   "execution_count": null,
   "metadata": {},
   "outputs": [],
   "source": [
    "def resample_path(path, rate=10):\n",
    "    \"\"\"Resample path at higher resolution using double integrator dynamics\"\"\"\n",
    "    path_vs = torch.diff(path, dim=0) / dt\n",
    "    path_as = torch.diff(path_vs, dim=0) / dt\n",
    "    path_resampled = [path[0]]\n",
    "    for i in range(len(path)-1):\n",
    "        for j in range(rate):\n",
    "            t = j / rate\n",
    "            path_resampled.append(path[i] + path_vs[i]*t + 0.5*path_as[i]*t**2)\n",
    "    print(path[-1])\n",
    "    path_resampled.append(path[-1])\n",
    "    return torch.stack(path_resampled)"
   ]
  },
  {
   "cell_type": "code",
   "execution_count": null,
   "metadata": {},
   "outputs": [],
   "source": [
    "resampled_path = resample_path(path, rate=10)\n",
    "resampled_path"
   ]
  },
  {
   "cell_type": "code",
   "execution_count": null,
   "metadata": {},
   "outputs": [],
   "source": [
    "# Double integrator dynamics\n",
    "def di_cost(path, dt=0.1):\n",
    "    path_vs = torch.diff(path, dim=0) / dt\n",
    "    path_as = torch.diff(path_vs, dim=0) / dt\n",
    "    path_dxy = torch.diff(path, dim=0)\n",
    "    Vs = torch.norm(path_dxy, dim=1) / dt\n",
    "    return torch.mean(Vs**2)"
   ]
  },
  {
   "cell_type": "code",
   "execution_count": null,
   "metadata": {},
   "outputs": [],
   "source": [
    "opt = torch.optim.Adam([path_opt], lr=1e-3)\n",
    "\n",
    "for it in range(500):\n",
    "    opt.zero_grad()\n",
    "    path = torch.cat((path_start[None], path_opt, path_end[None]), dim=0)\n",
    "    c = dubins_cost(path)\n",
    "    c.backward()\n",
    "    opt.step()\n",
    "    if it % 50 == 0:\n",
    "        print(f'it: {it},  Cost: {c.item()}')"
   ]
  },
  {
   "cell_type": "code",
   "execution_count": null,
   "metadata": {},
   "outputs": [],
   "source": []
  }
 ],
 "metadata": {
  "kernelspec": {
   "display_name": "nerfstudio",
   "language": "python",
   "name": "python3"
  },
  "language_info": {
   "codemirror_mode": {
    "name": "ipython",
    "version": 3
   },
   "file_extension": ".py",
   "mimetype": "text/x-python",
   "name": "python",
   "nbconvert_exporter": "python",
   "pygments_lexer": "ipython3",
   "version": "3.8.19"
  }
 },
 "nbformat": 4,
 "nbformat_minor": 2
}
