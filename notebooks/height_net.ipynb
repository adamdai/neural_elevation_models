{
 "cells": [
  {
   "cell_type": "code",
   "execution_count": null,
   "metadata": {},
   "outputs": [],
   "source": [
    "import torch\n",
    "import numpy as np\n",
    "import plotly.graph_objects as go\n",
    "import plotly.express as px\n",
    "\n",
    "from nemo.global_planner import GlobalPlanner2\n",
    "from nemo.nemo import Nemo\n",
    "from nemo.util import wrap_angle_torch, path_metrics\n",
    "\n",
    "device = torch.device(\"cuda:0\" if torch.cuda.is_available() else \"cpu\")\n",
    "\n",
    "%load_ext autoreload\n",
    "%autoreload 2"
   ]
  },
  {
   "cell_type": "markdown",
   "metadata": {},
   "source": [
    "## Load the heightnet"
   ]
  },
  {
   "cell_type": "code",
   "execution_count": null,
   "metadata": {},
   "outputs": [],
   "source": [
    "nemo = Nemo()\n",
    "nemo.load_weights('../models/red_rocks_encs.pth', '../models/red_rocks_height_net.pth')\n",
    "#nemo.load_weights('../models/kt22_encs.pth', '../models/kt22_height_net.pth')"
   ]
  },
  {
   "cell_type": "code",
   "execution_count": null,
   "metadata": {},
   "outputs": [],
   "source": [
    "N = 64\n",
    "bounds = (-0.4, 0.8, -0.6, 0.6) # red rocks\n",
    "#bounds = (-0.75, 0.75, -0.75, 0.75) # kt22\n",
    "xs = torch.linspace(bounds[0], bounds[1], N, device=device)\n",
    "ys = torch.linspace(bounds[2], bounds[3], N, device=device)\n",
    "XY_grid = torch.meshgrid(xs, ys, indexing='xy')\n",
    "XY_grid = torch.stack(XY_grid, dim=-1)\n",
    "positions = XY_grid.reshape(-1, 2)"
   ]
  },
  {
   "cell_type": "code",
   "execution_count": null,
   "metadata": {},
   "outputs": [],
   "source": [
    "heights = nemo.get_heights(positions)"
   ]
  },
  {
   "cell_type": "code",
   "execution_count": null,
   "metadata": {},
   "outputs": [],
   "source": [
    "z_grid = heights.reshape(N, N).detach().cpu().numpy()\n",
    "x_grid = XY_grid[:,:,0].detach().cpu().numpy()\n",
    "y_grid = XY_grid[:,:,1].detach().cpu().numpy()\n",
    "\n",
    "fig = go.Figure(data=[go.Surface(x=x_grid, y=y_grid, z=z_grid, colorscale='Viridis')])\n",
    "fig.update_layout(width=1500, height=800, scene_aspectmode='data')\n",
    "fig.show()"
   ]
  },
  {
   "cell_type": "markdown",
   "metadata": {},
   "source": [
    "## A*"
   ]
  },
  {
   "cell_type": "code",
   "execution_count": null,
   "metadata": {},
   "outputs": [],
   "source": [
    "start = (0.32, -0.21)\n",
    "end = (-0.02, -0.07)\n",
    "grid_size = 1.2 / N\n",
    "start_idx = (int((start[1] - bounds[2]) / grid_size), int((start[0] - bounds[0]) / grid_size))\n",
    "end_idx = (int((end[1] - bounds[2]) / grid_size), int((end[0] - bounds[0]) / grid_size))\n",
    "print(start_idx, end_idx)"
   ]
  },
  {
   "cell_type": "code",
   "execution_count": null,
   "metadata": {},
   "outputs": [],
   "source": [
    "def path_trace(scale, size, color):\n",
    "    heights = scale * (z_grid + 1.0).reshape(N, N)\n",
    "    gp = GlobalPlanner2(heights, bounds)\n",
    "    # gp = GlobalPlanner2(grad_costmat)\n",
    "    # path_idxs = gp.plan(start_idx, end_idx)\n",
    "    path_idxs = gp.plan((0, 0), (N-1, N-1))\n",
    "\n",
    "    path_xs = xs[path_idxs[:,0]]\n",
    "    path_ys = ys[path_idxs[:,1]]\n",
    "    path_xy = torch.hstack((path_xs[:,None], path_ys[:,None]))\n",
    "    path_zs = nemo.get_heights(path_xy)\n",
    "    return go.Scatter3d(x=path_xs.detach().cpu().numpy(), \n",
    "                           y=path_ys.detach().cpu().numpy(), \n",
    "                           z=path_zs.detach().cpu().numpy().flatten(), \n",
    "                           mode='markers+lines', marker=dict(size=size, color=color),\n",
    "                           line=dict(color=color, width=size))"
   ]
  },
  {
   "cell_type": "code",
   "execution_count": null,
   "metadata": {},
   "outputs": [],
   "source": [
    "# Run A* on the cost matrix\n",
    "heights = 1e6 * (z_grid + 1.0).reshape(N, N)\n",
    "gp = GlobalPlanner2(heights, bounds)\n",
    "# gp = GlobalPlanner2(grad_costmat)\n",
    "path_idxs = gp.plan(start_idx, end_idx)\n",
    "#path_idxs = gp.plan((0, 0), (N-1, N-1))"
   ]
  },
  {
   "cell_type": "code",
   "execution_count": null,
   "metadata": {},
   "outputs": [],
   "source": [
    "path_xs = xs[path_idxs[:,0]]\n",
    "path_ys = ys[path_idxs[:,1]]\n",
    "path_xy = torch.hstack((path_xs[:,None], path_ys[:,None]))\n",
    "path_zs = nemo.get_heights(path_xy)"
   ]
  },
  {
   "cell_type": "code",
   "execution_count": null,
   "metadata": {},
   "outputs": [],
   "source": [
    "astar_path = torch.cat((path_xy, path_zs), dim=1)"
   ]
  },
  {
   "cell_type": "code",
   "execution_count": null,
   "metadata": {},
   "outputs": [],
   "source": [
    "# Plot path on surface plot\n",
    "fig = go.Figure()\n",
    "fig.add_trace(go.Surface(x=x_grid, y=y_grid, z=z_grid, colorscale='Viridis'))\n",
    "# fig.add_trace(go.Scatter3d(x=path_xs.detach().cpu().numpy(), \n",
    "#                            y=path_ys.detach().cpu().numpy(), \n",
    "#                            z=path_zs.detach().cpu().numpy().flatten(), \n",
    "#                            mode='markers+lines', marker=dict(size=3, color='red'),\n",
    "#                            line=dict(color='red', width=3)))\n",
    "fig.add_trace(path_trace(1e1, 5, 'yellow'))\n",
    "fig.add_trace(path_trace(2e2, 5, 'orange'))\n",
    "fig.add_trace(path_trace(1e6, 5, 'red'))\n",
    "# fig.add_trace(path_trace(1e5, 'green'))\n",
    "fig.update_layout(width=1600, height=900, scene_aspectmode='data')\n",
    "fig.update_layout(\n",
    "    scene = dict(\n",
    "        xaxis = dict(visible=False),\n",
    "        yaxis = dict(visible=False),\n",
    "        zaxis =dict(visible=False)\n",
    "        )\n",
    "    )\n",
    "fig.show()"
   ]
  },
  {
   "cell_type": "markdown",
   "metadata": {},
   "source": [
    "## Path optimization"
   ]
  },
  {
   "cell_type": "code",
   "execution_count": null,
   "metadata": {},
   "outputs": [],
   "source": [
    "path_start = path_xy[0]\n",
    "path_end = path_xy[-1]\n",
    "path_opt = path_xy[1:-1].clone().detach().requires_grad_(True)\n",
    "path = torch.cat((path_start[None], path_opt, path_end[None]), dim=0)"
   ]
  },
  {
   "cell_type": "code",
   "execution_count": null,
   "metadata": {},
   "outputs": [],
   "source": [
    "def cost(path, dt=0.1):\n",
    "    # Compute path thetas\n",
    "    thetas = torch.atan2(path[1:,1] - path[:-1,1], path[1:,0] - path[:-1,0])\n",
    "\n",
    "    # Omegas as wrapped difference\n",
    "    omegas = wrap_angle_torch(thetas[1:] - thetas[:-1]) / dt\n",
    "\n",
    "    # Path Vs\n",
    "    path_dxy = torch.diff(path, dim=0)\n",
    "    Vs = torch.norm(path_dxy, dim=1) / dt\n",
    "\n",
    "    controls_cost = 10 * torch.mean(Vs**2) + torch.mean(omegas**2)\n",
    "\n",
    "    # Slope cost\n",
    "    path_zs = 10 * nemo.get_heights(path)\n",
    "    slope_cost = torch.mean(torch.abs(path_zs[1:] - path_zs[:-1]))\n",
    "    return controls_cost + slope_cost"
   ]
  },
  {
   "cell_type": "code",
   "execution_count": null,
   "metadata": {},
   "outputs": [],
   "source": [
    "opt = torch.optim.Adam([path_opt], lr=1e-3)\n",
    "\n",
    "for it in range(200):\n",
    "    opt.zero_grad()\n",
    "    path = torch.cat((path_start[None], path_opt, path_end[None]), dim=0)\n",
    "    c = cost(path)\n",
    "    c.backward()\n",
    "    opt.step()\n",
    "    if it % 50 == 0:\n",
    "        print(f'it: {it},  Cost: {c.item()}')"
   ]
  },
  {
   "cell_type": "code",
   "execution_count": null,
   "metadata": {},
   "outputs": [],
   "source": [
    "path_zs = nemo.get_heights(path) + 1e-3\n",
    "\n",
    "# Plot path on surface plot\n",
    "fig = go.Figure()\n",
    "fig.add_trace(go.Surface(x=x_grid, y=y_grid, z=z_grid, colorscale='Viridis'))\n",
    "fig.add_trace(go.Scatter3d(x=path[:,0].detach().cpu().numpy(), \n",
    "                           y=path[:,1].detach().cpu().numpy(), \n",
    "                           z=path_zs.detach().cpu().numpy().flatten(), \n",
    "                           mode='markers+lines', marker=dict(size=3, color='red')))\n",
    "fig.add_trace(path_trace(1e8, 5, 'orange'))\n",
    "fig.update_layout(width=1600, height=900, scene_aspectmode='data')\n",
    "fig.update_layout(\n",
    "    scene = dict(\n",
    "        xaxis = dict(visible=False),\n",
    "        yaxis = dict(visible=False),\n",
    "        zaxis =dict(visible=False)\n",
    "        )\n",
    "    )\n",
    "fig.show()"
   ]
  },
  {
   "cell_type": "code",
   "execution_count": null,
   "metadata": {},
   "outputs": [],
   "source": [
    "opt_path = torch.cat((path, path_zs), dim=1)"
   ]
  },
  {
   "cell_type": "code",
   "execution_count": null,
   "metadata": {},
   "outputs": [],
   "source": [
    "path_metrics(astar_path)"
   ]
  },
  {
   "cell_type": "code",
   "execution_count": null,
   "metadata": {},
   "outputs": [],
   "source": [
    "path_metrics(opt_path)"
   ]
  },
  {
   "cell_type": "code",
   "execution_count": null,
   "metadata": {},
   "outputs": [],
   "source": []
  }
 ],
 "metadata": {
  "kernelspec": {
   "display_name": "nerfstudio",
   "language": "python",
   "name": "python3"
  },
  "language_info": {
   "codemirror_mode": {
    "name": "ipython",
    "version": 3
   },
   "file_extension": ".py",
   "mimetype": "text/x-python",
   "name": "python",
   "nbconvert_exporter": "python",
   "pygments_lexer": "ipython3",
   "version": "3.8.18"
  }
 },
 "nbformat": 4,
 "nbformat_minor": 2
}
