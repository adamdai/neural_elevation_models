{
 "cells": [
  {
   "cell_type": "code",
   "execution_count": null,
   "metadata": {},
   "outputs": [],
   "source": [
    "import torch\n",
    "import numpy as np\n",
    "import plotly.graph_objects as go\n",
    "import plotly.express as px\n",
    "import tinycudann as tcnn\n",
    "\n",
    "from nemo.nemo import Nemo\n",
    "from nemo.util import grid_2d\n",
    "\n",
    "device = torch.device(\"cuda:0\" if torch.cuda.is_available() else \"cpu\")\n",
    "\n",
    "%load_ext autoreload\n",
    "%autoreload 2"
   ]
  },
  {
   "cell_type": "code",
   "execution_count": null,
   "metadata": {},
   "outputs": [],
   "source": [
    "torch.tensor([0,1]) + torch.rand(10,2)"
   ]
  },
  {
   "cell_type": "code",
   "execution_count": null,
   "metadata": {},
   "outputs": [],
   "source": [
    "torch.ones(10,1).roll(1,0)"
   ]
  },
  {
   "cell_type": "code",
   "execution_count": null,
   "metadata": {},
   "outputs": [],
   "source": [
    "# Get data to fit\n",
    "nemo = Nemo()\n",
    "nemo.load_weights('../models/kt22_encs.pth', '../models/kt22_heightnet.pth')\n",
    "\n",
    "xy = grid_2d(N=64, bounds=(-1, 1, -1, 1))\n",
    "xy = xy.to(device)\n",
    "z = nemo.get_heights(xy)"
   ]
  },
  {
   "cell_type": "code",
   "execution_count": null,
   "metadata": {},
   "outputs": [],
   "source": [
    "# New Nemo\n",
    "nemo = Nemo()"
   ]
  },
  {
   "cell_type": "markdown",
   "metadata": {},
   "source": [
    "# Encodings\n",
    "\n",
    "https://github.com/NVlabs/tiny-cuda-nn/blob/master/DOCUMENTATION.md"
   ]
  },
  {
   "cell_type": "markdown",
   "metadata": {},
   "source": [
    "### Hashgrid\n",
    "\n",
    "* `n_levels` - number of levels in the hashgrid. Increasing leads to better fit but noisier gradients.\n",
    "* `n_features_per_level` - number of features per level. Can be 1, 2, 4 or 8.\n"
   ]
  },
  {
   "cell_type": "code",
   "execution_count": null,
   "metadata": {},
   "outputs": [],
   "source": [
    "nemo.encoding = tcnn.Encoding(\n",
    "    n_input_dims=2,\n",
    "    encoding_config={\n",
    "        \"otype\": \"HashGrid\",\n",
    "        \"n_levels\": 8,\n",
    "        \"n_features_per_level\": 8,\n",
    "        \"log2_hashmap_size\": 19,\n",
    "        \"base_resolution\": 16,\n",
    "        \"per_level_scale\": 1.2599210739135742,\n",
    "    },\n",
    ")"
   ]
  },
  {
   "cell_type": "markdown",
   "metadata": {},
   "source": [
    "Fit to data"
   ]
  },
  {
   "cell_type": "code",
   "execution_count": null,
   "metadata": {},
   "outputs": [],
   "source": [
    "tot_out_dims_2d = nemo.encoding.n_output_dims\n",
    "print(tot_out_dims_2d)\n",
    "\n",
    "nemo.height_net = tcnn.Network(\n",
    "    n_input_dims=tot_out_dims_2d,\n",
    "    n_output_dims=1,\n",
    "    network_config={\n",
    "        \"otype\": \"CutlassMLP\",\n",
    "        \"activation\": \"Softplus\",\n",
    "        \"output_activation\": \"None\",\n",
    "        \"n_neurons\": 256,\n",
    "        \"n_hidden_layers\": 1,\n",
    "    },\n",
    ")"
   ]
  },
  {
   "cell_type": "code",
   "execution_count": null,
   "metadata": {},
   "outputs": [],
   "source": [
    "nemo.height_net"
   ]
  },
  {
   "cell_type": "code",
   "execution_count": null,
   "metadata": {},
   "outputs": [],
   "source": [
    "nemo.encoding.to(device)\n",
    "nemo.height_net.to(device)\n",
    "nemo.fit(xy.detach(), z.detach())"
   ]
  },
  {
   "cell_type": "code",
   "execution_count": null,
   "metadata": {},
   "outputs": [],
   "source": [
    "nemo.plot(N=512)"
   ]
  },
  {
   "cell_type": "code",
   "execution_count": null,
   "metadata": {},
   "outputs": [],
   "source": [
    "N = 512\n",
    "bounds = (-1., 1., -1., 1)\n",
    "positions = grid_2d(N, bounds)\n",
    "positions.requires_grad = True\n",
    "z_pred, grad = nemo.get_heights_with_grad(positions)\n",
    "\n",
    "x_grad = grad[:,0].reshape(N, N).detach().cpu().numpy()\n",
    "y_grad = grad[:,1].reshape(N, N).detach().cpu().numpy()\n",
    "\n",
    "#x_grad = np.clip(x_grad, -2.0, 2.0)\n",
    "\n",
    "fig = go.Figure()\n",
    "fig.add_trace(go.Heatmap(z=x_grad))\n",
    "fig.update_layout(width=600, height=600, scene_aspectmode='data')\n",
    "fig.show()"
   ]
  },
  {
   "cell_type": "code",
   "execution_count": null,
   "metadata": {},
   "outputs": [],
   "source": [
    "# Finite difference gradient\n",
    "h = 5e-2\n",
    "positions_dx = positions.clone()\n",
    "positions_dx[:,0] += h\n",
    "z_dx = nemo.get_heights(positions_dx)\n",
    "grad_x_fd = (z_dx - z_pred) / h\n",
    "grad_x_fd = grad_x_fd.clip(-1.0, 1.0)\n",
    "\n",
    "fig = go.Figure()\n",
    "fig.add_trace(go.Heatmap(z=grad_x_fd.reshape(N, N).detach().cpu().numpy()))\n",
    "fig.update_layout(width=600, height=600, scene_aspectmode='data')\n",
    "fig.show()"
   ]
  },
  {
   "cell_type": "markdown",
   "metadata": {},
   "source": [
    "# MLP "
   ]
  },
  {
   "cell_type": "code",
   "execution_count": null,
   "metadata": {},
   "outputs": [],
   "source": [
    "nemo = Nemo()"
   ]
  },
  {
   "cell_type": "markdown",
   "metadata": {},
   "source": [
    "### ReLU"
   ]
  },
  {
   "cell_type": "code",
   "execution_count": null,
   "metadata": {},
   "outputs": [],
   "source": [
    "tot_out_dims_2d = nemo.encoding.n_output_dims\n",
    "print(tot_out_dims_2d)\n",
    "\n",
    "nemo.height_net = tcnn.Network(\n",
    "    n_input_dims=tot_out_dims_2d,\n",
    "    n_output_dims=1,\n",
    "    network_config={\n",
    "        \"otype\": \"CutlassMLP\",\n",
    "        \"activation\": \"ReLU\",\n",
    "        \"output_activation\": \"None\",\n",
    "        \"n_neurons\": 256,\n",
    "        \"n_hidden_layers\": 1,\n",
    "    },\n",
    ")"
   ]
  },
  {
   "cell_type": "markdown",
   "metadata": {},
   "source": [
    "### Softplus"
   ]
  },
  {
   "cell_type": "code",
   "execution_count": null,
   "metadata": {},
   "outputs": [],
   "source": [
    "tot_out_dims_2d = nemo.encoding.n_output_dims\n",
    "print(tot_out_dims_2d)\n",
    "\n",
    "nemo.height_net = tcnn.Network(\n",
    "    n_input_dims=tot_out_dims_2d,\n",
    "    n_output_dims=1,\n",
    "    network_config={\n",
    "        \"otype\": \"CutlassMLP\",\n",
    "        \"activation\": \"ReLU\",\n",
    "        \"output_activation\": \"None\",\n",
    "        \"n_neurons\": 256,\n",
    "        \"n_hidden_layers\": 1,\n",
    "    },\n",
    ")"
   ]
  }
 ],
 "metadata": {
  "kernelspec": {
   "display_name": "nemo",
   "language": "python",
   "name": "python3"
  },
  "language_info": {
   "codemirror_mode": {
    "name": "ipython",
    "version": 3
   },
   "file_extension": ".py",
   "mimetype": "text/x-python",
   "name": "python",
   "nbconvert_exporter": "python",
   "pygments_lexer": "ipython3",
   "version": "3.8.19"
  }
 },
 "nbformat": 4,
 "nbformat_minor": 2
}
