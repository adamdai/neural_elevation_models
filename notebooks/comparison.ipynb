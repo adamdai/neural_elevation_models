{
 "cells": [
  {
   "cell_type": "code",
   "execution_count": null,
   "metadata": {},
   "outputs": [],
   "source": [
    "import torch\n",
    "import numpy as np\n",
    "import plotly.graph_objects as go\n",
    "import plotly.express as px\n",
    "\n",
    "from nemo.util import parse_colmap_point_cloud\n",
    "from nemo.plotting import plot_3d_points\n",
    "from nemo.dem import DEM\n",
    "\n",
    "device = torch.device(\"cuda:0\" if torch.cuda.is_available() else \"cpu\")\n",
    "\n",
    "%load_ext autoreload\n",
    "%autoreload 2"
   ]
  },
  {
   "cell_type": "markdown",
   "metadata": {},
   "source": [
    "# Red Rocks"
   ]
  },
  {
   "cell_type": "markdown",
   "metadata": {},
   "source": [
    "### COLMAP sparse point cloud"
   ]
  },
  {
   "cell_type": "code",
   "execution_count": null,
   "metadata": {},
   "outputs": [],
   "source": [
    "path = '../data/redrocks/redrocks_points3D.txt'\n",
    "points, colors = parse_colmap_point_cloud(path)"
   ]
  },
  {
   "cell_type": "code",
   "execution_count": null,
   "metadata": {},
   "outputs": [],
   "source": [
    "# Plotting the points\n",
    "fig = plot_3d_points(x=points[:,0], y=points[:,1], z=points[:,2])\n",
    "fig.show()"
   ]
  },
  {
   "cell_type": "code",
   "execution_count": null,
   "metadata": {},
   "outputs": [],
   "source": [
    "# Extract the points within range xyz in [-5, 5]\n",
    "points = points[(points[:,0] > -5) & (points[:,0] < 5)]\n",
    "points = points[(points[:,1] > -5) & (points[:,1] < 5)]\n",
    "points = points[(points[:,2] > -5) & (points[:,2] < 5)]\n",
    "\n",
    "fig = go.Figure()\n",
    "fig = plot_3d_points(fig, x=points[:,0], y=points[:,1], z=points[:,2], markersize=1)\n",
    "fig.show()"
   ]
  },
  {
   "cell_type": "code",
   "execution_count": null,
   "metadata": {},
   "outputs": [],
   "source": [
    "# Estimate the ground plane\n",
    "from nemo import geometry\n",
    "plane = geometry.fit_plane(points)\n",
    "plane\n",
    "\n",
    "# We should use the nerfstudio dataparser"
   ]
  },
  {
   "cell_type": "markdown",
   "metadata": {},
   "source": [
    "### DroneMapper DEM"
   ]
  },
  {
   "cell_type": "code",
   "execution_count": null,
   "metadata": {},
   "outputs": [],
   "source": [
    "from osgeo import gdal\n",
    "\n",
    "# Open the GeoTIFF file\n",
    "# (checked by seems vertical datum metadata is missing)\n",
    "dataset = gdal.Open('../data/redrocks/DEM32-DroneMapper.tif')\n",
    "\n",
    "if dataset is None:\n",
    "    print(\"Failed to open the GeoTIFF file\")\n",
    "    exit(1)\n",
    "\n",
    "# Read raster data\n",
    "band = dataset.GetRasterBand(1)  # Assuming it's a single-band raster\n",
    "elevation_data = band.ReadAsArray()  \n",
    "\n",
    "# Use geotransform parameters to calculate extent (use a local ENU coordinate frame with origin at center of DEM)\n",
    "geotransform = dataset.GetGeoTransform()\n",
    "top_left_x, pixel_width, x_rotation, top_left_y, y_rotation, pixel_height = geotransform\n",
    "cols = dataset.RasterXSize\n",
    "rows = dataset.RasterYSize\n",
    "\n",
    "# Calculate East and North extents\n",
    "east_extent = cols * pixel_width\n",
    "north_extent = rows * abs(pixel_height)"
   ]
  },
  {
   "cell_type": "code",
   "execution_count": null,
   "metadata": {},
   "outputs": [],
   "source": [
    "dem = DEM(elevation_data, extent=(east_extent, north_extent))"
   ]
  },
  {
   "cell_type": "code",
   "execution_count": null,
   "metadata": {},
   "outputs": [],
   "source": [
    "dem_ds = dem.downsample(10)\n",
    "dem.handle_missing_data()\n",
    "dem_ds.show()"
   ]
  },
  {
   "cell_type": "code",
   "execution_count": null,
   "metadata": {},
   "outputs": [],
   "source": []
  }
 ],
 "metadata": {
  "kernelspec": {
   "display_name": "nerfstudio",
   "language": "python",
   "name": "python3"
  },
  "language_info": {
   "codemirror_mode": {
    "name": "ipython",
    "version": 3
   },
   "file_extension": ".py",
   "mimetype": "text/x-python",
   "name": "python",
   "nbconvert_exporter": "python",
   "pygments_lexer": "ipython3",
   "version": "3.8.19"
  }
 },
 "nbformat": 4,
 "nbformat_minor": 2
}
