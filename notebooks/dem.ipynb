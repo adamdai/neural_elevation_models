{
 "cells": [
  {
   "cell_type": "code",
   "execution_count": null,
   "id": "6aa366eb",
   "metadata": {},
   "outputs": [],
   "source": [
    "import torch\n",
    "import numpy as np\n",
    "from pathlib import Path\n",
    "import os\n",
    "\n",
    "from nemo.util.plotting import plot_surface\n",
    "from nemo.dem import DEM, DEMLite\n",
    "from nemo.util.paths import project_root\n",
    "\n",
    "device = \"cuda\" if torch.cuda.is_available() else \"cpu\"\n",
    "\n",
    "%load_ext autoreload\n",
    "%autoreload 2"
   ]
  },
  {
   "cell_type": "code",
   "execution_count": null,
   "id": "de7b0661",
   "metadata": {},
   "outputs": [],
   "source": [
    "tif_path = Path(\"/home/shared/ldem_87s_5mpp.tif\")"
   ]
  },
  {
   "cell_type": "code",
   "execution_count": null,
   "id": "8a8d0bba",
   "metadata": {},
   "outputs": [],
   "source": [
    "import rasterio\n",
    "from rasterio.enums import Resampling\n",
    "\n",
    "with rasterio.open(tif_path) as src:\n",
    "    print(\"size:\", src.width, src.height)\n",
    "    print(\"dtype:\", src.dtypes[0])\n",
    "    print(\"nodata:\", src.nodata)\n",
    "    print(\"crs:\", src.crs)"
   ]
  },
  {
   "cell_type": "code",
   "execution_count": null,
   "id": "38e0381d",
   "metadata": {},
   "outputs": [],
   "source": [
    "tif_path = Path(\"/home/shared/ldem_87s_5mpp.tif\")\n",
    "dem = DEM.from_file(tif_path)"
   ]
  },
  {
   "cell_type": "code",
   "execution_count": null,
   "id": "7838dba5",
   "metadata": {},
   "outputs": [],
   "source": []
  }
 ],
 "metadata": {
  "kernelspec": {
   "display_name": "nemo",
   "language": "python",
   "name": "python3"
  },
  "language_info": {
   "codemirror_mode": {
    "name": "ipython",
    "version": 3
   },
   "file_extension": ".py",
   "mimetype": "text/x-python",
   "name": "python",
   "nbconvert_exporter": "python",
   "pygments_lexer": "ipython3",
   "version": "3.10.18"
  }
 },
 "nbformat": 4,
 "nbformat_minor": 5
}
