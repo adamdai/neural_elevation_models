{
 "cells": [
  {
   "cell_type": "code",
   "execution_count": null,
   "metadata": {},
   "outputs": [],
   "source": [
    "import numpy as np\n",
    "import plotly.graph_objects as go\n",
    "import plotly.express as px\n",
    "import matplotlib.pyplot as plt\n",
    "\n",
    "from nemo.util import grid_2d\n",
    "from nemo.plotting import plot_surface, plot_path_3d\n",
    "\n",
    "%load_ext autoreload\n",
    "%autoreload 2\n",
    "\n",
    "g = 9.8  # m/s^2"
   ]
  },
  {
   "cell_type": "markdown",
   "metadata": {},
   "source": [
    "Dynamics of a Dubin's car moving on a sloped plane (no slip)\n",
    "\n",
    "- $\\theta(t)$ - vehicle heading \n",
    "- $\\alpha$ - slope angle (always positive)\n",
    "- $\\psi$ - slope direction\n",
    "- $\\omega$ - yaw rate (commanded)\n",
    "- $a$ - acceleration (commanded)\n",
    "- $\\alpha_{eff}$ - effective slope angle (between -90 and 90, positive is uphill, negative is downhill)\n",
    "\n",
    "$\\theta(t) = \\theta_0 + \\omega t$ \\\n",
    "$\\alpha_{eff}(t) = \\alpha \\cos(\\theta(t) - \\psi)$ \\\n",
    "$a_{net}(t) = a - g \\sin(\\alpha_{eff}(t))$\n",
    "\n",
    "Full dynamics:\n",
    "- State: $(x, y, V, \\theta)$\n",
    "    - Height field gives $z=H(x,y)$ and slope angle and direction thru gradient\n",
    "- control: $(a, \\omega)$\n",
    "    - Fixed between waypoints"
   ]
  },
  {
   "cell_type": "markdown",
   "metadata": {},
   "source": [
    "Load a height field"
   ]
  },
  {
   "cell_type": "code",
   "execution_count": null,
   "metadata": {},
   "outputs": [],
   "source": [
    "import torch\n",
    "from nemo.nemo import Nemo\n",
    "from nemo.util import grid_2d\n",
    "\n",
    "device = torch.device(\"cuda:0\" if torch.cuda.is_available() else \"cpu\")\n",
    "\n",
    "nemo = Nemo()\n",
    "nemo.load_weights('../models/AirSimMountains/AirSimMountains_encs.pth', '../models/AirSimMountains/AirSimMountains_mlp.pth')"
   ]
  },
  {
   "cell_type": "code",
   "execution_count": null,
   "metadata": {},
   "outputs": [],
   "source": [
    "nemo.plot(N=512, bounds=(-.75, .45, -.6, .6))"
   ]
  },
  {
   "cell_type": "code",
   "execution_count": null,
   "metadata": {},
   "outputs": [],
   "source": [
    "nemo.plot_grads(N=512, clip=2.0)"
   ]
  },
  {
   "cell_type": "markdown",
   "metadata": {},
   "source": [
    "Normal vector: (dh/dx, dh/dy, 1)\n"
   ]
  },
  {
   "cell_type": "markdown",
   "metadata": {},
   "source": [
    "Coordinate frame:\n",
    "\n",
    "Rover heading: \\\n",
    "+Y: North, $\\theta = \\pi/2$ \\\n",
    "+X: East, $\\theta = 0$\n",
    "\n",
    "Slope direction angle: \\\n",
    "+Y: $\\psi = 0$ \\\n",
    "+X: $\\psi = \\pi/2$\n",
    "\n",
    "positive gradient is uphill, negative gradient is downhill"
   ]
  },
  {
   "cell_type": "code",
   "execution_count": null,
   "metadata": {},
   "outputs": [],
   "source": [
    "# Simulate dynamics for (a, omega)\n",
    "init_state = np.array([0.4, 0., 0., 5*np.pi/6])  # (x, y, v, theta)\n",
    "u = np.array([1.0, 0.7])     # (a, omega)\n",
    "dt = 0.01\n",
    "\n",
    "l = 0.01  # vehicle length\n",
    "w = 0.005  # vehicle width\n",
    "\n",
    "N_iters = 300\n",
    "state = init_state\n",
    "state_hist = []\n",
    "log = []\n",
    "\n",
    "for i in range(N_iters):\n",
    "    # Unpack state and control\n",
    "    x, y, v, theta = state\n",
    "    a, omega = u\n",
    "\n",
    "    # Query height field to get slope angle and direction\n",
    "    pos = torch.tensor([[x, y]], device=device, requires_grad=True)\n",
    "    _, grad = nemo.get_heights_with_grad(pos)\n",
    "    psi = torch.arctan2(grad[0][1], grad[0][0])  # slope direction (0 is +Y, pi/2 is +X)\n",
    "    slope = torch.arctan(grad.norm())  # slope angle (positive is uphill, negative is downhill) \n",
    "                                        # TODO: from tests below, it seems that NN grad slope is approximately\n",
    "                                        #       x3 real slope for some reason - address/investigate this\n",
    "    psi = psi.detach().cpu().numpy()\n",
    "    slope = slope.detach().cpu().numpy()\n",
    "    \n",
    "    # Calculate effective slope (pitch)\n",
    "    phi_grad = slope * np.cos(theta - psi)\n",
    "    \n",
    "    # Get pitch from sampling points\n",
    "    dl = l/2 * np.array([np.cos(theta), np.sin(theta)])\n",
    "    points = np.vstack((np.array([x, y]) + dl, np.array([x, y]) - dl))\n",
    "    pos = torch.tensor(points, device=device)\n",
    "    z = nemo.get_heights(pos).detach().cpu().numpy().flatten()\n",
    "    phi = np.arctan2(z[0] - z[1], l)\n",
    "    \n",
    "    # Calculate acceleration\n",
    "    a_net = a - g * np.sin(phi)\n",
    "\n",
    "    # Integrate velocity and position\n",
    "    v += a_net * dt\n",
    "    x += v * np.cos(theta) * np.cos(phi) * dt\n",
    "    y += v * np.sin(theta) * np.cos(phi) * dt\n",
    "\n",
    "    # Integrate theta\n",
    "    theta += omega * dt  # turning rate proportional to velocity\n",
    "\n",
    "    # Update and log state\n",
    "    state = np.array([x, y, v, theta])\n",
    "    state_hist.append(state)\n",
    "    log.append([phi, phi_grad, a_net])"
   ]
  },
  {
   "cell_type": "code",
   "execution_count": null,
   "metadata": {},
   "outputs": [],
   "source": [
    "state_hist = np.array(state_hist)\n",
    "xy = state_hist[:, :2]\n",
    "z = nemo.get_heights(torch.tensor(xy, device=device)).detach().cpu().numpy().flatten()"
   ]
  },
  {
   "cell_type": "code",
   "execution_count": null,
   "metadata": {},
   "outputs": [],
   "source": [
    "log = np.array(log)\n",
    "plt.figure()\n",
    "plt.plot(log[:, 0], label='phi')\n",
    "plt.plot(log[:, 1], label='phi_grad')\n",
    "plt.legend()\n",
    "plt.title('Pitch')\n",
    "plt.show()"
   ]
  },
  {
   "cell_type": "code",
   "execution_count": null,
   "metadata": {},
   "outputs": [],
   "source": [
    "plt.scatter(log[:,0], log[:,1])\n",
    "plt.axis('equal')\n",
    "plt.grid(True)"
   ]
  },
  {
   "cell_type": "code",
   "execution_count": null,
   "metadata": {},
   "outputs": [],
   "source": [
    "fig = nemo.plot(N=128, bounds=(-.75, .45, -.6, .6))\n",
    "fig = plot_path_3d(x=xy[:,0], y=xy[:,1], z=z.flatten(), color=np.arange(len(z.flatten())), fig=fig)\n",
    "fig.show()"
   ]
  },
  {
   "cell_type": "markdown",
   "metadata": {},
   "source": [
    "Back out other states and controls from flat outputs $(x(t), y(t))$"
   ]
  },
  {
   "cell_type": "code",
   "execution_count": null,
   "metadata": {},
   "outputs": [],
   "source": [
    "x = xy[:,0]\n",
    "y = xy[:,1]\n",
    "xdot = np.hstack((1e-5, np.diff(x)))\n",
    "ydot = np.hstack((1e-5, np.diff(y)))\n",
    "xddot = np.hstack((1e-5, np.diff(xdot)))\n",
    "yddot = np.hstack((1e-5, np.diff(ydot)))\n",
    "v = np.sqrt(xdot**2 + ydot**2)\n",
    "theta = np.arctan2(ydot, xdot)"
   ]
  },
  {
   "cell_type": "code",
   "execution_count": null,
   "metadata": {},
   "outputs": [],
   "source": [
    "xy_torch = torch.tensor(xy, dtype=torch.float32).to(device)\n",
    "xy_torch.requires_grad = True\n",
    "_, grad = nemo.get_heights_with_grad(xy_torch)\n",
    "psi = torch.atan2(grad[:,1], grad[:,0]).cpu().detach().numpy()  \n",
    "alpha = torch.atan(grad.norm(dim=1)).cpu().detach().numpy()\n",
    "# psi = 0.0\n",
    "# alpha = 0.1\n",
    "alpha_eff = alpha * np.cos(theta - psi)\n",
    "g_eff = g * np.sin(alpha_eff)"
   ]
  },
  {
   "cell_type": "code",
   "execution_count": null,
   "metadata": {},
   "outputs": [],
   "source": [
    "plt.plot(alpha_eff)"
   ]
  },
  {
   "cell_type": "code",
   "execution_count": null,
   "metadata": {},
   "outputs": [],
   "source": [
    "u = np.zeros((len(x), 2))\n",
    "for i in range(len(x)):\n",
    "    J = np.array([[np.cos(theta[i]), -v[i]*np.sin(theta[i])],\n",
    "                  [np.sin(theta[i]), v[i]*np.cos(theta[i])]])\n",
    "    b = np.array([[xddot[i] + g_eff[i]*np.cos(theta[i])],\n",
    "                  [yddot[i] + g_eff[i]*np.sin(theta[i])]])\n",
    "    u[i] = np.linalg.solve(J, b).flatten()"
   ]
  },
  {
   "cell_type": "code",
   "execution_count": null,
   "metadata": {},
   "outputs": [],
   "source": [
    "u"
   ]
  },
  {
   "cell_type": "markdown",
   "metadata": {},
   "source": [
    "Test slopes"
   ]
  },
  {
   "cell_type": "code",
   "execution_count": null,
   "metadata": {},
   "outputs": [],
   "source": [
    "SLOPE = 1.0\n",
    "\n",
    "N = 128\n",
    "bounds = 2*np.array([-1., 1., -1., 1.])\n",
    "\n",
    "xs = torch.linspace(bounds[0], bounds[1], N, device=device)\n",
    "ys = torch.linspace(bounds[2], bounds[3], N, device=device)\n",
    "XY_grid = torch.meshgrid(xs, ys, indexing='xy')\n",
    "XY_grid = torch.stack(XY_grid, dim=-1)\n",
    "x_grid = XY_grid[:,:,0].detach().cpu().numpy()\n",
    "y_grid = XY_grid[:,:,1].detach().cpu().numpy()\n",
    "xy_data = XY_grid.reshape(-1,2)\n",
    "\n",
    "zs = torch.linspace(-SLOPE, SLOPE, N, device=device)\n",
    "z_grid = zs.repeat(N,1)\n",
    "z_data = z_grid.reshape(-1,1)\n",
    "z_grid = z_grid.detach().cpu().numpy()"
   ]
  },
  {
   "cell_type": "code",
   "execution_count": null,
   "metadata": {},
   "outputs": [],
   "source": [
    "fig = plot_surface(x=x_grid, y=y_grid, z=z_grid)\n",
    "fig.show()"
   ]
  },
  {
   "cell_type": "code",
   "execution_count": null,
   "metadata": {},
   "outputs": [],
   "source": [
    "import torch.nn as nn"
   ]
  },
  {
   "cell_type": "code",
   "execution_count": null,
   "metadata": {},
   "outputs": [],
   "source": [
    "nemo = Nemo()\n",
    "nemo.encoding.to(device)\n",
    "nemo.height_net.to(device)"
   ]
  },
  {
   "cell_type": "code",
   "execution_count": null,
   "metadata": {},
   "outputs": [],
   "source": [
    "xy_data = xy_data.half()\n",
    "z_data = z_data.half()"
   ]
  },
  {
   "cell_type": "code",
   "execution_count": null,
   "metadata": {},
   "outputs": [],
   "source": [
    "# Loss function\n",
    "criterion = nn.MSELoss()\n",
    "\n",
    "# Optimizer\n",
    "optimizer = torch.optim.Adam([{'params': nemo.encoding.parameters()},\n",
    "                              {'params': nemo.height_net.parameters()}], lr=1e-5)\n",
    "\n",
    "# Train the network\n",
    "for step in range(5000):\n",
    "    # Forward pass\n",
    "    pred = nemo.get_heights(xy_data)\n",
    "\n",
    "    # Compute loss\n",
    "    loss = criterion(pred, z_data)\n",
    "\n",
    "    # Backward pass\n",
    "    optimizer.zero_grad()\n",
    "    loss.backward()\n",
    "    optimizer.step()\n",
    "\n",
    "    # Print loss every 500 steps\n",
    "    if step % 500 == 0:\n",
    "        print(f\"Step {step}, Loss {loss.item()}\")"
   ]
  },
  {
   "cell_type": "code",
   "execution_count": null,
   "metadata": {},
   "outputs": [],
   "source": [
    "z_pred = pred.reshape(N, N).detach().cpu().numpy()\n",
    "\n",
    "fig = plot_surface(x=x_grid, y=y_grid, z=z_pred)\n",
    "fig.show()"
   ]
  },
  {
   "cell_type": "code",
   "execution_count": null,
   "metadata": {},
   "outputs": [],
   "source": [
    "xy_data.requires_grad = True\n",
    "z, grad = nemo.get_heights_with_grad(xy_data)"
   ]
  },
  {
   "cell_type": "code",
   "execution_count": null,
   "metadata": {},
   "outputs": [],
   "source": [
    "from plotly.subplots import make_subplots"
   ]
  },
  {
   "cell_type": "code",
   "execution_count": null,
   "metadata": {},
   "outputs": [],
   "source": [
    "x_grad = grad[:,0].reshape(N,N).detach().cpu().numpy()\n",
    "y_grad = grad[:,1].reshape(N,N).detach().cpu().numpy()\n",
    "\n",
    "fig = make_subplots(rows=1, cols=2, subplot_titles=('X Gradient', 'Y Gradient'), horizontal_spacing=0.15)\n",
    "fig.add_trace(go.Heatmap(z=x_grad, colorbar=dict(len=1.05, x=0.44, y=0.5)), row=1, col=1)\n",
    "fig.add_trace(go.Heatmap(z=y_grad, colorbar=dict(len=1.05, x=1.01, y=0.5)), row=1, col=2)\n",
    "fig.update_layout(width=1300, height=600, scene_aspectmode='data')\n",
    "fig.show()"
   ]
  },
  {
   "cell_type": "code",
   "execution_count": null,
   "metadata": {},
   "outputs": [],
   "source": [
    "# Histogram of x_grad\n",
    "fig = px.histogram(x_grad.flatten())\n",
    "fig.show()"
   ]
  },
  {
   "cell_type": "code",
   "execution_count": null,
   "metadata": {},
   "outputs": [],
   "source": [
    "fig = px.histogram(y_grad.flatten())\n",
    "fig.show()"
   ]
  },
  {
   "cell_type": "code",
   "execution_count": null,
   "metadata": {},
   "outputs": [],
   "source": []
  }
 ],
 "metadata": {
  "kernelspec": {
   "display_name": "nemo",
   "language": "python",
   "name": "python3"
  },
  "language_info": {
   "codemirror_mode": {
    "name": "ipython",
    "version": 3
   },
   "file_extension": ".py",
   "mimetype": "text/x-python",
   "name": "python",
   "nbconvert_exporter": "python",
   "pygments_lexer": "ipython3",
   "version": "3.8.19"
  }
 },
 "nbformat": 4,
 "nbformat_minor": 2
}
