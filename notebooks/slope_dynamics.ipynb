{
 "cells": [
  {
   "cell_type": "code",
   "execution_count": null,
   "metadata": {},
   "outputs": [],
   "source": [
    "import numpy as np\n",
    "import plotly.graph_objects as go\n",
    "import plotly.express as px\n",
    "\n",
    "from nemo.util import grid_2d\n",
    "from nemo.plotting import plot_surface, plot_path_3d\n",
    "\n",
    "%load_ext autoreload\n",
    "%autoreload 2\n",
    "\n",
    "g = 9.8  # m/s^2"
   ]
  },
  {
   "cell_type": "markdown",
   "metadata": {},
   "source": [
    "Dynamics of a double integrator mass moving on a sloped plane"
   ]
  },
  {
   "cell_type": "code",
   "execution_count": null,
   "metadata": {},
   "outputs": [],
   "source": [
    "slope = 0.1  # rad\n",
    "x0 = np.array([0, 0])  # initial position\n",
    "mass = 1.0  # kg\n",
    "\n",
    "# Acceleration in heading angle theta (w.r.t. slope, theta=0 is directly uphill, theta=pi is directly downhill)\n",
    "a = 1.0  # m/s^2\n",
    "theta = 0  # rad\n",
    "\n",
    "# Effective slope\n",
    "slope_eff = slope * np.cos(theta)\n",
    "\n",
    "net_F = mass * (a - g * np.sin(slope_eff))"
   ]
  },
  {
   "cell_type": "markdown",
   "metadata": {},
   "source": [
    "Dynamics of a Dubin's car moving on a sloped plane (no slip)\n",
    "\n",
    "- $\\theta(t)$ - vehicle heading \n",
    "- $\\alpha$ - slope angle\n",
    "- $\\psi$ - slope direction\n",
    "- $\\omega$ - yaw rate (commanded)\n",
    "- $a$ - acceleration (commanded)\n",
    "- $\\alpha_{eff}$ - effective slope\n",
    "\n",
    "$\\theta(t) = \\theta_0 + \\omega t$ \\\n",
    "$\\alpha_{eff}(t) = \\alpha \\cos(\\theta(t) - \\psi)$ \\\n",
    "$a_{net}(t) = a - g \\sin(\\alpha_{eff}(t))$\n",
    "\n",
    "Full dynamics:\n",
    "- State: $(x, y, V, \\theta)$\n",
    "    - Height field gives $z=H(x,y)$ and slope angle and direction thru gradient\n",
    "- control: $(a, \\omega)$\n",
    "    - Fixed between waypoints"
   ]
  },
  {
   "cell_type": "code",
   "execution_count": null,
   "metadata": {},
   "outputs": [],
   "source": [
    "slope = 0.1  # rad\n",
    "\n",
    "theta_0 = 0  # rad\n",
    "omega = 1.0  # rad/s"
   ]
  },
  {
   "cell_type": "markdown",
   "metadata": {},
   "source": [
    "Load a height field"
   ]
  },
  {
   "cell_type": "code",
   "execution_count": null,
   "metadata": {},
   "outputs": [],
   "source": [
    "import torch\n",
    "from nemo.nemo import Nemo\n",
    "from nemo.util import gradient\n",
    "\n",
    "device = torch.device(\"cuda:0\" if torch.cuda.is_available() else \"cpu\")\n",
    "\n",
    "nemo = Nemo()\n",
    "nemo.load_weights('../models/kt22_encs.pth', '../models/kt22_heightnet.pth')"
   ]
  },
  {
   "cell_type": "code",
   "execution_count": null,
   "metadata": {},
   "outputs": [],
   "source": [
    "# nemo.plot()"
   ]
  },
  {
   "cell_type": "markdown",
   "metadata": {},
   "source": [
    "Normal vector: (dh/dx, dh/dy, 1)\n"
   ]
  },
  {
   "cell_type": "markdown",
   "metadata": {},
   "source": [
    "Coordinate frame:\n",
    "\n",
    "Rover heading: \\\n",
    "+Y: North, $\\theta = \\pi/2$ \\\n",
    "+X: East, $\\theta = 0$\n",
    "\n",
    "Slope direction angle: \\\n",
    "+Y: $\\psi = 0$ \\\n",
    "+X: $\\psi = \\pi/2$\n",
    "\n",
    "positive gradient is uphill, negative gradient is downhill"
   ]
  },
  {
   "cell_type": "code",
   "execution_count": null,
   "metadata": {},
   "outputs": [],
   "source": [
    "# Simulate dynamics for (a, omega)\n",
    "init_state = np.array([-1., 0., 0., 0])  # (x, y, v, theta)\n",
    "u = np.array([1.0, 0.0])     # (a, omega)\n",
    "dt = 0.01\n",
    "\n",
    "N_iters = 100\n",
    "state = init_state\n",
    "state_hist = []\n",
    "\n",
    "for i in range(N_iters):\n",
    "    # Unpack state and control\n",
    "    x, y, v, theta = state\n",
    "    a, omega = u\n",
    "\n",
    "    # Query height field to get slope angle and direction\n",
    "    pos = torch.tensor([[x, y]], device=device, requires_grad=True)\n",
    "    _, grad = nemo.get_heights_with_grad(pos)\n",
    "    psi = torch.arctan2(grad[0][1], grad[0][0])  # slope direction (0 is +Y, pi/2 is +X)\n",
    "    slope = torch.arctan(grad.norm())  # slope angle (positive is uphill, negative is downhill) \n",
    "                                        # TODO: from tests below, it seems that NN grad slope is approximately\n",
    "                                        #       x3 real slope for some reason - address/investigate this\n",
    "    psi = psi.detach().cpu().numpy()\n",
    "    slope = slope.detach().cpu().numpy()\n",
    "\n",
    "    # Integrate theta\n",
    "    theta += omega * dt  \n",
    "    \n",
    "    # Calculate effective slope\n",
    "    slope_eff = slope * np.cos(theta - psi)\n",
    "    \n",
    "    # Calculate acceleration\n",
    "    a_net = a - g * np.sin(slope_eff)\n",
    "\n",
    "    # Integrate velocity and position\n",
    "    v += a_net * dt\n",
    "    x += v * np.cos(theta) * dt\n",
    "    y += v * np.sin(theta) * dt\n",
    "\n",
    "    # Update and log state\n",
    "    state = np.array([x, y, v, theta])\n",
    "    state_hist.append(state)"
   ]
  },
  {
   "cell_type": "code",
   "execution_count": null,
   "metadata": {},
   "outputs": [],
   "source": [
    "state_hist = np.array(state_hist)\n",
    "xy = state_hist[:,:2]\n",
    "\n",
    "z_torch = nemo.get_heights(torch.tensor(xy, dtype=torch.float32).to(device))\n",
    "z = z_torch.detach().cpu().numpy() + 1e-3"
   ]
  },
  {
   "cell_type": "code",
   "execution_count": null,
   "metadata": {},
   "outputs": [],
   "source": [
    "fig = nemo.plot(N=128, bounds=(-1.0, 3.0, -1.0, 1.0))\n",
    "fig = plot_path_3d(x=xy[:,0], y=xy[:,1], z=z.flatten(), fig=fig)\n",
    "fig.show()"
   ]
  },
  {
   "cell_type": "code",
   "execution_count": null,
   "metadata": {},
   "outputs": [],
   "source": [
    "fig = go.Figure()\n",
    "fig.add_trace(go.Scatter3d(x=xy[:,0], y=xy[:,1], z=z.flatten()))\n",
    "fig.show()"
   ]
  },
  {
   "cell_type": "code",
   "execution_count": null,
   "metadata": {},
   "outputs": [],
   "source": [
    "z[i]"
   ]
  },
  {
   "cell_type": "code",
   "execution_count": null,
   "metadata": {},
   "outputs": [],
   "source": [
    "fig = go.Figure()\n",
    "for i in range(N_iters):\n",
    "    fig.add_trace(go.Scatter3d(x=[xy[i,0]], y=[xy[i,1]], z=[z.flatten()[i]]))\n",
    "fig.show()"
   ]
  },
  {
   "cell_type": "code",
   "execution_count": null,
   "metadata": {},
   "outputs": [],
   "source": [
    "N = 64\n",
    "bounds = (-1, 1, -1, 1)\n",
    "xs = torch.linspace(bounds[0], bounds[1], N, device=device)\n",
    "ys = torch.linspace(bounds[2], bounds[3], N, device=device)\n",
    "XY_grid = torch.meshgrid(xs, ys, indexing='xy')\n",
    "XY_grid = torch.stack(XY_grid, dim=-1)\n",
    "positions = XY_grid.reshape(-1, 2)\n",
    "heights = nemo.get_heights(positions)\n",
    "\n",
    "z_grid = heights.reshape(N, N).detach().cpu().numpy()\n",
    "x_grid = XY_grid[:,:,0].detach().cpu().numpy()\n",
    "y_grid = XY_grid[:,:,1].detach().cpu().numpy()\n",
    "\n",
    "# fig = go.Figure()\n",
    "# fig.add_trace(go.Surface(x=x_grid, y=y_grid, z=z_grid, colorscale='Viridis', showscale=False))\n",
    "# fig.update_layout(width=1200, height=900, scene_aspectmode='data')\n",
    "\n",
    "# fig.update_layout(\n",
    "#          title='Animation Test',\n",
    "#          width=1600,\n",
    "#          height=900,\n",
    "#          updatemenus=[dict(type='buttons',\n",
    "#                   showactive=False,\n",
    "#                   y=1,\n",
    "#                   x=0.8,\n",
    "#                   xanchor='left',\n",
    "#                   yanchor='bottom',\n",
    "#                   pad=dict(t=45, r=10),\n",
    "#                   buttons=[dict(label='Play',\n",
    "#                                  method='animate',\n",
    "#                                  args=[None, dict(frame=dict(duration=5, redraw=True), \n",
    "#                                                              transition=dict(duration=0),\n",
    "#                                                              fromcurrent=True,\n",
    "#                                                              mode='immediate'\n",
    "#                                                             )]\n",
    "#                                             )\n",
    "#                                       ]\n",
    "#                               )\n",
    "#                         ]\n",
    "# )\n",
    "\n",
    "frames=[]\n",
    "for i in range(N_iters):\n",
    "    frames.append(go.Frame(data=[go.Surface(x=x_grid, y=y_grid, z=z_grid, colorscale='Viridis', showscale=False), \n",
    "                                 go.Scatter3d(x=[xy[i,0]], y=[xy[i,1]], z=[z.flatten()[i]], \n",
    "                                 mode='markers', marker=dict(size=10, color='red'))]))\n",
    "\n",
    "fig = go.Figure(\n",
    "      data=[go.Surface(x=x_grid, y=y_grid, z=z_grid, colorscale='Viridis', showscale=False)],\n",
    "      layout=go.Layout(\n",
    "            updatemenus=[dict(type=\"buttons\",\n",
    "                              buttons=[dict(label=\"Play\",\n",
    "                                          method=\"animate\",\n",
    "                                          args=[None])])]),\n",
    "      frames=frames\n",
    ")\n",
    "fig.update_layout(width=1200, height=900, scene_aspectmode='data')\n",
    "\n",
    "fig.show()"
   ]
  },
  {
   "cell_type": "markdown",
   "metadata": {},
   "source": [
    "Test slopes"
   ]
  },
  {
   "cell_type": "code",
   "execution_count": null,
   "metadata": {},
   "outputs": [],
   "source": [
    "SLOPE = 1.0\n",
    "\n",
    "N = 128\n",
    "bounds = 2*np.array([-1., 1., -1., 1.])\n",
    "\n",
    "xs = torch.linspace(bounds[0], bounds[1], N, device=device)\n",
    "ys = torch.linspace(bounds[2], bounds[3], N, device=device)\n",
    "XY_grid = torch.meshgrid(xs, ys, indexing='xy')\n",
    "XY_grid = torch.stack(XY_grid, dim=-1)\n",
    "x_grid = XY_grid[:,:,0].detach().cpu().numpy()\n",
    "y_grid = XY_grid[:,:,1].detach().cpu().numpy()\n",
    "xy_data = XY_grid.reshape(-1,2)\n",
    "\n",
    "zs = torch.linspace(-SLOPE, SLOPE, N, device=device)\n",
    "z_grid = zs.repeat(N,1)\n",
    "z_data = z_grid.reshape(-1,1)\n",
    "z_grid = z_grid.detach().cpu().numpy()"
   ]
  },
  {
   "cell_type": "code",
   "execution_count": null,
   "metadata": {},
   "outputs": [],
   "source": [
    "fig = plot_surface(x=x_grid, y=y_grid, z=z_grid)\n",
    "fig.show()"
   ]
  },
  {
   "cell_type": "code",
   "execution_count": null,
   "metadata": {},
   "outputs": [],
   "source": [
    "import torch.nn as nn"
   ]
  },
  {
   "cell_type": "code",
   "execution_count": null,
   "metadata": {},
   "outputs": [],
   "source": [
    "nemo = Nemo()\n",
    "nemo.encoding.to(device)\n",
    "nemo.height_net.to(device)"
   ]
  },
  {
   "cell_type": "code",
   "execution_count": null,
   "metadata": {},
   "outputs": [],
   "source": [
    "xy_data = xy_data.half()\n",
    "z_data = z_data.half()"
   ]
  },
  {
   "cell_type": "code",
   "execution_count": null,
   "metadata": {},
   "outputs": [],
   "source": [
    "# Loss function\n",
    "criterion = nn.MSELoss()\n",
    "\n",
    "# Optimizer\n",
    "optimizer = torch.optim.Adam([{'params': nemo.encoding.parameters()},\n",
    "                              {'params': nemo.height_net.parameters()}], lr=1e-5)\n",
    "\n",
    "# Train the network\n",
    "for step in range(5000):\n",
    "    # Forward pass\n",
    "    pred = nemo.get_heights(xy_data)\n",
    "\n",
    "    # Compute loss\n",
    "    loss = criterion(pred, z_data)\n",
    "\n",
    "    # Backward pass\n",
    "    optimizer.zero_grad()\n",
    "    loss.backward()\n",
    "    optimizer.step()\n",
    "\n",
    "    # Print loss every 500 steps\n",
    "    if step % 500 == 0:\n",
    "        print(f\"Step {step}, Loss {loss.item()}\")"
   ]
  },
  {
   "cell_type": "code",
   "execution_count": null,
   "metadata": {},
   "outputs": [],
   "source": [
    "z_pred = pred.reshape(N, N).detach().cpu().numpy()\n",
    "\n",
    "fig = plot_surface(x=x_grid, y=y_grid, z=z_pred)\n",
    "fig.show()"
   ]
  },
  {
   "cell_type": "code",
   "execution_count": null,
   "metadata": {},
   "outputs": [],
   "source": [
    "xy_data.requires_grad = True\n",
    "z, grad = nemo.get_heights_with_grad(xy_data)"
   ]
  },
  {
   "cell_type": "code",
   "execution_count": null,
   "metadata": {},
   "outputs": [],
   "source": [
    "from plotly.subplots import make_subplots"
   ]
  },
  {
   "cell_type": "code",
   "execution_count": null,
   "metadata": {},
   "outputs": [],
   "source": [
    "x_grad = grad[:,0].reshape(N,N).detach().cpu().numpy()\n",
    "y_grad = grad[:,1].reshape(N,N).detach().cpu().numpy()\n",
    "\n",
    "fig = make_subplots(rows=1, cols=2, subplot_titles=('X Gradient', 'Y Gradient'))\n",
    "fig.add_trace(go.Heatmap(z=x_grad), row=1, col=1)\n",
    "fig.add_trace(go.Heatmap(z=y_grad), row=1, col=2)\n",
    "fig.update_layout(width=1200, height=600, scene_aspectmode='data')\n",
    "fig.show()"
   ]
  },
  {
   "cell_type": "code",
   "execution_count": null,
   "metadata": {},
   "outputs": [],
   "source": [
    "# Histogram of x_grad\n",
    "fig = px.histogram(x_grad.flatten())\n",
    "fig.show()"
   ]
  },
  {
   "cell_type": "code",
   "execution_count": null,
   "metadata": {},
   "outputs": [],
   "source": [
    "fig = px.histogram(y_grad.flatten())\n",
    "fig.show()"
   ]
  },
  {
   "cell_type": "code",
   "execution_count": null,
   "metadata": {},
   "outputs": [],
   "source": []
  }
 ],
 "metadata": {
  "kernelspec": {
   "display_name": "nemo",
   "language": "python",
   "name": "python3"
  },
  "language_info": {
   "codemirror_mode": {
    "name": "ipython",
    "version": 3
   },
   "file_extension": ".py",
   "mimetype": "text/x-python",
   "name": "python",
   "nbconvert_exporter": "python",
   "pygments_lexer": "ipython3",
   "version": "3.8.19"
  }
 },
 "nbformat": 4,
 "nbformat_minor": 2
}
