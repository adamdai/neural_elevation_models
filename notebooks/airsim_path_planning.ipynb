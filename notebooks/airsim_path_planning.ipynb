{
 "cells": [
  {
   "cell_type": "code",
   "execution_count": null,
   "metadata": {},
   "outputs": [],
   "source": [
    "import torch\n",
    "import numpy as np\n",
    "import plotly.graph_objects as go\n",
    "import plotly.express as px\n",
    "\n",
    "from nemo.global_planner import AStarGradPlanner\n",
    "from nemo.nemo import Nemo\n",
    "from nemo.util import wrap_angle_torch, path_metrics\n",
    "from nemo.plotting import plot_surface, plot_path_3d\n",
    "from nemo.planning import path_optimization\n",
    "\n",
    "device = torch.device(\"cuda:0\" if torch.cuda.is_available() else \"cpu\")\n",
    "\n",
    "%load_ext autoreload\n",
    "%autoreload 2"
   ]
  },
  {
   "cell_type": "markdown",
   "metadata": {},
   "source": [
    "## Load the heightnet"
   ]
  },
  {
   "cell_type": "code",
   "execution_count": null,
   "metadata": {},
   "outputs": [],
   "source": [
    "nemo = Nemo()\n",
    "nemo.load_weights('../models/AirSimMountains/AirSimMountains_encs.pth', '../models/AirSimMountains/AirSimMountains_mlp.pth')"
   ]
  },
  {
   "cell_type": "code",
   "execution_count": null,
   "metadata": {},
   "outputs": [],
   "source": [
    "N = 512\n",
    "bounds = np.array([-0.75, 0.45, -0.6, 0.6])\n",
    "xs = torch.linspace(bounds[0], bounds[1], N, device=device)\n",
    "ys = torch.linspace(bounds[2], bounds[3], N, device=device)\n",
    "XY_grid = torch.meshgrid(xs, ys, indexing='xy')\n",
    "XY_grid = torch.stack(XY_grid, dim=-1)\n",
    "positions = XY_grid.reshape(-1, 2)\n",
    "\n",
    "heights = nemo.get_heights(positions)"
   ]
  },
  {
   "cell_type": "code",
   "execution_count": null,
   "metadata": {},
   "outputs": [],
   "source": [
    "z_grid = heights.reshape(N, N).detach().cpu().numpy()\n",
    "x_grid = XY_grid[:,:,0].detach().cpu().numpy()\n",
    "y_grid = XY_grid[:,:,1].detach().cpu().numpy()\n",
    "\n",
    "fig = plot_surface(x_grid, y_grid, z_grid, no_axes=False, showscale=False)\n",
    "fig.update_layout(width=1600, height=900)\n",
    "fig.show()"
   ]
  },
  {
   "cell_type": "markdown",
   "metadata": {},
   "source": [
    "## Coordinate transforms"
   ]
  },
  {
   "cell_type": "code",
   "execution_count": null,
   "metadata": {},
   "outputs": [],
   "source": [
    "import json\n",
    "\n",
    "dataparser_transforms = json.load(open('../models/AirSimMountains/dataparser_transforms.json'))\n",
    "transform = np.array(dataparser_transforms['transform'])\n",
    "scale = dataparser_transforms['scale']"
   ]
  },
  {
   "cell_type": "code",
   "execution_count": null,
   "metadata": {},
   "outputs": [],
   "source": [
    "# Convert AirSim coordinates to Nemo coordinates\n",
    "airsim_start = np.array([177., -247., -33.])  # AirSim global\n",
    "airsim_end = airsim_start + np.array([-192., -328., -68.])  # AirSim global\n",
    "center = np.array([99., -449., -57.])  # AirSim\n",
    "temp = airsim_start - center\n",
    "data_start = np.array([temp[1], temp[0], -temp[2]])\n",
    "temp = airsim_end - center\n",
    "data_end = np.array([temp[1], temp[0], -temp[2]])\n",
    "\n",
    "ns_start = scale * (data_start + transform[0:3,3])\n",
    "ns_end = scale * (data_end + transform[0:3,3])\n",
    "print(ns_start, ns_end)"
   ]
  },
  {
   "cell_type": "code",
   "execution_count": null,
   "metadata": {},
   "outputs": [],
   "source": [
    "np.linalg.norm(airsim_end - airsim_start)"
   ]
  },
  {
   "cell_type": "markdown",
   "metadata": {},
   "source": [
    "## Initialization"
   ]
  },
  {
   "cell_type": "code",
   "execution_count": null,
   "metadata": {},
   "outputs": [],
   "source": [
    "# Initialize the planner with scaled heightmap\n",
    "astar_heights = 1e2 * (z_grid + 1.0).reshape(N, N)\n",
    "gp = AStarGradPlanner(astar_heights, bounds)\n",
    "\n",
    "# Start and end positions for path\n",
    "start = tuple(ns_start[:2])\n",
    "end = tuple(ns_end[:2])\n",
    "\n",
    "# Compute path\n",
    "path_xy = gp.spatial_plan(start, end)\n",
    "path_xy_torch = torch.tensor(path_xy, device=device)\n",
    "# Get heights along path\n",
    "path_zs = nemo.get_heights(path_xy_torch)  \n",
    "\n",
    "# Save path as torch tensor\n",
    "astar_path = torch.cat((path_xy_torch, path_zs), dim=1)\n",
    "\n",
    "init_xy = path_xy_torch"
   ]
  },
  {
   "cell_type": "code",
   "execution_count": null,
   "metadata": {},
   "outputs": [],
   "source": [
    "N_path = 150\n",
    "\n",
    "# init_xy is (N, 2) tensor, straight line between start and end\n",
    "init_xy = torch.stack((torch.linspace(ns_start[0], ns_end[0], N_path, device=device), \n",
    "                       torch.linspace(ns_start[1], ns_end[1], N_path, device=device))).T\n",
    "\n",
    "theta_0 = torch.pi"
   ]
  },
  {
   "cell_type": "markdown",
   "metadata": {},
   "source": [
    "## Path optimization"
   ]
  },
  {
   "cell_type": "code",
   "execution_count": null,
   "metadata": {},
   "outputs": [],
   "source": [
    "from nemo.dynamics import diff_flatness, compute_slopes_sample"
   ]
  },
  {
   "cell_type": "code",
   "execution_count": null,
   "metadata": {},
   "outputs": [],
   "source": [
    "path_start = init_xy[0]\n",
    "path_end = init_xy[-1]\n",
    "path_opt = init_xy[1:-1].clone().detach().requires_grad_(True)  # portion of the path to optimize\n",
    "path = torch.cat((path_start[None], path_opt, path_end[None]), dim=0)  # full path"
   ]
  },
  {
   "cell_type": "code",
   "execution_count": null,
   "metadata": {},
   "outputs": [],
   "source": [
    "xy = path\n",
    "dt = 1.0\n",
    "\n",
    "x = xy[:, 0]\n",
    "y = xy[:, 1]\n",
    "epsilon = torch.tensor(1e-3, device=device, requires_grad=True)\n",
    "xdot = torch.hstack((epsilon, torch.diff(x) / dt))\n",
    "ydot = torch.hstack((epsilon, torch.diff(y) / dt))\n",
    "xddot = torch.hstack((epsilon, torch.diff(xdot) / dt))\n",
    "yddot = torch.hstack((epsilon, torch.diff(ydot) / dt))\n",
    "v = torch.sqrt(xdot**2 + ydot**2)\n",
    "theta = torch.arctan2(ydot, xdot)"
   ]
  },
  {
   "cell_type": "code",
   "execution_count": null,
   "metadata": {},
   "outputs": [],
   "source": [
    "l = scale * 4.0  # vehicle length \n",
    "dl = l/2 * torch.stack((torch.cos(theta), torch.sin(theta))).T \n",
    "z_front = nemo.get_heights(xy + dl).float()\n",
    "z_back = nemo.get_heights(xy - dl).float()\n",
    "phi = torch.arctan2(z_front - z_back, torch.tensor(l))"
   ]
  },
  {
   "cell_type": "code",
   "execution_count": null,
   "metadata": {},
   "outputs": [],
   "source": [
    "#g_eff = 9.81 * torch.sin(phi)\n",
    "#g_eff = torch.tensor(9.81, device=device) * torch.sin(phi)\n",
    "g_eff = torch.sin(phi)"
   ]
  },
  {
   "cell_type": "code",
   "execution_count": null,
   "metadata": {},
   "outputs": [],
   "source": [
    "u = torch.zeros(len(x), 2)\n",
    "for i in range(len(x)):\n",
    "    J = torch.tensor([[torch.cos(theta[i]), -v[i] * torch.sin(theta[i])],\n",
    "                      [torch.sin(theta[i]), v[i] * torch.cos(theta[i])]], device=device, requires_grad=True)\n",
    "    b = torch.tensor([[xddot[i] + g_eff[i] * torch.cos(theta[i])],\n",
    "                      [yddot[i] + g_eff[i] * torch.sin(theta[i])]], device=device, requires_grad=True)\n",
    "    u[i] = torch.linalg.solve(J, b).flatten()"
   ]
  },
  {
   "cell_type": "code",
   "execution_count": null,
   "metadata": {},
   "outputs": [],
   "source": [
    "b"
   ]
  },
  {
   "cell_type": "code",
   "execution_count": null,
   "metadata": {},
   "outputs": [],
   "source": [
    "# Formulate cost and compute gradients\n",
    "c = torch.sum(b)\n",
    "c.backward()\n",
    "path_opt_grad = path_opt.grad\n",
    "\n",
    "# Debugging: Check gradients\n",
    "print(\"path_opt.grad:\", path_opt_grad)"
   ]
  },
  {
   "cell_type": "code",
   "execution_count": null,
   "metadata": {},
   "outputs": [],
   "source": [
    "# _, grad = nemo.get_heights_with_grad(xy.clone().requires_grad_(True))\n",
    "# psi = torch.atan2(grad[:,1], grad[:,0])\n",
    "# alpha = torch.atan(grad.norm(dim=1))\n",
    "\n",
    "# phi = alpha * torch.cos(theta - psi)\n",
    "\n",
    "l = scale * 4.0  # vehicle length \n",
    "phi = compute_slopes_sample(xy, theta, nemo, l)\n",
    "\n",
    "g_eff = 9.81 * torch.sin(phi)\n",
    "\n",
    "u = torch.zeros(len(x), 2)\n",
    "for i in range(len(x)):\n",
    "    J = torch.tensor([[torch.cos(theta[i]), -v[i] * torch.sin(theta[i])],\n",
    "                      [torch.sin(theta[i]), v[i] * torch.cos(theta[i])]], device=device, requires_grad=True)\n",
    "    b = torch.tensor([[xddot[i] + g_eff[i] * torch.cos(theta[i])],\n",
    "                      [yddot[i] + g_eff[i] * torch.sin(theta[i])]], device=device, requires_grad=True)\n",
    "    u[i] = torch.linalg.solve(J, b).flatten()"
   ]
  },
  {
   "cell_type": "code",
   "execution_count": null,
   "metadata": {},
   "outputs": [],
   "source": [
    "# Dubin's based cost\n",
    "def cost(path, dt=1.0):\n",
    "    u = diff_flatness(path, nemo, dt)\n",
    "    return torch.sum(u[:,0]**2 + u[:,1]**2)"
   ]
  },
  {
   "cell_type": "code",
   "execution_count": null,
   "metadata": {},
   "outputs": [],
   "source": [
    "c = cost(path)"
   ]
  },
  {
   "cell_type": "code",
   "execution_count": null,
   "metadata": {},
   "outputs": [],
   "source": [
    "c.backward()"
   ]
  },
  {
   "cell_type": "code",
   "execution_count": null,
   "metadata": {},
   "outputs": [],
   "source": [
    "path_opt.grad"
   ]
  },
  {
   "cell_type": "code",
   "execution_count": null,
   "metadata": {},
   "outputs": [],
   "source": [
    "# Optimize path\n",
    "opt = torch.optim.Adam([path_opt], lr=1e-3)"
   ]
  },
  {
   "cell_type": "code",
   "execution_count": null,
   "metadata": {},
   "outputs": [],
   "source": [
    "iterations = 1000\n",
    "\n",
    "for it in range(iterations):\n",
    "    opt.zero_grad()\n",
    "    path = torch.cat((path_start[None], path_opt, path_end[None]), dim=0)\n",
    "    c = cost(path)\n",
    "    c.backward()\n",
    "    opt.step()\n",
    "    if it % 50 == 0:\n",
    "        print(f'it: {it},  Cost: {c.item()}')\n",
    "\n",
    "print(f'Finished optimization - final cost: {c.item()}')\n",
    "\n",
    "# Compute final heights\n",
    "path_zs = nemo.get_heights(path)\n",
    "\n",
    "# Full 3D path\n",
    "path_3d = torch.cat((path, path_zs), dim=1)"
   ]
  },
  {
   "cell_type": "code",
   "execution_count": null,
   "metadata": {},
   "outputs": [],
   "source": [
    "fig = plot_surface(x_grid, y_grid, z_grid, no_axes=False)\n",
    "fig = plot_path_3d(fig=fig, x=path_3d[:,0].detach().cpu().numpy(), \n",
    "                        y=path_3d[:,1].detach().cpu().numpy(), \n",
    "                        z=path_3d[:,2].detach().cpu().numpy(),\n",
    "                        markers=False)\n",
    "fig.show()"
   ]
  },
  {
   "cell_type": "code",
   "execution_count": null,
   "metadata": {},
   "outputs": [],
   "source": [
    "# Convert Nemo coordinates to AirSim coordinates (local)\n",
    "temp = ns_start / scale - transform[0:3,3]\n",
    "temp[[0,1]] = temp[[1,0]]\n",
    "temp[2] = -temp[2]\n",
    "temp = temp + center"
   ]
  },
  {
   "cell_type": "code",
   "execution_count": null,
   "metadata": {},
   "outputs": [],
   "source": [
    "airsim_path_3d = path_3d.detach().cpu().numpy()\n",
    "airsim_path_3d = airsim_path_3d / scale - transform[0:3,3]\n",
    "airsim_path_3d[:,[0,1]] = airsim_path_3d[:,[1,0]]\n",
    "airsim_path_3d[:,2] = -airsim_path_3d[:,2]\n",
    "airsim_path_3d = airsim_path_3d + center - airsim_start"
   ]
  },
  {
   "cell_type": "code",
   "execution_count": null,
   "metadata": {},
   "outputs": [],
   "source": [
    "fig = plot_path_3d(x=airsim_path_3d[:,0], y=airsim_path_3d[:,1], z=airsim_path_3d[:,2])\n",
    "fig.update_layout(width=1600, height=900, scene=dict(aspectmode='data'))\n",
    "fig.show()"
   ]
  },
  {
   "cell_type": "code",
   "execution_count": null,
   "metadata": {},
   "outputs": [],
   "source": [
    "np.save('path.npy', airsim_path_3d)"
   ]
  },
  {
   "cell_type": "code",
   "execution_count": null,
   "metadata": {},
   "outputs": [],
   "source": [
    "transform = np.array([[1.0, 0.0, 0.0, -1.0172526572205243e-06],\n",
    "                      [0.0, 1.0, 0.0, -0.0],\n",
    "                      [0.0, 0.0, 1.0, -176.6666717529297]])\n",
    "scale = 0.0025\n",
    "\n",
    "x_grid = x_grid / scale - transform[0,3]\n",
    "y_grid = y_grid / scale - transform[1,3]\n",
    "z_grid = z_grid / scale - transform[2,3]\n",
    "\n",
    "path_3d_np = path_3d.detach().cpu().numpy() / scale - transform[0:3,3]"
   ]
  },
  {
   "cell_type": "code",
   "execution_count": null,
   "metadata": {},
   "outputs": [],
   "source": [
    "fig = plot_surface(x_grid, y_grid, z_grid, no_axes=False)\n",
    "fig = plot_path_3d(fig=fig, x=path_3d_np[:,0], y=path_3d_np[:,1], z=path_3d_np[:,2])\n",
    "fig.show()"
   ]
  },
  {
   "cell_type": "code",
   "execution_count": null,
   "metadata": {},
   "outputs": [],
   "source": [
    "path_metrics(path_3d)"
   ]
  },
  {
   "cell_type": "markdown",
   "metadata": {},
   "source": [
    "### Dubin's with $\\theta$ optimization"
   ]
  },
  {
   "cell_type": "code",
   "execution_count": null,
   "metadata": {},
   "outputs": [],
   "source": [
    "# Compute initial headings\n",
    "thetas = torch.atan2(path_xy_torch[1:,1] - path_xy_torch[:-1,1], path_xy_torch[1:,0] - path_xy_torch[:-1,0])  \n",
    "# Duplicate last heading\n",
    "thetas = torch.cat((thetas, thetas[-1].unsqueeze(0)), dim=0)\n",
    "\n",
    "path = torch.cat((path_xy_torch, thetas.unsqueeze(1)), dim=1)  # (x, y, theta)\n",
    "# Fixed variables are initial and final states, free variables are intermediate states\n",
    "path_start = path[0].clone().detach()\n",
    "path_end = path[-1].clone().detach()\n",
    "path_opt = path[1:-1].clone().detach().requires_grad_(True)"
   ]
  },
  {
   "cell_type": "code",
   "execution_count": null,
   "metadata": {},
   "outputs": [],
   "source": [
    "# Dubin's based cost\n",
    "def cost(path, dt=1.0):\n",
    "    thetas = path[:,2]  \n",
    "    omegas = wrap_angle_torch(thetas.diff()) / dt  \n",
    "    # Path Vs\n",
    "    path_dxy = torch.diff(path[:,:2], dim=0)\n",
    "    Vs = torch.norm(path_dxy, dim=1) / dt\n",
    "    controls_cost = 0.1 * (torch.abs(Vs)).nanmean() + (torch.abs(omegas)).nanmean()\n",
    "    # Slope cost\n",
    "    path_zs = 10 * nemo.get_heights(path)\n",
    "    path_zs -= path_zs.min()\n",
    "    path_zs = path_zs**2\n",
    "    slope_cost = 1 * (torch.abs(path_zs.diff(dim=0))).nanmean()\n",
    "    print(f\"controls_cost: {controls_cost}, slope_cost: {slope_cost}\")\n",
    "    return controls_cost + slope_cost"
   ]
  },
  {
   "cell_type": "code",
   "execution_count": null,
   "metadata": {},
   "outputs": [],
   "source": [
    "path_zs = 10 * nemo.get_heights(path)\n",
    "path_zs -= path_zs.min()\n",
    "path_zs = path_zs**2\n",
    "print(path_zs.min(), path_zs.max())\n",
    "costs = torch.abs(path_zs.diff(dim=0))\n",
    "print(costs.min(), costs.max())"
   ]
  },
  {
   "cell_type": "code",
   "execution_count": null,
   "metadata": {},
   "outputs": [],
   "source": [
    "# Optimize path\n",
    "opt = torch.optim.Adam([path_opt], lr=1e-3)\n",
    "\n",
    "for it in range(500):\n",
    "    opt.zero_grad()\n",
    "    path = torch.cat((path_start[None], path_opt, path_end[None]), dim=0)\n",
    "    c = cost(path)\n",
    "    c.backward()\n",
    "    opt.step()\n",
    "    if it % 50 == 0:\n",
    "        print(f'it: {it},  Cost: {c.item()}')\n",
    "\n",
    "print(f'Finished optimization - final cost: {c.item()}')"
   ]
  },
  {
   "cell_type": "code",
   "execution_count": null,
   "metadata": {},
   "outputs": [],
   "source": [
    "path_zs = nemo.get_heights(path[:,:2])\n",
    "path_3d = torch.cat((path[:,:2], path_zs), dim=1)"
   ]
  },
  {
   "cell_type": "code",
   "execution_count": null,
   "metadata": {},
   "outputs": [],
   "source": [
    "fig = go.Figure()\n",
    "fig = plot_surface(fig, x_grid, y_grid, z_grid, no_axes=True)\n",
    "fig = plot_path_3d(fig, x=path_3d[:,0].detach().cpu().numpy(), \n",
    "                        y=path_3d[:,1].detach().cpu().numpy(), \n",
    "                        z=path_3d[:,2].detach().cpu().numpy())\n",
    "fig.show()"
   ]
  },
  {
   "cell_type": "markdown",
   "metadata": {},
   "source": [
    "### Double integrator dynamics"
   ]
  },
  {
   "cell_type": "code",
   "execution_count": null,
   "metadata": {},
   "outputs": [],
   "source": [
    "dt = 0.1\n",
    "path_vs = torch.diff(path, dim=0) / dt\n",
    "path_as = torch.diff(path_vs, dim=0) / dt\n",
    "controls_cost = 2 * (torch.norm(path_as, dim=1)**2).mean()"
   ]
  },
  {
   "cell_type": "code",
   "execution_count": null,
   "metadata": {},
   "outputs": [],
   "source": [
    "def resample_path(path, rate=10):\n",
    "    \"\"\"Resample path at higher resolution using double integrator dynamics\"\"\"\n",
    "    path_vs = torch.diff(path, dim=0) / dt\n",
    "    path_as = torch.diff(path_vs, dim=0) / dt\n",
    "    path_resampled = [path[0]]\n",
    "    for i in range(len(path)-1):\n",
    "        for j in range(rate):\n",
    "            t = j / rate\n",
    "            path_resampled.append(path[i] + path_vs[i]*t + 0.5*path_as[i]*t**2)\n",
    "    print(path[-1])\n",
    "    path_resampled.append(path[-1])\n",
    "    return torch.stack(path_resampled)"
   ]
  },
  {
   "cell_type": "code",
   "execution_count": null,
   "metadata": {},
   "outputs": [],
   "source": [
    "resampled_path = resample_path(path, rate=10)\n",
    "resampled_path"
   ]
  },
  {
   "cell_type": "code",
   "execution_count": null,
   "metadata": {},
   "outputs": [],
   "source": [
    "# Double integrator dynamics\n",
    "def di_cost(path, dt=0.1):\n",
    "    path_vs = torch.diff(path, dim=0) / dt\n",
    "    path_as = torch.diff(path_vs, dim=0) / dt\n",
    "    path_dxy = torch.diff(path, dim=0)\n",
    "    Vs = torch.norm(path_dxy, dim=1) / dt\n",
    "    return torch.mean(Vs**2)"
   ]
  },
  {
   "cell_type": "code",
   "execution_count": null,
   "metadata": {},
   "outputs": [],
   "source": [
    "opt = torch.optim.Adam([path_opt], lr=1e-3)\n",
    "\n",
    "for it in range(500):\n",
    "    opt.zero_grad()\n",
    "    path = torch.cat((path_start[None], path_opt, path_end[None]), dim=0)\n",
    "    c = dubins_cost(path)\n",
    "    c.backward()\n",
    "    opt.step()\n",
    "    if it % 50 == 0:\n",
    "        print(f'it: {it},  Cost: {c.item()}')"
   ]
  },
  {
   "cell_type": "code",
   "execution_count": null,
   "metadata": {},
   "outputs": [],
   "source": []
  }
 ],
 "metadata": {
  "kernelspec": {
   "display_name": "nerfstudio",
   "language": "python",
   "name": "python3"
  },
  "language_info": {
   "codemirror_mode": {
    "name": "ipython",
    "version": 3
   },
   "file_extension": ".py",
   "mimetype": "text/x-python",
   "name": "python",
   "nbconvert_exporter": "python",
   "pygments_lexer": "ipython3",
   "version": "3.8.19"
  }
 },
 "nbformat": 4,
 "nbformat_minor": 2
}
