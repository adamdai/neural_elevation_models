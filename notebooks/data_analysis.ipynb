{
 "cells": [
  {
   "cell_type": "code",
   "execution_count": null,
   "metadata": {},
   "outputs": [],
   "source": [
    "import torch\n",
    "import numpy as np\n",
    "from PIL import Image\n",
    "import os\n",
    "import gnss_lib_py as glp\n",
    "import pandas as pd\n",
    "\n",
    "from nemo.util import parse_colmap_point_cloud, elevation_function\n",
    "from nemo.plotting import plot_3d_points, plot_surface\n",
    "from nemo.dem import DEM\n",
    "\n",
    "device = torch.device(\"cuda:0\" if torch.cuda.is_available() else \"cpu\")\n",
    "\n",
    "%load_ext autoreload\n",
    "%autoreload 2"
   ]
  },
  {
   "cell_type": "markdown",
   "metadata": {},
   "source": [
    "# KT-22"
   ]
  },
  {
   "cell_type": "markdown",
   "metadata": {},
   "source": [
    "### USGS Elevation data"
   ]
  },
  {
   "cell_type": "code",
   "execution_count": null,
   "metadata": {},
   "outputs": [],
   "source": [
    "# KT22 lat lon\n",
    "lat = 39.182745\n",
    "lon = -120.241651\n",
    "alt = 2423.0\n",
    "\n",
    "# Grid of lat lon samples\n",
    "N = 64\n",
    "delta = 0.05  # degrees\n",
    "lat_range = np.linspace(lat - delta, lat + delta, N)\n",
    "lon_range = np.linspace(lon - delta, lon + delta, N)\n",
    "grid = np.meshgrid(lat_range, lon_range)\n",
    "samples = np.vstack([grid[0].ravel(), grid[1].ravel()]).T"
   ]
  },
  {
   "cell_type": "code",
   "execution_count": null,
   "metadata": {},
   "outputs": [],
   "source": [
    "# coordinates with known elevation \n",
    "lat_samples = samples[:, 0]\n",
    "lon_samples = samples[:, 1]\n",
    "   \n",
    "# create data frame\n",
    "df = pd.DataFrame({\n",
    "    'lat': lat_samples,\n",
    "    'lon': lon_samples\n",
    "})\n",
    "\n",
    "elevation_function(df, 'lat', 'lon')\n",
    "df.head()"
   ]
  },
  {
   "cell_type": "code",
   "execution_count": null,
   "metadata": {},
   "outputs": [],
   "source": [
    "# Convert lat long to NED\n",
    "lla = df.values.astype(float)\n",
    "local_frame = glp.LocalCoord.from_geodetic(np.array([[lat, lon, alt]]))\n",
    "ned = local_frame.geodetic_to_ned(lla.T)"
   ]
  },
  {
   "cell_type": "code",
   "execution_count": null,
   "metadata": {},
   "outputs": [],
   "source": [
    "x, y, z = ned\n",
    "x = x.reshape(N, N)\n",
    "y = y.reshape(N, N)\n",
    "z = z.reshape(N, N)\n",
    "\n",
    "# Plot the surface\n",
    "fig = plot_surface(x, y, z)\n",
    "fig.show()"
   ]
  },
  {
   "cell_type": "markdown",
   "metadata": {},
   "source": [
    "# Red Rocks"
   ]
  },
  {
   "cell_type": "markdown",
   "metadata": {},
   "source": [
    "### Imagery EXIF geo location"
   ]
  },
  {
   "cell_type": "code",
   "execution_count": null,
   "metadata": {},
   "outputs": [],
   "source": [
    "img_folder = '../../Raw_data/DroneMapper/DroneMapper-RedRocks-Oblique'\n",
    "\n",
    "def get_lla_from_exif(exif_data):\n",
    "    lat = exif_data[34853][2][0] + exif_data[34853][2][1] / 60.0 + exif_data[34853][2][2] / 3600.0\n",
    "    lon = exif_data[34853][4][0] + exif_data[34853][4][1] / 60.0 + exif_data[34853][4][2] / 3600.0\n",
    "    alt = exif_data[34853][6]\n",
    "    return lat, lon, alt\n",
    "\n",
    "lla = []\n",
    "\n",
    "# Loop through images in folder\n",
    "for img in os.listdir(img_folder):\n",
    "    img_path = os.path.join(img_folder, img)\n",
    "    im = Image.open(img_path)\n",
    "    exif_data = im._getexif()\n",
    "    lat, lon, alt = get_lla_from_exif(exif_data)\n",
    "    lla.append([lat, lon, alt])\n",
    "\n",
    "lla = np.array(lla, dtype=np.float32)"
   ]
  },
  {
   "cell_type": "code",
   "execution_count": null,
   "metadata": {},
   "outputs": [],
   "source": [
    "local_frame = glp.LocalCoord.from_geodetic(lla[0][:,None])\n",
    "ned = local_frame.geodetic_to_ned(lla.T)"
   ]
  },
  {
   "cell_type": "code",
   "execution_count": null,
   "metadata": {},
   "outputs": [],
   "source": [
    "fig = plot_3d_points(x=ned[0], y=ned[1], z=ned[2])\n",
    "fig.show()"
   ]
  },
  {
   "cell_type": "markdown",
   "metadata": {},
   "source": [
    "### COLMAP camera poses"
   ]
  },
  {
   "cell_type": "code",
   "execution_count": null,
   "metadata": {},
   "outputs": [],
   "source": [
    "import json\n",
    "\n",
    "# Path to transforms.json\n",
    "with open('../../nerfstudio/data/RedRocks/transforms.json', 'r') as f:\n",
    "    data = json.load(f)\n",
    "\n",
    "# Extract camera poses\n",
    "poses = np.array([[data['frames'][i]['transform_matrix']] \n",
    "                        for i in range(len(data['frames']))])\n",
    "poses = np.squeeze(poses)\n",
    "positions = poses[:, :3, 3]\n",
    "\n",
    "fig = plot_3d_points(x=positions[:,0], y=positions[:,1], z=positions[:,2])\n",
    "fig.show()"
   ]
  },
  {
   "cell_type": "markdown",
   "metadata": {},
   "source": [
    "### COLMAP sparse point cloud"
   ]
  },
  {
   "cell_type": "code",
   "execution_count": null,
   "metadata": {},
   "outputs": [],
   "source": [
    "path = '../data/redrocks/redrocks_points3D.txt'\n",
    "points, colors = parse_colmap_point_cloud(path)"
   ]
  },
  {
   "cell_type": "code",
   "execution_count": null,
   "metadata": {},
   "outputs": [],
   "source": [
    "# Extract the points within range xyz in [-5, 5]\n",
    "points = points[(points[:,0] > -5) & (points[:,0] < 5)]\n",
    "points = points[(points[:,1] > -5) & (points[:,1] < 5)]\n",
    "points = points[(points[:,2] > -5) & (points[:,2] < 5)]\n",
    "\n",
    "fig = plot_3d_points(x=points[:,0], y=points[:,1], z=points[:,2], markersize=1)\n",
    "fig.show()"
   ]
  },
  {
   "cell_type": "markdown",
   "metadata": {},
   "source": [
    "Above points are in COLMAP frame $F_{colmap}$. We want to transform to the NeRF scene coordinate frame $F_{nerf}$. \n",
    "The transformations are as follows:\n",
    "1. Manual camera plane alignment rotation from `align_camera_plane.ipynb` (in nerfstudio repo)\n",
    "2. Nerfstudio dataparser scale and transform, stored in `dataparser_transforms.json` (in outputs folder)"
   ]
  },
  {
   "cell_type": "code",
   "execution_count": null,
   "metadata": {},
   "outputs": [],
   "source": [
    "# For Red Rocks\n",
    "manual_R = np.array([[-0.25241505,  0.96618594, -0.0526439],\n",
    "                     [-0.69407693, -0.21869781, -0.68587789],\n",
    "                     [-0.67419868, -0.13658698,  0.72580999]])\n",
    "dataparser_T = np.array([[0.0, 1.0, 0.0, 0.02047962136566639],\n",
    "                         [1.0, 0.0, 0.0, -0.17118817567825317],\n",
    "                         [0.0, 0.0, -1.0, 0.10579380393028259]])\n",
    "dataparser_scale = 0.21856701094642245"
   ]
  },
  {
   "cell_type": "code",
   "execution_count": null,
   "metadata": {},
   "outputs": [],
   "source": [
    "points_tf = points @ manual_R.T\n",
    "points_tf = points_tf @ dataparser_T[:3,:3].T\n",
    "points_tf = points_tf + dataparser_T[:3,3]\n",
    "points_tf = points_tf * dataparser_scale\n",
    "\n",
    "# Swap x and z axes\n",
    "points_tf = points_tf @ np.array([[0, 0, 1], [0, 1, 0], [-1, 0, 0]])"
   ]
  },
  {
   "cell_type": "code",
   "execution_count": null,
   "metadata": {},
   "outputs": [],
   "source": [
    "fig = plot_3d_points(x=points_tf[:,0], y=points_tf[:,1], z=points_tf[:,2], color=points_tf[:,2], markersize=1)\n",
    "fig.show()\n",
    "# NOTE: looks like incorrect frame (X up instead of Z up)"
   ]
  },
  {
   "cell_type": "markdown",
   "metadata": {},
   "source": [
    "### NEMo height field"
   ]
  },
  {
   "cell_type": "code",
   "execution_count": null,
   "metadata": {},
   "outputs": [],
   "source": [
    "from nemo.nemo import Nemo\n",
    "\n",
    "nemo = Nemo()\n",
    "nemo.load_weights('../models/redrocks_encs_relu.pth', '../models/redrocks_heightnet_relu.pth')\n",
    "\n",
    "N = 64\n",
    "# xmin, xmax, ymin, ymax\n",
    "bounds = (-0.3, 0.8, -0.45, 0.5) # red rocks\n",
    "#bounds = (-0.75, 0.75, -0.75, 0.75) # kt22\n",
    "xs = torch.linspace(bounds[0], bounds[1], N, device=device)\n",
    "ys = torch.linspace(bounds[2], bounds[3], N, device=device)\n",
    "XY_grid = torch.meshgrid(xs, ys, indexing='xy')\n",
    "XY_grid = torch.stack(XY_grid, dim=-1)\n",
    "positions = XY_grid.reshape(-1, 2)\n",
    "\n",
    "heights = nemo.get_heights(positions)\n",
    "\n",
    "z_grid = heights.reshape(N, N).detach().cpu().numpy()\n",
    "x_grid = XY_grid[:,:,0].detach().cpu().numpy()\n",
    "y_grid = XY_grid[:,:,1].detach().cpu().numpy()\n",
    "\n",
    "fig = plot_surface(x_grid, y_grid, z_grid, fig=fig)\n",
    "fig.show()"
   ]
  },
  {
   "cell_type": "markdown",
   "metadata": {},
   "source": [
    "### DroneMapper DEM"
   ]
  },
  {
   "cell_type": "code",
   "execution_count": null,
   "metadata": {},
   "outputs": [],
   "source": [
    "from osgeo import gdal\n",
    "\n",
    "# Open the GeoTIFF file\n",
    "# (checked by seems vertical datum metadata is missing)\n",
    "dataset = gdal.Open('../data/redrocks/DEM32-DroneMapper.tif')\n",
    "\n",
    "if dataset is None:\n",
    "    print(\"Failed to open the GeoTIFF file\")\n",
    "    exit(1)\n",
    "\n",
    "# Read raster data\n",
    "band = dataset.GetRasterBand(1)  # Assuming it's a single-band raster\n",
    "elevation_data = band.ReadAsArray()  \n",
    "\n",
    "# Use geotransform parameters to calculate extent (use a local ENU coordinate frame with origin at center of DEM)\n",
    "geotransform = dataset.GetGeoTransform()\n",
    "top_left_x, pixel_width, x_rotation, top_left_y, y_rotation, pixel_height = geotransform\n",
    "cols = dataset.RasterXSize\n",
    "rows = dataset.RasterYSize\n",
    "\n",
    "# Calculate East and North extents\n",
    "east_extent = cols * pixel_width\n",
    "north_extent = rows * abs(pixel_height)"
   ]
  },
  {
   "cell_type": "code",
   "execution_count": null,
   "metadata": {},
   "outputs": [],
   "source": [
    "dem = DEM(elevation_data, extent=(east_extent, north_extent))"
   ]
  },
  {
   "cell_type": "code",
   "execution_count": null,
   "metadata": {},
   "outputs": [],
   "source": [
    "dem_ds = dem.downsample(10)\n",
    "dem.handle_missing_data()\n",
    "dem_ds.show()"
   ]
  },
  {
   "cell_type": "markdown",
   "metadata": {},
   "source": [
    "---\n"
   ]
  },
  {
   "cell_type": "code",
   "execution_count": null,
   "metadata": {},
   "outputs": [],
   "source": []
  }
 ],
 "metadata": {
  "kernelspec": {
   "display_name": "nerfstudio",
   "language": "python",
   "name": "python3"
  },
  "language_info": {
   "codemirror_mode": {
    "name": "ipython",
    "version": 3
   },
   "file_extension": ".py",
   "mimetype": "text/x-python",
   "name": "python",
   "nbconvert_exporter": "python",
   "pygments_lexer": "ipython3",
   "version": "3.8.19"
  }
 },
 "nbformat": 4,
 "nbformat_minor": 2
}
