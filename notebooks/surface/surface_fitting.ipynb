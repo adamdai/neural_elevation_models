{
 "cells": [
  {
   "cell_type": "code",
   "execution_count": 1,
   "id": "45cb2ccb",
   "metadata": {},
   "outputs": [],
   "source": [
    "import torch\n",
    "import numpy as np\n",
    "from nemo.util.plotting import plot_surface\n",
    "from nemo.field import NeuralHeightField\n",
    "\n",
    "device = \"cuda\" if torch.cuda.is_available() else \"cpu\"\n",
    "\n",
    "%load_ext autoreload\n",
    "%autoreload 2"
   ]
  },
  {
   "cell_type": "code",
   "execution_count": 2,
   "id": "a95a6f0f",
   "metadata": {},
   "outputs": [],
   "source": [
    "dem_path = \"../../data/Moon_Map_01_0_rep0.dat\"\n",
    "dem = np.load(dem_path, allow_pickle=True)"
   ]
  },
  {
   "cell_type": "code",
   "execution_count": null,
   "id": "8290d7b3",
   "metadata": {},
   "outputs": [],
   "source": [
    "plot_surface(dem)"
   ]
  },
  {
   "cell_type": "code",
   "execution_count": 45,
   "id": "090f0048",
   "metadata": {},
   "outputs": [],
   "source": [
    "# Reshape DEM data from (180, 180, 3) to (N, 3) where N = 180*180\n",
    "dem_reshaped = dem[:, :, :3].reshape(-1, 3)  # Flatten spatial dimensions\n",
    "\n",
    "# Convert to torch tensor and move to CUDA\n",
    "dem_tensor = torch.from_numpy(dem_reshaped).float().to(device)\n",
    "\n",
    "# Split into input (x,y) and target (z) tensors\n",
    "xy = dem_tensor[:, :2]  # First two columns are x,y coordinates\n",
    "z = dem_tensor[:, 2]  # Third column is the height value\n",
    "xyz = torch.cat([xy, z.unsqueeze(1)], dim=1)"
   ]
  },
  {
   "cell_type": "code",
   "execution_count": 46,
   "id": "4c01bb8a",
   "metadata": {},
   "outputs": [],
   "source": [
    "field = NeuralHeightField(in_dim=2, encoding_type=\"nerf\").to(device)"
   ]
  },
  {
   "cell_type": "code",
   "execution_count": null,
   "id": "86164e7f",
   "metadata": {},
   "outputs": [],
   "source": [
    "field.fit(xyz)"
   ]
  },
  {
   "cell_type": "code",
   "execution_count": 49,
   "id": "adfa6870",
   "metadata": {},
   "outputs": [],
   "source": [
    "field_z = field(xy)\n",
    "field_dem = dem.copy()\n",
    "field_dem[:, :, 2] = field_z.reshape(180, 180).detach().cpu().numpy()"
   ]
  },
  {
   "cell_type": "code",
   "execution_count": null,
   "id": "641be760",
   "metadata": {},
   "outputs": [],
   "source": [
    "plot_surface(field_dem)"
   ]
  },
  {
   "cell_type": "code",
   "execution_count": null,
   "id": "8e68efb0",
   "metadata": {},
   "outputs": [],
   "source": []
  }
 ],
 "metadata": {
  "kernelspec": {
   "display_name": "nemo",
   "language": "python",
   "name": "python3"
  },
  "language_info": {
   "codemirror_mode": {
    "name": "ipython",
    "version": 3
   },
   "file_extension": ".py",
   "mimetype": "text/x-python",
   "name": "python",
   "nbconvert_exporter": "python",
   "pygments_lexer": "ipython3",
   "version": "3.10.18"
  }
 },
 "nbformat": 4,
 "nbformat_minor": 5
}
