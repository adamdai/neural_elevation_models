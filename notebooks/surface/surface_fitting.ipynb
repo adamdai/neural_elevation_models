{
 "cells": [
  {
   "cell_type": "code",
   "execution_count": null,
   "id": "45cb2ccb",
   "metadata": {},
   "outputs": [],
   "source": [
    "import torch\n",
    "import numpy as np\n",
    "from pathlib import Path\n",
    "import os\n",
    "\n",
    "from nemo.util.plotting import plot_surface\n",
    "from nemo.dem import DEM\n",
    "from nemo.nemov2 import NEMoV2\n",
    "from nemo.util.paths import project_root\n",
    "\n",
    "device = \"cuda\" if torch.cuda.is_available() else \"cpu\"\n",
    "\n",
    "%load_ext autoreload\n",
    "%autoreload 2"
   ]
  },
  {
   "cell_type": "code",
   "execution_count": null,
   "id": "470f5847",
   "metadata": {},
   "outputs": [],
   "source": [
    "DEM_DATA = \"LDEM\"  # \"LAC\" or \"LDEM\"\n",
    "\n",
    "if DEM_DATA == \"LAC\":\n",
    "    dem = DEM.from_file(\"../../data/Moon_Map_01_0_rep0.dat\")\n",
    "else:\n",
    "    tif_path = Path(\"../../data/Site01_final_adj_5mpp_surf.tif\")\n",
    "    dem = DEM.from_file(tif_path)"
   ]
  },
  {
   "cell_type": "code",
   "execution_count": null,
   "id": "541b0ace",
   "metadata": {},
   "outputs": [],
   "source": [
    "dem.surface_plot()"
   ]
  },
  {
   "cell_type": "code",
   "execution_count": null,
   "id": "da711eaa",
   "metadata": {},
   "outputs": [],
   "source": [
    "dem.data.shape"
   ]
  },
  {
   "cell_type": "code",
   "execution_count": null,
   "id": "4cae2184",
   "metadata": {},
   "outputs": [],
   "source": [
    "xyz = dem.get_xyz_combined()\n",
    "xy = torch.from_numpy(xyz[:, :2]).float().to(device)\n",
    "z = torch.from_numpy(xyz[:, 2]).float().to(device)\n",
    "\n",
    "print(f\"Real LDEM data shape: xy={xy.shape}, z={z.shape}\")\n",
    "print(\n",
    "    f\"Coordinate ranges: X({xy[:, 0].min():.3f}, {xy[:, 0].max():.3f}), Y({xy[:, 1].min():.3f}, {xy[:, 1].max():.3f})\"\n",
    ")\n",
    "print(f\"Elevation range: Z({z.min():.3f}, {z.max():.3f})\")"
   ]
  },
  {
   "cell_type": "code",
   "execution_count": null,
   "id": "e61a25ad",
   "metadata": {},
   "outputs": [],
   "source": [
    "nemo = NEMoV2(device=device)\n",
    "nemo.from_config(\"../../configs/nemo.yaml\")"
   ]
  },
  {
   "cell_type": "code",
   "execution_count": null,
   "id": "42110172",
   "metadata": {},
   "outputs": [],
   "source": [
    "nemo.compute_scaling_parameters(xy, z)\n",
    "nemo.fit(\n",
    "    xy,\n",
    "    z,\n",
    "    lr=1e-3,\n",
    "    max_epochs=5000,\n",
    "    batch_size=20000,\n",
    "    verbose=False,\n",
    "    early_stopping=False,\n",
    ")"
   ]
  },
  {
   "cell_type": "code",
   "execution_count": null,
   "id": "a272d9b6",
   "metadata": {},
   "outputs": [],
   "source": [
    "nemo.save_model(\"nemo_model.pth\")\n",
    "\n",
    "print(f\"Model size: {os.path.getsize('nemo_model.pth') / 1024**2:.2f} MB\")\n",
    "\n",
    "print(f\"DEM data type: {dem.data.dtype}\")\n",
    "print(f\"DEM data size: {dem.data.size * 4 / 1024**2:.2f} MB\")"
   ]
  },
  {
   "cell_type": "code",
   "execution_count": null,
   "id": "20f9fc11",
   "metadata": {},
   "outputs": [],
   "source": [
    "dem.data.size"
   ]
  },
  {
   "cell_type": "code",
   "execution_count": null,
   "id": "df5d202b",
   "metadata": {},
   "outputs": [],
   "source": [
    "nemo.surface_plot(xy, dem.data)"
   ]
  },
  {
   "cell_type": "code",
   "execution_count": null,
   "id": "922fdeec",
   "metadata": {},
   "outputs": [],
   "source": [
    "load_nemo = NEMoV2()\n",
    "load_nemo.load_model(\"nemo_model.pth\")"
   ]
  },
  {
   "cell_type": "code",
   "execution_count": null,
   "id": "f813f8d8",
   "metadata": {},
   "outputs": [],
   "source": [
    "load_nemo.predict_height(xy)"
   ]
  },
  {
   "cell_type": "code",
   "execution_count": null,
   "id": "922fdeec",
   "metadata": {},
   "outputs": [],
   "source": [
    "pred_z = nemo.predict_height(xy)\n",
    "pred_grid = dem.data.copy()\n",
    "pred_grid[:, :, 2] = pred_z.detach().cpu().numpy().reshape(dem.shape[:2])\n",
    "\n",
    "plot_surface(pred_grid)"
   ]
  },
  {
   "cell_type": "code",
   "execution_count": null,
   "id": "bca972bc",
   "metadata": {},
   "outputs": [],
   "source": [
    "pred_z"
   ]
  },
  {
   "cell_type": "code",
   "execution_count": null,
   "id": "22997841",
   "metadata": {},
   "outputs": [],
   "source": [
    "plot_surface(dem.data)"
   ]
  },
  {
   "cell_type": "code",
   "execution_count": null,
   "id": "71a5a4a4",
   "metadata": {},
   "outputs": [],
   "source": [
    "dem.data.shape"
   ]
  },
  {
   "cell_type": "code",
   "execution_count": null,
   "id": "e5ebf8d6",
   "metadata": {},
   "outputs": [],
   "source": [
    "plot_surface(xyz.reshape(dem.data.shape))"
   ]
  },
  {
   "cell_type": "markdown",
   "id": "1cd7ce01",
   "metadata": {},
   "source": [
    "# LDEM\n"
   ]
  },
  {
   "cell_type": "code",
   "execution_count": null,
   "id": "a9c79f5c",
   "metadata": {},
   "outputs": [],
   "source": [
    "tif_path = Path(\"../../data/Site01_final_adj_5mpp_surf.tif\")\n",
    "dem = DEM.from_file(tif_path)"
   ]
  },
  {
   "cell_type": "code",
   "execution_count": null,
   "id": "054df210",
   "metadata": {},
   "outputs": [],
   "source": [
    "xyz = dem.get_xyz_combined()\n",
    "xy = torch.from_numpy(xyz[:, :2]).float().to(device)\n",
    "z = torch.from_numpy(xyz[:, 2]).float().to(device)\n",
    "\n",
    "print(f\"Real LDEM data shape: xy={xy.shape}, z={z.shape}\")\n",
    "print(\n",
    "    f\"Coordinate ranges: X({xy[:, 0].min():.3f}, {xy[:, 0].max():.3f}), Y({xy[:, 1].min():.3f}, {xy[:, 1].max():.3f})\"\n",
    ")\n",
    "print(f\"Elevation range: Z({z.min():.3f}, {z.max():.3f})\")\n",
    "\n",
    "# Create new NEMoV2 instance\n",
    "nemov2 = NEMoV2(device=\"cuda\" if torch.cuda.is_available() else \"cpu\")\n",
    "\n",
    "# Test fitting with conservative settings\n",
    "print(\"\\nFitting NEMoV2 to real LDEM data...\")\n",
    "nemov2.fit(\n",
    "    xy,\n",
    "    z,\n",
    "    lr=1e-3,\n",
    "    max_epochs=5000,\n",
    "    batch_size=20000,\n",
    "    verbose=False,\n",
    "    early_stopping=False,\n",
    ")"
   ]
  },
  {
   "cell_type": "code",
   "execution_count": null,
   "id": "a1ef1c63",
   "metadata": {},
   "outputs": [],
   "source": [
    "from nemo.fit import DEMBicubic"
   ]
  },
  {
   "cell_type": "code",
   "execution_count": null,
   "id": "5bc34a11",
   "metadata": {},
   "outputs": [],
   "source": [
    "tif_path = Path(\"../../data/Site01_final_adj_5mpp_surf.tif\")\n",
    "dem = DEM.from_file(tif_path)\n",
    "XYZ = dem.data\n",
    "X = XYZ[:, :, 0]\n",
    "Y = XYZ[:, :, 1]\n",
    "Z = XYZ[:, :, 2]\n",
    "x = X[0, :]\n",
    "y = Y[:, 0]\n",
    "fitter = DEMBicubic(x, y, Z)\n",
    "print(\"Fit cubic spline to DEM\")\n",
    "\n",
    "X_flat = X.flatten()\n",
    "Y_flat = Y.flatten()\n",
    "Z_pred_flat = fitter(X_flat, Y_flat)\n",
    "height_error = np.abs(Z_pred_flat - Z.flatten())\n",
    "print(f\"Height MAE: {height_error.mean():.5f} m\")"
   ]
  },
  {
   "cell_type": "code",
   "execution_count": null,
   "id": "044af615",
   "metadata": {},
   "outputs": [],
   "source": [
    "Z_pred_flat"
   ]
  },
  {
   "cell_type": "code",
   "execution_count": null,
   "id": "8c01baa2",
   "metadata": {},
   "outputs": [],
   "source": [
    "Z.flatten()"
   ]
  },
  {
   "cell_type": "code",
   "execution_count": null,
   "id": "fc80c23d",
   "metadata": {},
   "outputs": [],
   "source": []
  }
 ],
 "metadata": {
  "kernelspec": {
   "display_name": "nemo",
   "language": "python",
   "name": "python3"
  },
  "language_info": {
   "codemirror_mode": {
    "name": "ipython",
    "version": 3
   },
   "file_extension": ".py",
   "mimetype": "text/x-python",
   "name": "python",
   "nbconvert_exporter": "python",
   "pygments_lexer": "ipython3",
   "version": "3.10.18"
  }
 },
 "nbformat": 4,
 "nbformat_minor": 5
}
