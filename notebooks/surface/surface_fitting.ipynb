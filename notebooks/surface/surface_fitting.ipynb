{
 "cells": [
  {
   "cell_type": "code",
   "execution_count": null,
   "id": "45cb2ccb",
   "metadata": {},
   "outputs": [],
   "source": [
    "import torch\n",
    "import numpy as np\n",
    "from pathlib import Path\n",
    "\n",
    "from nemo.util.plotting import plot_surface\n",
    "from nemo.dem import DEM\n",
    "from nemo.nemov2 import NEMoV2\n",
    "\n",
    "device = \"cuda\" if torch.cuda.is_available() else \"cpu\"\n",
    "\n",
    "%load_ext autoreload\n",
    "%autoreload 2"
   ]
  },
  {
   "cell_type": "code",
   "execution_count": null,
   "id": "4cae2184",
   "metadata": {},
   "outputs": [],
   "source": [
    "# Load the lunar DEM data\n",
    "dem = DEM.from_file(\"../../data/Moon_Map_01_0_rep0.dat\")\n",
    "\n",
    "# Downsample to manageable size for testing\n",
    "dem_ds = dem.downsample(1)  # Reduce from 180x180 to 45x45\n",
    "xyz = dem_ds.get_xyz_combined()\n",
    "xy = torch.from_numpy(xyz[:, :2]).float().to(device)\n",
    "z = torch.from_numpy(xyz[:, 2]).float().to(device)\n",
    "\n",
    "print(f\"Real LDEM data shape: xy={xy.shape}, z={z.shape}\")\n",
    "print(\n",
    "    f\"Coordinate ranges: X({xy[:, 0].min():.3f}, {xy[:, 0].max():.3f}), Y({xy[:, 1].min():.3f}, {xy[:, 1].max():.3f})\"\n",
    ")\n",
    "print(f\"Elevation range: Z({z.min():.3f}, {z.max():.3f})\")\n",
    "\n",
    "# Create new NEMoV2 instance\n",
    "nemov2 = NEMoV2(device=\"cuda\" if torch.cuda.is_available() else \"cpu\")\n",
    "\n",
    "# Test fitting with conservative settings\n",
    "print(\"\\nFitting NEMoV2 to real LDEM data...\")\n",
    "nemov2.fit(\n",
    "    xy,\n",
    "    z,\n",
    "    lr=1e-3,\n",
    "    max_epochs=5000,\n",
    "    batch_size=20000,\n",
    "    verbose=False,\n",
    "    early_stopping=False,\n",
    ")"
   ]
  },
  {
   "cell_type": "code",
   "execution_count": null,
   "id": "922fdeec",
   "metadata": {},
   "outputs": [],
   "source": [
    "pred_z = nemov2(xy)\n",
    "\n",
    "pred_grid = dem_ds.data.copy()\n",
    "pred_grid[:, :, 2] = (\n",
    "    pred_z.detach().cpu().numpy().reshape(dem_ds.data.shape[0], dem_ds.data.shape[1])\n",
    ")\n",
    "\n",
    "plot_surface(pred_grid)"
   ]
  },
  {
   "cell_type": "code",
   "execution_count": null,
   "id": "22997841",
   "metadata": {},
   "outputs": [],
   "source": [
    "plot_surface(dem_ds.data)"
   ]
  },
  {
   "cell_type": "code",
   "execution_count": null,
   "id": "e5ebf8d6",
   "metadata": {},
   "outputs": [],
   "source": [
    "plot_surface(xyz.reshape(dem_ds.data.shape))"
   ]
  },
  {
   "cell_type": "markdown",
   "id": "1cd7ce01",
   "metadata": {},
   "source": [
    "# LDEM"
   ]
  },
  {
   "cell_type": "code",
   "execution_count": null,
   "id": "a9c79f5c",
   "metadata": {},
   "outputs": [],
   "source": [
    "tif_path = Path(\"../../data/Site01_final_adj_5mpp_surf.tif\")\n",
    "dem = DEM.from_file(tif_path)"
   ]
  },
  {
   "cell_type": "code",
   "execution_count": null,
   "id": "054df210",
   "metadata": {},
   "outputs": [],
   "source": [
    "xyz = dem.get_xyz_combined()\n",
    "xy = torch.from_numpy(xyz[:, :2]).float().to(device)\n",
    "z = torch.from_numpy(xyz[:, 2]).float().to(device)\n",
    "\n",
    "print(f\"Real LDEM data shape: xy={xy.shape}, z={z.shape}\")\n",
    "print(\n",
    "    f\"Coordinate ranges: X({xy[:, 0].min():.3f}, {xy[:, 0].max():.3f}), Y({xy[:, 1].min():.3f}, {xy[:, 1].max():.3f})\"\n",
    ")\n",
    "print(f\"Elevation range: Z({z.min():.3f}, {z.max():.3f})\")\n",
    "\n",
    "# Create new NEMoV2 instance\n",
    "nemov2 = NEMoV2(device=\"cuda\" if torch.cuda.is_available() else \"cpu\")\n",
    "\n",
    "# Test fitting with conservative settings\n",
    "print(\"\\nFitting NEMoV2 to real LDEM data...\")\n",
    "nemov2.fit(\n",
    "    xy,\n",
    "    z,\n",
    "    lr=1e-3,\n",
    "    max_epochs=5000,\n",
    "    batch_size=20000,\n",
    "    verbose=False,\n",
    "    early_stopping=False,\n",
    ")"
   ]
  },
  {
   "cell_type": "code",
   "execution_count": null,
   "id": "5bc34a11",
   "metadata": {},
   "outputs": [],
   "source": []
  }
 ],
 "metadata": {
  "kernelspec": {
   "display_name": "nemo",
   "language": "python",
   "name": "python3"
  },
  "language_info": {
   "codemirror_mode": {
    "name": "ipython",
    "version": 3
   },
   "file_extension": ".py",
   "mimetype": "text/x-python",
   "name": "python",
   "nbconvert_exporter": "python",
   "pygments_lexer": "ipython3",
   "version": "3.10.18"
  }
 },
 "nbformat": 4,
 "nbformat_minor": 5
}
