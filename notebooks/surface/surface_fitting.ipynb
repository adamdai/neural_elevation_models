{
 "cells": [
  {
   "cell_type": "code",
   "execution_count": null,
   "id": "45cb2ccb",
   "metadata": {},
   "outputs": [],
   "source": [
    "import torch\n",
    "import numpy as np\n",
    "from pathlib import Path\n",
    "\n",
    "from nemo.util.plotting import plot_surface\n",
    "from nemo.field import NeuralHeightField\n",
    "from nemo.dem import DEM\n",
    "from nemo.nemov2 import NEMoV2\n",
    "\n",
    "device = \"cuda\" if torch.cuda.is_available() else \"cpu\"\n",
    "\n",
    "%load_ext autoreload\n",
    "%autoreload 2"
   ]
  },
  {
   "cell_type": "code",
   "execution_count": null,
   "id": "36723888",
   "metadata": {},
   "outputs": [],
   "source": [
    "tif_path = Path(\"../../data/Site01_final_adj_5mpp_surf.tif\")\n",
    "dem = DEM.from_file(tif_path)"
   ]
  },
  {
   "cell_type": "code",
   "execution_count": null,
   "id": "2895fbc0",
   "metadata": {},
   "outputs": [],
   "source": [
    "plot_dem = dem.downsample(10)"
   ]
  },
  {
   "cell_type": "code",
   "execution_count": null,
   "id": "4cae2184",
   "metadata": {},
   "outputs": [],
   "source": [
    "# Load the lunar DEM data\n",
    "dem = DEM.from_file(\"../../data/Moon_Map_01_0_rep0.dat\")\n",
    "\n",
    "# Downsample to manageable size for testing\n",
    "dem_ds = dem.downsample(1)  # Reduce from 180x180 to 45x45\n",
    "\n",
    "# Get XYZ data\n",
    "xyz = dem_ds.get_xyz_combined()\n",
    "\n",
    "# Convert to torch tensors and move to device\n",
    "device = \"cuda\" if torch.cuda.is_available() else \"cpu\"\n",
    "xy = torch.from_numpy(xyz[:, :2]).float().to(device)\n",
    "z = torch.from_numpy(xyz[:, 2]).float().to(device)\n",
    "\n",
    "print(f\"Real LDEM data shape: xy={xy.shape}, z={z.shape}\")\n",
    "print(\n",
    "    f\"Coordinate ranges: X({xy[:, 0].min():.3f}, {xy[:, 0].max():.3f}), Y({xy[:, 1].min():.3f}, {xy[:, 1].max():.3f})\"\n",
    ")\n",
    "print(f\"Elevation range: Z({z.min():.3f}, {z.max():.3f})\")\n",
    "\n",
    "# Create new NEMoV2 instance\n",
    "nemov2 = NEMoV2(device=\"cuda\" if torch.cuda.is_available() else \"cpu\")\n",
    "\n",
    "# Test fitting with conservative settings\n",
    "print(\"\\nFitting NEMoV2 to real LDEM data...\")\n",
    "losses = nemov2.fit(\n",
    "    xy,\n",
    "    z,\n",
    "    lr=1e-3,\n",
    "    max_epochs=5000,\n",
    "    batch_size=20000,\n",
    "    verbose=False,\n",
    "    early_stopping=False,\n",
    "    enable_spatial=False,\n",
    ")"
   ]
  },
  {
   "cell_type": "code",
   "execution_count": null,
   "id": "354197ca",
   "metadata": {},
   "outputs": [],
   "source": [
    "pred_z = nemov2(xy)\n",
    "target_z = torch.from_numpy(dem_ds.z_coords.flatten()).to(device)"
   ]
  },
  {
   "cell_type": "code",
   "execution_count": null,
   "id": "86ab1633",
   "metadata": {},
   "outputs": [],
   "source": [
    "pred_z, target_z"
   ]
  },
  {
   "cell_type": "code",
   "execution_count": null,
   "id": "81357949",
   "metadata": {},
   "outputs": [],
   "source": [
    "import torch.nn as nn\n",
    "\n",
    "criterion = nn.MSELoss()\n",
    "loss = criterion(pred_z, target_z)\n",
    "print(loss.item())"
   ]
  },
  {
   "cell_type": "code",
   "execution_count": null,
   "id": "922fdeec",
   "metadata": {},
   "outputs": [],
   "source": [
    "pred_z = nemov2(xy)\n",
    "\n",
    "pred_grid = dem_ds.data.copy()\n",
    "pred_grid[:, :, 2] = (\n",
    "    pred_z.detach().cpu().numpy().reshape(dem_ds.data.shape[0], dem_ds.data.shape[1])\n",
    ")\n",
    "\n",
    "plot_surface(pred_grid)"
   ]
  },
  {
   "cell_type": "code",
   "execution_count": null,
   "id": "22997841",
   "metadata": {},
   "outputs": [],
   "source": [
    "plot_surface(dem_ds.data)"
   ]
  },
  {
   "cell_type": "code",
   "execution_count": null,
   "id": "e5ebf8d6",
   "metadata": {},
   "outputs": [],
   "source": [
    "plot_surface(xyz.reshape(dem_ds.data.shape))"
   ]
  },
  {
   "cell_type": "markdown",
   "id": "1cd7ce01",
   "metadata": {},
   "source": [
    "# ---"
   ]
  },
  {
   "cell_type": "code",
   "execution_count": null,
   "id": "a95a6f0f",
   "metadata": {},
   "outputs": [],
   "source": [
    "dem_path = \"../../data/Moon_Map_01_0_rep0.dat\"\n",
    "dem = np.load(dem_path, allow_pickle=True)"
   ]
  },
  {
   "cell_type": "code",
   "execution_count": null,
   "id": "8290d7b3",
   "metadata": {},
   "outputs": [],
   "source": [
    "plot_surface(dem)"
   ]
  },
  {
   "cell_type": "code",
   "execution_count": null,
   "id": "090f0048",
   "metadata": {},
   "outputs": [],
   "source": [
    "# Reshape DEM data from (180, 180, 3) to (N, 3) where N = 180*180\n",
    "dem_reshaped = dem[:, :, :3].reshape(-1, 3)  # Flatten spatial dimensions\n",
    "\n",
    "# Convert to torch tensor and move to CUDA\n",
    "dem_tensor = torch.from_numpy(dem_reshaped).float().to(device)\n",
    "\n",
    "# Split into input (x,y) and target (z) tensors\n",
    "xy = dem_tensor[:, :2]  # First two columns are x,y coordinates\n",
    "z = dem_tensor[:, 2]  # Third column is the height value\n",
    "xyz = torch.cat([xy, z.unsqueeze(1)], dim=1)"
   ]
  },
  {
   "cell_type": "code",
   "execution_count": null,
   "id": "4c01bb8a",
   "metadata": {},
   "outputs": [],
   "source": [
    "field = NeuralHeightField(in_dim=2, encoding_type=\"nerf\").to(device)"
   ]
  },
  {
   "cell_type": "code",
   "execution_count": null,
   "id": "86164e7f",
   "metadata": {},
   "outputs": [],
   "source": [
    "field.fit(xyz, grad_weight=0.0)"
   ]
  },
  {
   "cell_type": "code",
   "execution_count": null,
   "id": "adfa6870",
   "metadata": {},
   "outputs": [],
   "source": [
    "field_z = field(xy)\n",
    "field_dem = dem.copy()\n",
    "field_dem[:, :, 2] = field_z.reshape(180, 180).detach().cpu().numpy()"
   ]
  },
  {
   "cell_type": "code",
   "execution_count": null,
   "id": "641be760",
   "metadata": {},
   "outputs": [],
   "source": [
    "plot_surface(field_dem)"
   ]
  },
  {
   "cell_type": "markdown",
   "id": "4e46d965",
   "metadata": {},
   "source": [
    "LDEM"
   ]
  },
  {
   "cell_type": "code",
   "execution_count": null,
   "id": "cc01cea8",
   "metadata": {},
   "outputs": [],
   "source": [
    "tif_path = Path(\"../../data/Site01_final_adj_5mpp_surf.tif\")\n",
    "dem = DEM.from_file(tif_path)"
   ]
  },
  {
   "cell_type": "code",
   "execution_count": null,
   "id": "e91472fd",
   "metadata": {},
   "outputs": [],
   "source": [
    "plot_dem = dem.downsample(10)"
   ]
  },
  {
   "cell_type": "code",
   "execution_count": null,
   "id": "0cfa01a4",
   "metadata": {},
   "outputs": [],
   "source": [
    "plot_surface(plot_dem.data)"
   ]
  },
  {
   "cell_type": "code",
   "execution_count": null,
   "id": "dac8a5a7",
   "metadata": {},
   "outputs": [],
   "source": [
    "import tinycudann as tcnn\n",
    "from nemo.nemo import Nemo\n",
    "from nemo.nemov2 import NEMoV2"
   ]
  },
  {
   "cell_type": "code",
   "execution_count": null,
   "id": "00e83aa8",
   "metadata": {},
   "outputs": [],
   "source": [
    "plot_dem.data[:, :, :2].shape"
   ]
  },
  {
   "cell_type": "code",
   "execution_count": null,
   "id": "856748df",
   "metadata": {},
   "outputs": [],
   "source": [
    "nemo = NEMoV2()\n",
    "\n",
    "xy = torch.from_numpy(plot_dem.data[:, :, :2]).reshape(-1, 2).to(device)\n",
    "z = torch.from_numpy(plot_dem.data[:, :, 2]).reshape(-1, 1).to(device)\n",
    "\n",
    "nemo.fit(xy, z, verbose=False)"
   ]
  },
  {
   "cell_type": "code",
   "execution_count": null,
   "id": "054df210",
   "metadata": {},
   "outputs": [],
   "source": []
  }
 ],
 "metadata": {
  "kernelspec": {
   "display_name": "nemo",
   "language": "python",
   "name": "python3"
  },
  "language_info": {
   "codemirror_mode": {
    "name": "ipython",
    "version": 3
   },
   "file_extension": ".py",
   "mimetype": "text/x-python",
   "name": "python",
   "nbconvert_exporter": "python",
   "pygments_lexer": "ipython3",
   "version": "3.10.18"
  }
 },
 "nbformat": 4,
 "nbformat_minor": 5
}
