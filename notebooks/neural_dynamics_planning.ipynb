{
 "cells": [
  {
   "cell_type": "code",
   "execution_count": null,
   "metadata": {},
   "outputs": [],
   "source": [
    "import numpy as np\n",
    "import plotly.graph_objects as go\n",
    "\n",
    "import torch\n",
    "import torch.nn as nn\n",
    "import torch.nn.functional as F\n",
    "\n",
    "from torchvision.ops import MLP\n",
    "\n",
    "device = torch.device(\"cuda\" if torch.cuda.is_available() else \"cpu\")\n",
    "\n",
    "# autoreload\n",
    "%load_ext autoreload\n",
    "%autoreload 2"
   ]
  },
  {
   "cell_type": "markdown",
   "metadata": {},
   "source": [
    "Learn the dynamics $\\frac{\\partial p}{\\partial t}$ of the path "
   ]
  },
  {
   "cell_type": "code",
   "execution_count": null,
   "metadata": {},
   "outputs": [],
   "source": [
    "dyn = MLP(in_channels=1, hidden_channels=[256, 256, 2]).to(device)\n",
    "\n",
    "x_0 = torch.tensor([0.0, 0.0], device=device)\n",
    "\n",
    "# Integrate the dynamics from t=0 to 1\n",
    "T = torch.linspace(0, 1, 100, device=device)[:,None]\n",
    "dx = dyn(T)\n",
    "x = torch.cumsum(dx, dim=0) + x_0\n",
    "\n",
    "fig = go.Figure()\n",
    "fig.add_trace(go.Scatter(x=x[:, 0].detach().cpu().numpy(), y=x[:, 1].detach().cpu().numpy(), mode='markers+lines'))\n",
    "fig.update_layout(width=500, height=500, scene_aspectmode='data')\n",
    "fig.show()"
   ]
  },
  {
   "cell_type": "markdown",
   "metadata": {},
   "source": [
    "Add a cost for reaching a target point $x_f$ at terminal time."
   ]
  },
  {
   "cell_type": "code",
   "execution_count": null,
   "metadata": {},
   "outputs": [],
   "source": [
    "# Train the dynamics to reach the goal\n",
    "criterion = nn.MSELoss()\n",
    "optimizer = torch.optim.Adam(dyn.parameters(), lr=1e-3)\n",
    "\n",
    "x_f = torch.tensor([1.0, 1.0], device=device)\n",
    "\n",
    "for i in range(500):\n",
    "    dx = dyn(T)\n",
    "    loss = criterion(torch.sum(dx, dim=0), x_f)\n",
    "    \n",
    "    optimizer.zero_grad()\n",
    "    loss.backward()\n",
    "    optimizer.step()\n",
    "    \n",
    "    if i % 100 == 0:\n",
    "        print(f'Loss: {loss.item()}')"
   ]
  },
  {
   "cell_type": "code",
   "execution_count": null,
   "metadata": {},
   "outputs": [],
   "source": [
    "with torch.no_grad():\n",
    "    dx = dyn(T)\n",
    "x = torch.cumsum(dx, dim=0) + x_0\n",
    "\n",
    "fig = go.Figure()\n",
    "fig.add_trace(go.Scatter(x=x[:, 0].detach().cpu().numpy(), y=x[:, 1].detach().cpu().numpy(), mode='markers+lines'))\n",
    "fig.update_layout(width=500, height=500, scene_aspectmode='data')\n",
    "fig.show()"
   ]
  },
  {
   "cell_type": "markdown",
   "metadata": {},
   "source": [
    "Add a cost for minimizing arc length (integral of velocity)"
   ]
  },
  {
   "cell_type": "code",
   "execution_count": null,
   "metadata": {},
   "outputs": [],
   "source": [
    "# Minimize distance\n",
    "\n",
    "for i in range(500):\n",
    "    dx = dyn(T)\n",
    "    goal_loss = criterion(torch.sum(dx, dim=0), x_f)\n",
    "    dist_loss = torch.norm(dx, dim=1).nanmean()\n",
    "    loss = goal_loss + dist_loss\n",
    "    \n",
    "    optimizer.zero_grad()\n",
    "    loss.backward()\n",
    "    optimizer.step()\n",
    "    \n",
    "    if i % 100 == 0:\n",
    "        print(f'Loss: {loss.item()}')"
   ]
  },
  {
   "cell_type": "code",
   "execution_count": null,
   "metadata": {},
   "outputs": [],
   "source": [
    "with torch.no_grad():\n",
    "    dx = dyn(T)\n",
    "x = torch.cumsum(dx, dim=0) + x_0\n",
    "\n",
    "fig = go.Figure()\n",
    "fig.add_trace(go.Scatter(x=x[:, 0].detach().cpu().numpy(), y=x[:, 1].detach().cpu().numpy(), mode='markers+lines'))\n",
    "fig.update_layout(width=500, height=500, scene_aspectmode='data')\n",
    "fig.show()"
   ]
  },
  {
   "cell_type": "markdown",
   "metadata": {},
   "source": [
    "Now add another loss based on a scalar cost field"
   ]
  },
  {
   "cell_type": "code",
   "execution_count": null,
   "metadata": {},
   "outputs": [],
   "source": [
    "# Train the dynamics to minimize cost over a scalar field\n",
    "\n",
    "def cost(x):\n",
    "    return F.relu(1.0 - torch.norm(x - torch.tensor([0.5, 0.5], device=device), dim=1))"
   ]
  },
  {
   "cell_type": "code",
   "execution_count": null,
   "metadata": {},
   "outputs": [],
   "source": [
    "# Plot cost samples\n",
    "samples = torch.rand(1000, 2, device=device)\n",
    "costs = cost(samples)\n",
    "\n",
    "fig = go.Figure()\n",
    "fig.add_trace(go.Scatter(x=samples[:, 0].detach().cpu().numpy(), y=samples[:, 1].detach().cpu().numpy(), mode='markers', marker=dict(color=costs.detach().cpu().numpy(), colorscale='Viridis')))\n",
    "fig.update_layout(width=500, height=500, scene_aspectmode='data')\n",
    "fig.show()"
   ]
  },
  {
   "cell_type": "code",
   "execution_count": null,
   "metadata": {},
   "outputs": [],
   "source": [
    "for i in range(500):\n",
    "    dx = dyn(T)\n",
    "    path = torch.cumsum(dx, dim=0) + x_0\n",
    "    goal_loss = 1e2 * criterion(path[-1], x_f)\n",
    "    dist_loss = torch.norm(dx, dim=1).nanmean()\n",
    "    cost_loss = 1e-4 * cost(path).mean()\n",
    "    loss = goal_loss + dist_loss + cost_loss\n",
    "    \n",
    "    optimizer.zero_grad()\n",
    "    loss.backward()\n",
    "    optimizer.step()\n",
    "    \n",
    "    if i % 100 == 0:\n",
    "        print(f'Loss: {loss.item()}')"
   ]
  },
  {
   "cell_type": "code",
   "execution_count": null,
   "metadata": {},
   "outputs": [],
   "source": [
    "with torch.no_grad():\n",
    "    dx = dyn(T)\n",
    "path = torch.cumsum(dx, dim=0) + x_0\n",
    "\n",
    "fig = go.Figure()\n",
    "fig.add_trace(go.Scatter(x=path[:, 0].detach().cpu().numpy(), y=path[:, 1].detach().cpu().numpy(), mode='markers+lines'))\n",
    "fig.update_layout(width=500, height=500, scene_aspectmode='data')\n",
    "fig.show()"
   ]
  },
  {
   "cell_type": "code",
   "execution_count": null,
   "metadata": {},
   "outputs": [],
   "source": []
  }
 ],
 "metadata": {
  "kernelspec": {
   "display_name": "nem",
   "language": "python",
   "name": "python3"
  },
  "language_info": {
   "codemirror_mode": {
    "name": "ipython",
    "version": 3
   },
   "file_extension": ".py",
   "mimetype": "text/x-python",
   "name": "python",
   "nbconvert_exporter": "python",
   "pygments_lexer": "ipython3",
   "version": "3.8.18"
  }
 },
 "nbformat": 4,
 "nbformat_minor": 2
}
